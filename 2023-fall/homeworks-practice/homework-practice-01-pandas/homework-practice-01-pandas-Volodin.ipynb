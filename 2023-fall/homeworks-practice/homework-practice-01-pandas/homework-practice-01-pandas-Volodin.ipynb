{
 "cells": [
  {
   "cell_type": "markdown",
   "metadata": {
    "id": "HcF9My_FhLuk"
   },
   "source": [
    "## Машинное обучение 1, ПМИ ФКН ВШЭ\n",
    "\n",
    "## Практическое домашнее задание 1\n",
    "\n",
    "### Общая информация\n",
    "\n",
    "Дата выдачи: 19.09.2023\n",
    "\n",
    "Мягкий дедлайн: 23:59MSK 02.10.2023\n",
    "\n",
    "Жесткий дедлайн: 23:59MSK 06.10.2023"
   ]
  },
  {
   "cell_type": "markdown",
   "metadata": {
    "id": "G64TptyJhLuo"
   },
   "source": [
    "### О задании\n",
    "\n",
    "Задание состоит из двух разделов, посвященных работе с табличными данными с помощью библиотеки pandas и визуализации с помощью matplotlib. В первом разделе вам предстоит выполнить базовые задания с помощью вышеуказанных библиотек, а во втором распределить студентов по курсам. Баллы даются за выполнение отдельных пунктов. Задачи в рамках одного раздела рекомендуется решать в том порядке, в котором они даны в задании.\n",
    "\n",
    "Задание направлено на освоение jupyter notebook (будет использоваться в дальнейших заданиях), библиотек pandas и matplotlib.\n",
    "\n",
    "### Оценивание и штрафы\n",
    "Каждая из задач имеет определенную «стоимость» (указана в скобках около задачи). Максимально допустимая оценка за работу — 10 баллов.\n",
    "\n",
    "Сдавать задание после жёсткого дедлайна нельзя. При выставлении неполного балла за задание в связи с наличием ошибок на усмотрение проверяющего предусмотрена возможность исправить работу на указанных в ответном письме условиях.\n",
    "\n",
    "Задание выполняется самостоятельно. «Похожие» решения считаются плагиатом и все задействованные студенты (в том числе те, у кого списали) не могут получить за него больше 0 баллов (подробнее о плагиате см. на странице курса). Если вы нашли решение какого-то из заданий (или его часть) в открытом источнике, необходимо указать ссылку на этот источник (скорее всего вы будете не единственным, кто это нашел, поэтому чтобы исключить подозрение в плагиате, необходима ссылка на источник).\n",
    "\n",
    "### Формат сдачи\n",
    "Задания сдаются через систему Anytask. Инвайт можно получить у семинариста или ассистента. Присылать необходимо ноутбук с выполненным заданием. Сам ноутбук называйте в формате homework-practice-01-pandas-Username.ipynb, где Username — ваша фамилия.\n",
    "\n",
    "Для удобства проверки самостоятельно посчитайте свою максимальную оценку (исходя из набора решенных задач) и укажите ниже.\n",
    "\n",
    "Оценка: xx."
   ]
  },
  {
   "cell_type": "markdown",
   "metadata": {
    "id": "BaXlfHE_hLup"
   },
   "source": [
    "## 0. Введение"
   ]
  },
  {
   "cell_type": "markdown",
   "metadata": {
    "id": "wirAvJNxhLup"
   },
   "source": [
    "Сейчас мы находимся в jupyter-ноутбуке (или ipython-ноутбуке). Это удобная среда для написания кода, проведения экспериментов, изучения данных, построения визуализаций и других нужд, не связанных с написанием production-кода. \n",
    "\n",
    "Ноутбук состоит из ячеек, каждая из которых может быть либо ячейкой с кодом, либо ячейкой с текстом размеченным и неразмеченным. Текст поддерживает markdown-разметку и формулы в Latex.\n",
    "\n",
    "Для работы с содержимым ячейки используется *режим редактирования* (*Edit mode*, включается нажатием клавиши **Enter** после выбора ячейки), а для навигации между ячейками искользуется *командный режим* (*Command mode*, включается нажатием клавиши **Esc**). Тип ячейки можно задать в командном режиме либо с помощью горячих клавиш (**y** to code, **m** to markdown, **r** to edit raw text), либо в меню *Cell -> Cell type*. \n",
    "\n",
    "После заполнения ячейки нужно нажать *Shift + Enter*, эта команда обработает содержимое ячейки: проинтерпретирует код или сверстает размеченный текст."
   ]
  },
  {
   "cell_type": "code",
   "execution_count": null,
   "metadata": {
    "id": "aQ2_j3nkhLuq"
   },
   "outputs": [],
   "source": [
    "# ячейка с кодом, при выполнении которой появится output\n",
    "2 + 2"
   ]
  },
  {
   "cell_type": "markdown",
   "metadata": {
    "id": "ZlulCwVKhLur"
   },
   "source": [
    "Ячейка с неразмеченным текстом."
   ]
  },
  {
   "cell_type": "markdown",
   "metadata": {
    "id": "A4wkVlIehLur"
   },
   "source": [
    "Попробуйте создать свои ячейки, написать какой-нибудь код и текст какой-нибудь формулой."
   ]
  },
  {
   "cell_type": "code",
   "execution_count": null,
   "metadata": {
    "id": "BIuaYSvqhLus"
   },
   "outputs": [],
   "source": [
    "# your code"
   ]
  },
  {
   "cell_type": "markdown",
   "metadata": {
    "id": "iWs6ljrIhLus"
   },
   "source": [
    "[Здесь](https://athena.brynmawr.edu/jupyter/hub/dblank/public/Jupyter%20Notebook%20Users%20Manual.ipynb) находится <s>не</s>большая заметка о используемом языке разметки Markdown. Он позволяет:\n",
    "\n",
    "0. Составлять упорядоченные списки\n",
    "1. Выделять *текст* <s>при</s> **необходимости**\n",
    "2. Добавлять [ссылки](http://imgs.xkcd.com/comics/the_universal_label.png)\n",
    "\n",
    "\n",
    "* Составлять неупорядоченные списки\n",
    "\n",
    "Делать вставки с помощью LaTex:\n",
    "    \n",
    "$\n",
    "\\left\\{\n",
    "\\begin{array}{ll}\n",
    "x = 16 \\sin^3 (t) \\\\ \n",
    "y = 13 \\cos (t) - 5 \\cos (2t) - 2 \\cos (3t) - \\cos (4t) \\\\\n",
    "t \\in [0, 2 \\pi]\n",
    "\\end{array}\n",
    "\\right.$"
   ]
  },
  {
   "cell_type": "markdown",
   "metadata": {
    "id": "6fmTGcXOhLus"
   },
   "source": [
    "А ещё можно вставлять картинки, или гифки, или что захотите:\n",
    "\n",
    "<img src=\"https://media1.tenor.com/images/9b8fbe9214504bcf6c60fe4e4f7e114e/tenor.gif?itemid=5416416\" style=\"width: 400px\">"
   ]
  },
  {
   "cell_type": "markdown",
   "metadata": {
    "id": "J_toGw7DhLut"
   },
   "source": [
    "### Google Colab"
   ]
  },
  {
   "cell_type": "markdown",
   "metadata": {
    "id": "jpkbCVjGhLut"
   },
   "source": [
    "Что за колаб? \n",
    "\n",
    "**Google Colab (Colaboratory)** это **Jupyter Notebook + Cloud + Google Drive.**\n",
    "\n",
    "Компания Google предоставляет возможность бесплатно запускать ноутбуки (предварительно загрузив их на свой гугл-диск) прямо в облаке. При этом вам не требуется установка никаких пакетов на свою машину, а работать можно прямиком из браузера. Вот ссылка:"
   ]
  },
  {
   "cell_type": "markdown",
   "metadata": {
    "id": "06MQog3yhLut"
   },
   "source": [
    "https://colab.research.google.com"
   ]
  },
  {
   "cell_type": "markdown",
   "metadata": {
    "id": "5_hfWXKPhLut"
   },
   "source": [
    "При использовании вы увидете много сходств с jupyter ноутбуком. Одним из преимуществ является доступность GPU, соответствующую опцию можно активировать в настройках сервиса. При желании вы сможете найти в интернете много туториалов по использованию или разобраться самостоятельно =)"
   ]
  },
  {
   "cell_type": "markdown",
   "metadata": {
    "id": "sUe2vnFGhLuu"
   },
   "source": [
    "## 1. Табличные данные и Pandas"
   ]
  },
  {
   "cell_type": "markdown",
   "metadata": {
    "id": "DJQzjjqJhLuu"
   },
   "source": [
    "Pandas — удобная библиотека для работы с табличными данными в Python, если данных не слишком много и они помещаются в оперативную память вашего компьютера. Несмотря на неэффективность реализации и некоторые проблемы, библиотека стала стандартом в анализе данных.\n",
    "\n",
    "Основной объект в pandas — это DataFrame, представляющий собой таблицу с именованными колонками различных типов, индексом (может быть многоуровневым). DataFrame можно создавать, считывая таблицу из файла или задавая вручную из других объектов.\n",
    "\n",
    "В этой части потребуется выполнить несколько небольших заданий. Можно пойти двумя путями: сначала изучить материалы, а потом приступить к заданиям, или же разбираться \"по ходу\". Выбирайте сами.\n",
    "\n",
    "Материалы:\n",
    "1. [Pandas за 10 минут из официального руководства](http://pandas.pydata.org/pandas-docs/stable/10min.html)\n",
    "2. [Документация](http://pandas.pydata.org/pandas-docs/stable/index.html) (стоит обращаться, если не понятно, как вызывать конкретный метод)\n",
    "3. [Примеры использования функционала](http://nbviewer.jupyter.org/github/justmarkham/pandas-videos/blob/master/pandas.ipynb)\n",
    "\n",
    "Многие из заданий можно выполнить несколькими способами. Не существуют единственно верного, но попробуйте максимально задействовать арсенал pandas и ориентируйтесь на простоту и понятность вашего кода. Мы не будем подсказывать, что нужно использовать для решения конкретной задачи, попробуйте находить необходимый функционал сами (название метода чаще всего очевидно). В помощь вам документация, поиск и stackoverflow."
   ]
  },
  {
   "cell_type": "code",
   "execution_count": 2,
   "metadata": {
    "id": "26zbFY25hLuv",
    "outputId": "404c22c6-2696-48ab-c71e-7a3ffbc36b18"
   },
   "outputs": [
    {
     "name": "stdout",
     "output_type": "stream",
     "text": [
      "%pylab is deprecated, use %matplotlib inline and import the required libraries.\n",
      "Populating the interactive namespace from numpy and matplotlib\n"
     ]
    }
   ],
   "source": [
    "%pylab inline\n",
    "import numpy as np\n",
    "import pandas as pd\n",
    "from IPython.display import display"
   ]
  },
  {
   "cell_type": "markdown",
   "metadata": {},
   "source": [
    "<span style=\"color:red\">Перед выполнением задания необходимо ознакомиться с первым семинаром (seminars/sem01-pandas.ipynb) </span>.\n",
    "\n",
    "Это поможет вам получить общее понимание происходяшего и успешнее справиться с заданием.\n",
    "\n",
    "Также успешному выполнению способствует внимательное чтение текста задания от начала до конца.\n",
    "\n",
    "Удачи!"
   ]
  },
  {
   "cell_type": "markdown",
   "metadata": {
    "id": "dneJl9TyhLuv"
   },
   "source": [
    "Скачаем подготовленные на семинаре данные:"
   ]
  },
  {
   "cell_type": "code",
   "execution_count": 3,
   "metadata": {
    "id": "rj_I0RslhLuw"
   },
   "outputs": [],
   "source": [
    "!wget  -O 'end_seminar.xlsx' -q 'https://www.dropbox.com/s/f4rm8sjc3v99p0m/_end_seminar.xlsx?dl=0'"
   ]
  },
  {
   "cell_type": "markdown",
   "metadata": {
    "id": "5hp7bn_ThLuw"
   },
   "source": [
    "Для пользователей Windows: скачайте файл самостоятельно и поместите его в папку с тетрадкой. Или попробуйте один из следующих вариантов:"
   ]
  },
  {
   "cell_type": "code",
   "execution_count": null,
   "metadata": {
    "id": "4h4_BaX8hLuw"
   },
   "outputs": [],
   "source": [
    "# !powershell iwr -outf somefile https://somesite/somefile"
   ]
  },
  {
   "cell_type": "code",
   "execution_count": null,
   "metadata": {
    "id": "7bHroLGChLuw"
   },
   "outputs": [],
   "source": [
    "# !pip install wget\n",
    "# import wget \n",
    "# wget.download('https://dropbox.com/s/f4rm8sjc3v99p0m/_end_seminar.xlsx?dl=1', 'end_seminar.xlsx')"
   ]
  },
  {
   "cell_type": "markdown",
   "metadata": {
    "id": "VFs_6IythLux"
   },
   "source": [
    "##### В первой части задания (до раздела \"Распределение студентов по курсам\") использование циклов запрещается и повлечет за собой снижение оценки. Использование <code>vectorize</code> и  <code>apply</code>, <code>apply_along_axis</code> крайне нежелательно."
   ]
  },
  {
   "cell_type": "markdown",
   "metadata": {
    "id": "shFkfJkohLux"
   },
   "source": [
    "Для каждой задачи из этого раздела вы должны написать код для получения ответа, а также дать текстовый ответ, если он предполагается.\n",
    "\n",
    "На некоторые вопросы вы можете получить путём пристального взгляда на таблицу, но это не будет засчитываться. Вы в любом случае должны получить ответ с помощью кода."
   ]
  },
  {
   "cell_type": "markdown",
   "metadata": {
    "id": "gDD85M7bhLux"
   },
   "source": [
    "#### 1. [0 баллов] Откройте файл с таблицей (не забудьте про её формат). Выведите последние 10 строк.\n",
    "\n",
    "Посмотрите на данные и скажите, что они из себя представляют, сколько в таблице строк, какие столбцы? (на это не надо отвечать, просто подумайте об этом)"
   ]
  },
  {
   "cell_type": "code",
   "execution_count": 4,
   "metadata": {
    "id": "PKulur3LhLuy"
   },
   "outputs": [
    {
     "data": {
      "text/html": [
       "<div>\n",
       "<style scoped>\n",
       "    .dataframe tbody tr th:only-of-type {\n",
       "        vertical-align: middle;\n",
       "    }\n",
       "\n",
       "    .dataframe tbody tr th {\n",
       "        vertical-align: top;\n",
       "    }\n",
       "\n",
       "    .dataframe thead th {\n",
       "        text-align: right;\n",
       "    }\n",
       "</style>\n",
       "<table border=\"1\" class=\"dataframe\">\n",
       "  <thead>\n",
       "    <tr style=\"text-align: right;\">\n",
       "      <th></th>\n",
       "      <th>timestamp</th>\n",
       "      <th>rating</th>\n",
       "      <th>18_group</th>\n",
       "      <th>is_mi</th>\n",
       "      <th>percentile</th>\n",
       "      <th>17_group</th>\n",
       "      <th>is_ml_student</th>\n",
       "    </tr>\n",
       "  </thead>\n",
       "  <tbody>\n",
       "    <tr>\n",
       "      <th>count</th>\n",
       "      <td>361</td>\n",
       "      <td>361.000000</td>\n",
       "      <td>223.000000</td>\n",
       "      <td>18.0</td>\n",
       "      <td>361.000000</td>\n",
       "      <td>138.000000</td>\n",
       "      <td>57.0</td>\n",
       "    </tr>\n",
       "    <tr>\n",
       "      <th>mean</th>\n",
       "      <td>2020-05-18 05:47:44.605210368</td>\n",
       "      <td>833.346260</td>\n",
       "      <td>184.520179</td>\n",
       "      <td>1.0</td>\n",
       "      <td>0.497230</td>\n",
       "      <td>173.355072</td>\n",
       "      <td>1.0</td>\n",
       "    </tr>\n",
       "    <tr>\n",
       "      <th>min</th>\n",
       "      <td>2020-05-14 20:23:21.662000</td>\n",
       "      <td>495.000000</td>\n",
       "      <td>181.000000</td>\n",
       "      <td>1.0</td>\n",
       "      <td>0.000000</td>\n",
       "      <td>171.000000</td>\n",
       "      <td>1.0</td>\n",
       "    </tr>\n",
       "    <tr>\n",
       "      <th>25%</th>\n",
       "      <td>2020-05-17 17:40:31.867000064</td>\n",
       "      <td>613.000000</td>\n",
       "      <td>183.000000</td>\n",
       "      <td>1.0</td>\n",
       "      <td>0.246637</td>\n",
       "      <td>172.000000</td>\n",
       "      <td>1.0</td>\n",
       "    </tr>\n",
       "    <tr>\n",
       "      <th>50%</th>\n",
       "      <td>2020-05-18 19:23:38.273999872</td>\n",
       "      <td>697.000000</td>\n",
       "      <td>185.000000</td>\n",
       "      <td>1.0</td>\n",
       "      <td>0.497758</td>\n",
       "      <td>173.000000</td>\n",
       "      <td>1.0</td>\n",
       "    </tr>\n",
       "    <tr>\n",
       "      <th>75%</th>\n",
       "      <td>2020-05-18 22:24:55.160000</td>\n",
       "      <td>1111.000000</td>\n",
       "      <td>187.000000</td>\n",
       "      <td>1.0</td>\n",
       "      <td>0.746377</td>\n",
       "      <td>175.000000</td>\n",
       "      <td>1.0</td>\n",
       "    </tr>\n",
       "    <tr>\n",
       "      <th>max</th>\n",
       "      <td>2020-05-24 01:23:31.946000</td>\n",
       "      <td>1457.000000</td>\n",
       "      <td>188.000000</td>\n",
       "      <td>1.0</td>\n",
       "      <td>0.995516</td>\n",
       "      <td>177.000000</td>\n",
       "      <td>1.0</td>\n",
       "    </tr>\n",
       "    <tr>\n",
       "      <th>std</th>\n",
       "      <td>NaN</td>\n",
       "      <td>266.665103</td>\n",
       "      <td>2.271701</td>\n",
       "      <td>0.0</td>\n",
       "      <td>0.289071</td>\n",
       "      <td>1.795374</td>\n",
       "      <td>0.0</td>\n",
       "    </tr>\n",
       "  </tbody>\n",
       "</table>\n",
       "</div>"
      ],
      "text/plain": [
       "                           timestamp       rating    18_group  is_mi  \\\n",
       "count                            361   361.000000  223.000000   18.0   \n",
       "mean   2020-05-18 05:47:44.605210368   833.346260  184.520179    1.0   \n",
       "min       2020-05-14 20:23:21.662000   495.000000  181.000000    1.0   \n",
       "25%    2020-05-17 17:40:31.867000064   613.000000  183.000000    1.0   \n",
       "50%    2020-05-18 19:23:38.273999872   697.000000  185.000000    1.0   \n",
       "75%       2020-05-18 22:24:55.160000  1111.000000  187.000000    1.0   \n",
       "max       2020-05-24 01:23:31.946000  1457.000000  188.000000    1.0   \n",
       "std                              NaN   266.665103    2.271701    0.0   \n",
       "\n",
       "       percentile    17_group  is_ml_student  \n",
       "count  361.000000  138.000000           57.0  \n",
       "mean     0.497230  173.355072            1.0  \n",
       "min      0.000000  171.000000            1.0  \n",
       "25%      0.246637  172.000000            1.0  \n",
       "50%      0.497758  173.000000            1.0  \n",
       "75%      0.746377  175.000000            1.0  \n",
       "max      0.995516  177.000000            1.0  \n",
       "std      0.289071    1.795374            0.0  "
      ]
     },
     "metadata": {},
     "output_type": "display_data"
    },
    {
     "data": {
      "text/html": [
       "<div>\n",
       "<style scoped>\n",
       "    .dataframe tbody tr th:only-of-type {\n",
       "        vertical-align: middle;\n",
       "    }\n",
       "\n",
       "    .dataframe tbody tr th {\n",
       "        vertical-align: top;\n",
       "    }\n",
       "\n",
       "    .dataframe thead th {\n",
       "        text-align: right;\n",
       "    }\n",
       "</style>\n",
       "<table border=\"1\" class=\"dataframe\">\n",
       "  <thead>\n",
       "    <tr style=\"text-align: right;\">\n",
       "      <th></th>\n",
       "      <th>timestamp</th>\n",
       "      <th>id</th>\n",
       "      <th>rating</th>\n",
       "      <th>18_group</th>\n",
       "      <th>is_mi</th>\n",
       "      <th>fall_1</th>\n",
       "      <th>fall_2</th>\n",
       "      <th>fall_3</th>\n",
       "      <th>spring_1</th>\n",
       "      <th>spring_2</th>\n",
       "      <th>spring_3</th>\n",
       "      <th>is_first_time</th>\n",
       "      <th>percentile</th>\n",
       "      <th>17_group</th>\n",
       "      <th>blended</th>\n",
       "      <th>is_ml_student</th>\n",
       "    </tr>\n",
       "  </thead>\n",
       "  <tbody>\n",
       "    <tr>\n",
       "      <th>261</th>\n",
       "      <td>2020-05-17 16:17:12.292</td>\n",
       "      <td>2e04f9bc8796f095ed7b9c7941df91a6</td>\n",
       "      <td>1077</td>\n",
       "      <td>NaN</td>\n",
       "      <td>NaN</td>\n",
       "      <td>Сбор и обработка данных с помощью краудсорсинга</td>\n",
       "      <td>Анализ неструктурированных данных</td>\n",
       "      <td>Глубинное обучение в обработке звука</td>\n",
       "      <td>Обучение с подкреплением</td>\n",
       "      <td>Конфликты и кооперация</td>\n",
       "      <td>Компьютерное зрение</td>\n",
       "      <td>Да</td>\n",
       "      <td>0.797101</td>\n",
       "      <td>172.0</td>\n",
       "      <td>Соревновательный анализ данных</td>\n",
       "      <td>NaN</td>\n",
       "    </tr>\n",
       "    <tr>\n",
       "      <th>210</th>\n",
       "      <td>2020-05-19 00:22:56.525</td>\n",
       "      <td>04f9a2dd035a040318ecd064959df3a0</td>\n",
       "      <td>757</td>\n",
       "      <td>182.0</td>\n",
       "      <td>NaN</td>\n",
       "      <td>Безопасность компьютерных систем</td>\n",
       "      <td>Сбор и обработка данных с помощью краудсорсинга</td>\n",
       "      <td>Statistical Learning Theory</td>\n",
       "      <td>Промышленное программирование на языке Java</td>\n",
       "      <td>Компьютерные сети</td>\n",
       "      <td>Дискретная оптимизация</td>\n",
       "      <td>Да</td>\n",
       "      <td>0.026906</td>\n",
       "      <td>NaN</td>\n",
       "      <td>NaN</td>\n",
       "      <td>1.0</td>\n",
       "    </tr>\n",
       "    <tr>\n",
       "      <th>82</th>\n",
       "      <td>2020-05-18 17:16:57.130</td>\n",
       "      <td>86eebda725013685effcb0c97591132e</td>\n",
       "      <td>690</td>\n",
       "      <td>186.0</td>\n",
       "      <td>NaN</td>\n",
       "      <td>Безопасность компьютерных систем</td>\n",
       "      <td>Язык SQL</td>\n",
       "      <td>Матричные вычисления</td>\n",
       "      <td>Машинное обучение 2</td>\n",
       "      <td>Промышленное программирование на языке Java</td>\n",
       "      <td>Системы баз данных</td>\n",
       "      <td>Да</td>\n",
       "      <td>0.224215</td>\n",
       "      <td>NaN</td>\n",
       "      <td>NaN</td>\n",
       "      <td>NaN</td>\n",
       "    </tr>\n",
       "    <tr>\n",
       "      <th>27</th>\n",
       "      <td>2020-05-16 13:02:24.706</td>\n",
       "      <td>5daee1bd98559bb2c52373e416942225</td>\n",
       "      <td>593</td>\n",
       "      <td>182.0</td>\n",
       "      <td>NaN</td>\n",
       "      <td>Сбор и обработка данных с помощью краудсорсинга</td>\n",
       "      <td>Statistical Learning Theory</td>\n",
       "      <td>Моделирование временных рядов</td>\n",
       "      <td>Машинное обучение 2</td>\n",
       "      <td>Промышленное программирование на языке Java</td>\n",
       "      <td>Анализ данных в бизнесе</td>\n",
       "      <td>Нет</td>\n",
       "      <td>0.681614</td>\n",
       "      <td>NaN</td>\n",
       "      <td>NaN</td>\n",
       "      <td>1.0</td>\n",
       "    </tr>\n",
       "    <tr>\n",
       "      <th>251</th>\n",
       "      <td>2020-05-17 13:02:46.680</td>\n",
       "      <td>82bc94a50a6c08a67ad9bf3d9791c459</td>\n",
       "      <td>1199</td>\n",
       "      <td>NaN</td>\n",
       "      <td>NaN</td>\n",
       "      <td>Моделирование временных рядов</td>\n",
       "      <td>Безопасность компьютерных систем</td>\n",
       "      <td>Анализ неструктурированных данных</td>\n",
       "      <td>Численные методы</td>\n",
       "      <td>Компьютерное зрение</td>\n",
       "      <td>Обучение с подкреплением</td>\n",
       "      <td>Да</td>\n",
       "      <td>0.340580</td>\n",
       "      <td>175.0</td>\n",
       "      <td>Введение в дифференциальную геометрию</td>\n",
       "      <td>NaN</td>\n",
       "    </tr>\n",
       "  </tbody>\n",
       "</table>\n",
       "</div>"
      ],
      "text/plain": [
       "                  timestamp                                id  rating  \\\n",
       "261 2020-05-17 16:17:12.292  2e04f9bc8796f095ed7b9c7941df91a6    1077   \n",
       "210 2020-05-19 00:22:56.525  04f9a2dd035a040318ecd064959df3a0     757   \n",
       "82  2020-05-18 17:16:57.130  86eebda725013685effcb0c97591132e     690   \n",
       "27  2020-05-16 13:02:24.706  5daee1bd98559bb2c52373e416942225     593   \n",
       "251 2020-05-17 13:02:46.680  82bc94a50a6c08a67ad9bf3d9791c459    1199   \n",
       "\n",
       "     18_group  is_mi                                           fall_1  \\\n",
       "261       NaN    NaN  Сбор и обработка данных с помощью краудсорсинга   \n",
       "210     182.0    NaN                 Безопасность компьютерных систем   \n",
       "82      186.0    NaN                 Безопасность компьютерных систем   \n",
       "27      182.0    NaN  Сбор и обработка данных с помощью краудсорсинга   \n",
       "251       NaN    NaN                    Моделирование временных рядов   \n",
       "\n",
       "                                              fall_2  \\\n",
       "261                Анализ неструктурированных данных   \n",
       "210  Сбор и обработка данных с помощью краудсорсинга   \n",
       "82                                          Язык SQL   \n",
       "27                       Statistical Learning Theory   \n",
       "251                 Безопасность компьютерных систем   \n",
       "\n",
       "                                   fall_3  \\\n",
       "261  Глубинное обучение в обработке звука   \n",
       "210           Statistical Learning Theory   \n",
       "82                   Матричные вычисления   \n",
       "27          Моделирование временных рядов   \n",
       "251     Анализ неструктурированных данных   \n",
       "\n",
       "                                        spring_1  \\\n",
       "261                     Обучение с подкреплением   \n",
       "210  Промышленное программирование на языке Java   \n",
       "82                           Машинное обучение 2   \n",
       "27                           Машинное обучение 2   \n",
       "251                             Численные методы   \n",
       "\n",
       "                                        spring_2                  spring_3  \\\n",
       "261                       Конфликты и кооперация       Компьютерное зрение   \n",
       "210                            Компьютерные сети    Дискретная оптимизация   \n",
       "82   Промышленное программирование на языке Java        Системы баз данных   \n",
       "27   Промышленное программирование на языке Java   Анализ данных в бизнесе   \n",
       "251                          Компьютерное зрение  Обучение с подкреплением   \n",
       "\n",
       "    is_first_time  percentile  17_group  \\\n",
       "261            Да    0.797101     172.0   \n",
       "210            Да    0.026906       NaN   \n",
       "82             Да    0.224215       NaN   \n",
       "27            Нет    0.681614       NaN   \n",
       "251            Да    0.340580     175.0   \n",
       "\n",
       "                                   blended  is_ml_student  \n",
       "261         Соревновательный анализ данных            NaN  \n",
       "210                                    NaN            1.0  \n",
       "82                                     NaN            NaN  \n",
       "27                                     NaN            1.0  \n",
       "251  Введение в дифференциальную геометрию            NaN  "
      ]
     },
     "metadata": {},
     "output_type": "display_data"
    },
    {
     "data": {
      "text/plain": [
       "((361, 16),\n",
       " timestamp        datetime64[ns]\n",
       " id                       object\n",
       " rating                    int64\n",
       " 18_group                float64\n",
       " is_mi                   float64\n",
       " fall_1                   object\n",
       " fall_2                   object\n",
       " fall_3                   object\n",
       " spring_1                 object\n",
       " spring_2                 object\n",
       " spring_3                 object\n",
       " is_first_time            object\n",
       " percentile              float64\n",
       " 17_group                float64\n",
       " blended                  object\n",
       " is_ml_student           float64\n",
       " dtype: object,\n",
       " None,\n",
       " None)"
      ]
     },
     "execution_count": 4,
     "metadata": {},
     "output_type": "execute_result"
    }
   ],
   "source": [
    "students = pd.read_excel(\"end_seminar.xlsx\")\n",
    "students.shape, students.dtypes, display(students.describe()), display(students.sample(5))"
   ]
  },
  {
   "cell_type": "markdown",
   "metadata": {
    "id": "jPiMwyqHhLuy"
   },
   "source": [
    "#### 2. [0.5 балла] Есть ли в данных пропуски? В каких колонках? Сколько их в каждой из этих колонок?"
   ]
  },
  {
   "cell_type": "code",
   "execution_count": 5,
   "metadata": {
    "id": "edY1RrSOhLuy"
   },
   "outputs": [
    {
     "data": {
      "text/plain": [
       "timestamp          0\n",
       "id                 0\n",
       "rating             0\n",
       "18_group         138\n",
       "is_mi            343\n",
       "fall_1             0\n",
       "fall_2             0\n",
       "fall_3             0\n",
       "spring_1           0\n",
       "spring_2           0\n",
       "spring_3           0\n",
       "is_first_time      2\n",
       "percentile         0\n",
       "17_group         223\n",
       "blended          223\n",
       "is_ml_student    304\n",
       "dtype: int64"
      ]
     },
     "execution_count": 5,
     "metadata": {},
     "output_type": "execute_result"
    }
   ],
   "source": [
    "students.isna().sum()"
   ]
  },
  {
   "cell_type": "markdown",
   "metadata": {
    "id": "B5ORhP2uhLuz"
   },
   "source": [
    "Заполните пропуски пустой строкой для строковых колонок и нулём для числовых (постарайтесь избежать перечисления названий всех столбцов)."
   ]
  },
  {
   "cell_type": "code",
   "execution_count": 6,
   "metadata": {
    "id": "TlF_JJ2ghLuz"
   },
   "outputs": [
    {
     "data": {
      "text/plain": [
       "timestamp        0\n",
       "id               0\n",
       "rating           0\n",
       "18_group         0\n",
       "is_mi            0\n",
       "fall_1           0\n",
       "fall_2           0\n",
       "fall_3           0\n",
       "spring_1         0\n",
       "spring_2         0\n",
       "spring_3         0\n",
       "is_first_time    0\n",
       "percentile       0\n",
       "17_group         0\n",
       "blended          0\n",
       "is_ml_student    0\n",
       "dtype: int64"
      ]
     },
     "execution_count": 6,
     "metadata": {},
     "output_type": "execute_result"
    }
   ],
   "source": [
    "string_columns = students.select_dtypes(include=object).columns.values\n",
    "numeric_columns = students.select_dtypes(include=np.number).columns.values\n",
    "students[string_columns] = students[string_columns].fillna('')\n",
    "students[numeric_columns] = students[numeric_columns].fillna(0)\n",
    "students.isna().sum()"
   ]
  },
  {
   "cell_type": "markdown",
   "metadata": {
    "id": "w5ELhkT1hLuz"
   },
   "source": [
    "#### 3. [0.5 балла] Посмотрите повнимательнее на колонку 'is_first_time'. \n",
    "\n",
    "Есть ли в ней ответы \"Нет\"? Сколько их?\n",
    "\n",
    "Если вы найдете повторные обращения студентов, оставьте только самую позднюю версию. В дальнейших заданиях используйте версию данных без повторов.\n",
    "\n",
    "<i>Обращения со значением \"Нет\" в 'is_first_time' могут быть как повторными, так и первичными, поскольку поле заполняли сами студенты.</i>"
   ]
  },
  {
   "cell_type": "code",
   "execution_count": 7,
   "metadata": {
    "id": "VEfiNsyQhLuz"
   },
   "outputs": [
    {
     "data": {
      "text/plain": [
       "is_first_time\n",
       "Да     308\n",
       "Нет     51\n",
       "         2\n",
       "Name: count, dtype: int64"
      ]
     },
     "execution_count": 7,
     "metadata": {},
     "output_type": "execute_result"
    }
   ],
   "source": [
    "students['is_first_time'].value_counts()"
   ]
  },
  {
   "cell_type": "code",
   "execution_count": 8,
   "metadata": {},
   "outputs": [
    {
     "name": "stdout",
     "output_type": "stream",
     "text": [
      "No duplicates\n"
     ]
    }
   ],
   "source": [
    "students_unique = students.sort_values(by='timestamp', ascending=False).groupby('id').first().reset_index()\n",
    "print('No duplicates') if students_unique.shape[0] == len(students_unique['id'].unique()) else print('Duplicates found')"
   ]
  },
  {
   "cell_type": "markdown",
   "metadata": {
    "id": "Jhk3tVpVhLuy"
   },
   "source": [
    "#### 4. [0.5 балла] Ответьте на вопросы:\n",
    "1. Сколько было заявок из групп 18-го года набора, а сколько из групп 17-го года?\n",
    "2. Есть ли студенты с равными перцентилями (среди объединенных данных, ведь конкурс на каждый курс общий)?"
   ]
  },
  {
   "cell_type": "code",
   "execution_count": 9,
   "metadata": {
    "id": "bsn4vn8RhLuy"
   },
   "outputs": [
    {
     "name": "stdout",
     "output_type": "stream",
     "text": [
      "Всего заявок от 17-го года: 134\n",
      "\n",
      "Первый приоритет (осень):  fall_1\n",
      "Statistical Learning Theory                             11\n",
      "Анализ неструктурированных данных                       32\n",
      "Байесовские методы машинного обучения                   16\n",
      "Безопасность компьютерных систем                        29\n",
      "Высокопроизводительные вычисления                       24\n",
      "Глубинное обучение в обработке звука                    10\n",
      "Моделирование временных рядов                            1\n",
      "Принятие решений в условиях риска и неопределённости     2\n",
      "Сбор и обработка данных с помощью краудсорсинга          9\n",
      "Name: id, dtype: int64 \n",
      "\n",
      "Всего заявок от 18-го года: 213\n",
      "\n",
      "Первый приоритет (осень):  fall_1\n",
      "Statistical Learning Theory                             14\n",
      "Безопасность компьютерных систем                        81\n",
      "Высокопроизводительные вычисления                       17\n",
      "Матричные вычисления                                    14\n",
      "Моделирование временных рядов                           21\n",
      "Принятие решений в условиях риска и неопределённости     3\n",
      "Сбор и обработка данных с помощью краудсорсинга         25\n",
      "Теория баз данных                                       11\n",
      "Язык SQL                                                27\n",
      "Name: id, dtype: int64 \n",
      "\n"
     ]
    }
   ],
   "source": [
    "students_17 = students_unique[students_unique['17_group'] != 0]\n",
    "print(f'Всего заявок от 17-го года: {len(students_17)}\\n')\n",
    "print('Первый приоритет (осень): ', students_17.groupby('fall_1')['id'].count(), '\\n')\n",
    "\n",
    "students_18 = students_unique[students_unique['18_group'] != 0]\n",
    "print(f'Всего заявок от 18-го года: {len(students_18)}\\n')\n",
    "print('Первый приоритет (осень): ', students_18.groupby('fall_1')['id'].count(), '\\n')"
   ]
  },
  {
   "cell_type": "code",
   "execution_count": 10,
   "metadata": {},
   "outputs": [
    {
     "name": "stdout",
     "output_type": "stream",
     "text": [
      "Есть равные перцентили\n"
     ]
    }
   ],
   "source": [
    "print('Нет равных перцентилей') if students_unique.shape[0] == len(students_unique.percentile.unique()) else print('Есть равные перцентили')"
   ]
  },
  {
   "cell_type": "code",
   "execution_count": 11,
   "metadata": {
    "scrolled": true
   },
   "outputs": [
    {
     "data": {
      "text/html": [
       "<div>\n",
       "<style scoped>\n",
       "    .dataframe tbody tr th:only-of-type {\n",
       "        vertical-align: middle;\n",
       "    }\n",
       "\n",
       "    .dataframe tbody tr th {\n",
       "        vertical-align: top;\n",
       "    }\n",
       "\n",
       "    .dataframe thead th {\n",
       "        text-align: right;\n",
       "    }\n",
       "</style>\n",
       "<table border=\"1\" class=\"dataframe\">\n",
       "  <thead>\n",
       "    <tr style=\"text-align: right;\">\n",
       "      <th></th>\n",
       "      <th>id</th>\n",
       "      <th>timestamp</th>\n",
       "      <th>rating</th>\n",
       "      <th>18_group</th>\n",
       "      <th>is_mi</th>\n",
       "      <th>fall_1</th>\n",
       "      <th>fall_2</th>\n",
       "      <th>fall_3</th>\n",
       "      <th>spring_1</th>\n",
       "      <th>spring_2</th>\n",
       "      <th>spring_3</th>\n",
       "      <th>is_first_time</th>\n",
       "      <th>percentile</th>\n",
       "      <th>17_group</th>\n",
       "      <th>blended</th>\n",
       "      <th>is_ml_student</th>\n",
       "    </tr>\n",
       "  </thead>\n",
       "  <tbody>\n",
       "    <tr>\n",
       "      <th>66</th>\n",
       "      <td>3a7326c9e355a67d3805824ca34c4bc5</td>\n",
       "      <td>2020-05-14 21:52:43.844</td>\n",
       "      <td>1457</td>\n",
       "      <td>0.0</td>\n",
       "      <td>0.0</td>\n",
       "      <td>Statistical Learning Theory</td>\n",
       "      <td>Высокопроизводительные вычисления</td>\n",
       "      <td>Statistical Learning Theory</td>\n",
       "      <td>Символьные вычисления</td>\n",
       "      <td>Численные методы</td>\n",
       "      <td>Символьные вычисления</td>\n",
       "      <td>Да</td>\n",
       "      <td>0.0</td>\n",
       "      <td>173.0</td>\n",
       "      <td>Введение в дифференциальную геометрию</td>\n",
       "      <td>0.0</td>\n",
       "    </tr>\n",
       "    <tr>\n",
       "      <th>71</th>\n",
       "      <td>3e106aaef8b24dbb01319c73e14c2936</td>\n",
       "      <td>2020-05-18 17:09:23.589</td>\n",
       "      <td>784</td>\n",
       "      <td>182.0</td>\n",
       "      <td>0.0</td>\n",
       "      <td>Безопасность компьютерных систем</td>\n",
       "      <td>Statistical Learning Theory</td>\n",
       "      <td>Матричные вычисления</td>\n",
       "      <td>Дискретная оптимизация</td>\n",
       "      <td>Промышленное программирование на языке Java</td>\n",
       "      <td>Дополнительные главы прикладной статистики</td>\n",
       "      <td>Да</td>\n",
       "      <td>0.0</td>\n",
       "      <td>0.0</td>\n",
       "      <td></td>\n",
       "      <td>1.0</td>\n",
       "    </tr>\n",
       "  </tbody>\n",
       "</table>\n",
       "</div>"
      ],
      "text/plain": [
       "                                  id               timestamp  rating  \\\n",
       "66  3a7326c9e355a67d3805824ca34c4bc5 2020-05-14 21:52:43.844    1457   \n",
       "71  3e106aaef8b24dbb01319c73e14c2936 2020-05-18 17:09:23.589     784   \n",
       "\n",
       "    18_group  is_mi                            fall_1  \\\n",
       "66       0.0    0.0       Statistical Learning Theory   \n",
       "71     182.0    0.0  Безопасность компьютерных систем   \n",
       "\n",
       "                               fall_2                       fall_3  \\\n",
       "66  Высокопроизводительные вычисления  Statistical Learning Theory   \n",
       "71        Statistical Learning Theory         Матричные вычисления   \n",
       "\n",
       "                  spring_1                                     spring_2  \\\n",
       "66   Символьные вычисления                             Численные методы   \n",
       "71  Дискретная оптимизация  Промышленное программирование на языке Java   \n",
       "\n",
       "                                      spring_3 is_first_time  percentile  \\\n",
       "66                       Символьные вычисления            Да         0.0   \n",
       "71  Дополнительные главы прикладной статистики            Да         0.0   \n",
       "\n",
       "    17_group                                blended  is_ml_student  \n",
       "66     173.0  Введение в дифференциальную геометрию            0.0  \n",
       "71       0.0                                                   1.0  "
      ]
     },
     "execution_count": 11,
     "metadata": {},
     "output_type": "execute_result"
    }
   ],
   "source": [
    "students_unique[students_unique.duplicated(subset=['percentile'], keep=False)]"
   ]
  },
  {
   "cell_type": "markdown",
   "metadata": {},
   "source": [
    "Это было ожидаемо - два топа своего года. С учетом того, что курсов с 1 местом нет - нам они не мешают"
   ]
  },
  {
   "cell_type": "markdown",
   "metadata": {
    "id": "IlzHp3HVhLuz"
   },
   "source": [
    "#### 5. [0.5 балла] Какие  blended-курсы для четверокурсников существуют? На какой blended-курс записалось наибольшее количество студентов? На каком из blended-курсов собрались студенты с самым высоким средним рейтингом (выведите этот курс и количество студентов на нем)? "
   ]
  },
  {
   "cell_type": "code",
   "execution_count": 12,
   "metadata": {
    "id": "j_BRWerHhLu0"
   },
   "outputs": [
    {
     "name": "stdout",
     "output_type": "stream",
     "text": [
      "['Соревновательный анализ данных' 'DevOps'\n",
      " 'Введение в дифференциальную геометрию']\n"
     ]
    }
   ],
   "source": [
    "blended_courses = students_unique[students_unique.blended != '']\n",
    "print(blended_courses['blended'].unique())"
   ]
  },
  {
   "cell_type": "code",
   "execution_count": 13,
   "metadata": {},
   "outputs": [
    {
     "data": {
      "text/html": [
       "<div>\n",
       "<style scoped>\n",
       "    .dataframe tbody tr th:only-of-type {\n",
       "        vertical-align: middle;\n",
       "    }\n",
       "\n",
       "    .dataframe tbody tr th {\n",
       "        vertical-align: top;\n",
       "    }\n",
       "\n",
       "    .dataframe thead th {\n",
       "        text-align: right;\n",
       "    }\n",
       "</style>\n",
       "<table border=\"1\" class=\"dataframe\">\n",
       "  <thead>\n",
       "    <tr style=\"text-align: right;\">\n",
       "      <th></th>\n",
       "      <th>cnt_chose</th>\n",
       "    </tr>\n",
       "    <tr>\n",
       "      <th>blended</th>\n",
       "      <th></th>\n",
       "    </tr>\n",
       "  </thead>\n",
       "  <tbody>\n",
       "    <tr>\n",
       "      <th>DevOps</th>\n",
       "      <td>87</td>\n",
       "    </tr>\n",
       "    <tr>\n",
       "      <th>Соревновательный анализ данных</th>\n",
       "      <td>32</td>\n",
       "    </tr>\n",
       "    <tr>\n",
       "      <th>Введение в дифференциальную геометрию</th>\n",
       "      <td>15</td>\n",
       "    </tr>\n",
       "  </tbody>\n",
       "</table>\n",
       "</div>"
      ],
      "text/plain": [
       "                                       cnt_chose\n",
       "blended                                         \n",
       "DevOps                                        87\n",
       "Соревновательный анализ данных                32\n",
       "Введение в дифференциальную геометрию         15"
      ]
     },
     "execution_count": 13,
     "metadata": {},
     "output_type": "execute_result"
    }
   ],
   "source": [
    "blended_grouped = blended_courses.groupby('blended')\n",
    "blended_grouped[['id']].count().rename(columns={'id' : 'cnt_chose'}).sort_values('cnt_chose', ascending=False)"
   ]
  },
  {
   "cell_type": "markdown",
   "metadata": {},
   "source": [
    "ДЕВООООООПС - модельки же кому-то надо деплоить, а не только гиперпараметры подбирать"
   ]
  },
  {
   "cell_type": "code",
   "execution_count": 14,
   "metadata": {},
   "outputs": [
    {
     "data": {
      "text/html": [
       "<div>\n",
       "<style scoped>\n",
       "    .dataframe tbody tr th:only-of-type {\n",
       "        vertical-align: middle;\n",
       "    }\n",
       "\n",
       "    .dataframe tbody tr th {\n",
       "        vertical-align: top;\n",
       "    }\n",
       "\n",
       "    .dataframe thead th {\n",
       "        text-align: right;\n",
       "    }\n",
       "</style>\n",
       "<table border=\"1\" class=\"dataframe\">\n",
       "  <thead>\n",
       "    <tr style=\"text-align: right;\">\n",
       "      <th></th>\n",
       "      <th>cnt_chose</th>\n",
       "      <th>avg_rating</th>\n",
       "    </tr>\n",
       "    <tr>\n",
       "      <th>blended</th>\n",
       "      <th></th>\n",
       "      <th></th>\n",
       "    </tr>\n",
       "  </thead>\n",
       "  <tbody>\n",
       "    <tr>\n",
       "      <th>Введение в дифференциальную геометрию</th>\n",
       "      <td>15</td>\n",
       "      <td>1210.733333</td>\n",
       "    </tr>\n",
       "    <tr>\n",
       "      <th>DevOps</th>\n",
       "      <td>87</td>\n",
       "      <td>1154.172414</td>\n",
       "    </tr>\n",
       "    <tr>\n",
       "      <th>Соревновательный анализ данных</th>\n",
       "      <td>32</td>\n",
       "      <td>1144.218750</td>\n",
       "    </tr>\n",
       "  </tbody>\n",
       "</table>\n",
       "</div>"
      ],
      "text/plain": [
       "                                       cnt_chose   avg_rating\n",
       "blended                                                      \n",
       "Введение в дифференциальную геометрию         15  1210.733333\n",
       "DevOps                                        87  1154.172414\n",
       "Соревновательный анализ данных                32  1144.218750"
      ]
     },
     "execution_count": 14,
     "metadata": {},
     "output_type": "execute_result"
    }
   ],
   "source": [
    "blended_grouped.agg({'id' : 'count', 'rating' : 'mean'})\\\n",
    "               .rename(columns={'id' : 'cnt_chose', 'rating' : 'avg_rating'})\\\n",
    "               .sort_values('avg_rating', ascending=False)"
   ]
  },
  {
   "cell_type": "markdown",
   "metadata": {},
   "source": [
    "Это сразу было понятно, 15 жестких челиков собрались заниматься недетскими вещами, я их представляю примерно так:\n",
    "\n",
    "<img src='https://kartinkof.club/uploads/posts/2022-03/1648201400_16-kartinkof-club-p-dungeon-master-mem-17.jpg' style=\"width: 400px\">"
   ]
  },
  {
   "cell_type": "markdown",
   "metadata": {
    "id": "IU_FLt8HhLu0"
   },
   "source": [
    "#### 6. [1 балл] Выясните, есть ли студенты с абсолютно одинаковыми предпочтениями по всем курсам.\n",
    "\n",
    "Для этого сформируйте таблицу, где для каждого возможного набора курсов посчитано количество студентов, выбравших такой набор, и оставьте только строки где это количество больше 1.\n",
    "\n",
    "В данном случае набор курсов задается упорядоченным множеством ('fall_1', 'fall_2', 'fall_3', 'spring_1', 'spring_2', 'spring_3', 'blended'). Элемент blended будет нулевым для 3-го курса."
   ]
  },
  {
   "cell_type": "code",
   "execution_count": 15,
   "metadata": {
    "id": "BBDlR1mFhLu0"
   },
   "outputs": [
    {
     "data": {
      "text/html": [
       "<div>\n",
       "<style scoped>\n",
       "    .dataframe tbody tr th:only-of-type {\n",
       "        vertical-align: middle;\n",
       "    }\n",
       "\n",
       "    .dataframe tbody tr th {\n",
       "        vertical-align: top;\n",
       "    }\n",
       "\n",
       "    .dataframe thead th {\n",
       "        text-align: right;\n",
       "    }\n",
       "</style>\n",
       "<table border=\"1\" class=\"dataframe\">\n",
       "  <thead>\n",
       "    <tr style=\"text-align: right;\">\n",
       "      <th></th>\n",
       "      <th></th>\n",
       "      <th></th>\n",
       "      <th></th>\n",
       "      <th></th>\n",
       "      <th></th>\n",
       "      <th></th>\n",
       "      <th>cnt_chose</th>\n",
       "    </tr>\n",
       "    <tr>\n",
       "      <th>fall_1</th>\n",
       "      <th>fall_2</th>\n",
       "      <th>fall_3</th>\n",
       "      <th>spring_1</th>\n",
       "      <th>spring_2</th>\n",
       "      <th>spring_3</th>\n",
       "      <th>blended</th>\n",
       "      <th></th>\n",
       "    </tr>\n",
       "  </thead>\n",
       "  <tbody>\n",
       "    <tr>\n",
       "      <th rowspan=\"2\" valign=\"top\">Безопасность компьютерных систем</th>\n",
       "      <th>Statistical Learning Theory</th>\n",
       "      <th>Матричные вычисления</th>\n",
       "      <th>Дискретная оптимизация</th>\n",
       "      <th>Промышленное программирование на языке Java</th>\n",
       "      <th>Дополнительные главы прикладной статистики</th>\n",
       "      <th></th>\n",
       "      <td>3</td>\n",
       "    </tr>\n",
       "    <tr>\n",
       "      <th>Высокопроизводительные вычисления</th>\n",
       "      <th>Язык SQL</th>\n",
       "      <th>Компьютерные сети</th>\n",
       "      <th>Промышленное программирование на языке Java</th>\n",
       "      <th>Дискретная оптимизация</th>\n",
       "      <th></th>\n",
       "      <td>3</td>\n",
       "    </tr>\n",
       "    <tr>\n",
       "      <th>Statistical Learning Theory</th>\n",
       "      <th>Анализ неструктурированных данных</th>\n",
       "      <th>Сбор и обработка данных с помощью краудсорсинга</th>\n",
       "      <th>Обучение с подкреплением</th>\n",
       "      <th>Конфликты и кооперация</th>\n",
       "      <th>Компьютерное зрение</th>\n",
       "      <th>DevOps</th>\n",
       "      <td>2</td>\n",
       "    </tr>\n",
       "    <tr>\n",
       "      <th rowspan=\"2\" valign=\"top\">Байесовские методы машинного обучения</th>\n",
       "      <th rowspan=\"2\" valign=\"top\">Анализ неструктурированных данных</th>\n",
       "      <th>Глубинное обучение в обработке звука</th>\n",
       "      <th>Обучение с подкреплением</th>\n",
       "      <th>Генеративные модели в машинном обучении</th>\n",
       "      <th>Компьютерное зрение</th>\n",
       "      <th>DevOps</th>\n",
       "      <td>2</td>\n",
       "    </tr>\n",
       "    <tr>\n",
       "      <th>Сбор и обработка данных с помощью краудсорсинга</th>\n",
       "      <th>Обучение с подкреплением</th>\n",
       "      <th>Компьютерное зрение</th>\n",
       "      <th>Генеративные модели в машинном обучении</th>\n",
       "      <th>DevOps</th>\n",
       "      <td>2</td>\n",
       "    </tr>\n",
       "    <tr>\n",
       "      <th rowspan=\"5\" valign=\"top\">Безопасность компьютерных систем</th>\n",
       "      <th rowspan=\"2\" valign=\"top\">Высокопроизводительные вычисления</th>\n",
       "      <th>Анализ неструктурированных данных</th>\n",
       "      <th>Проектирование и разработка высоконагруженных сервисов</th>\n",
       "      <th>Методы сжатия и передачи медиаданных</th>\n",
       "      <th>Конфликты и кооперация</th>\n",
       "      <th>DevOps</th>\n",
       "      <td>2</td>\n",
       "    </tr>\n",
       "    <tr>\n",
       "      <th>Язык SQL</th>\n",
       "      <th>Промышленное программирование на языке Java</th>\n",
       "      <th>Компьютерные сети</th>\n",
       "      <th>Системы баз данных</th>\n",
       "      <th></th>\n",
       "      <td>2</td>\n",
       "    </tr>\n",
       "    <tr>\n",
       "      <th>Матричные вычисления</th>\n",
       "      <th>Моделирование временных рядов</th>\n",
       "      <th>Промышленное программирование на языке Java</th>\n",
       "      <th>Компьютерные сети</th>\n",
       "      <th>Дискретная оптимизация</th>\n",
       "      <th></th>\n",
       "      <td>2</td>\n",
       "    </tr>\n",
       "    <tr>\n",
       "      <th>Сбор и обработка данных с помощью краудсорсинга</th>\n",
       "      <th>Матричные вычисления</th>\n",
       "      <th>Компьютерные сети</th>\n",
       "      <th>Промышленное программирование на языке Java</th>\n",
       "      <th>Анализ данных в бизнесе</th>\n",
       "      <th></th>\n",
       "      <td>2</td>\n",
       "    </tr>\n",
       "    <tr>\n",
       "      <th>Теория баз данных</th>\n",
       "      <th>Язык SQL</th>\n",
       "      <th>Машинное обучение 2</th>\n",
       "      <th>Компьютерные сети</th>\n",
       "      <th>Промышленное программирование на языке Java</th>\n",
       "      <th></th>\n",
       "      <td>2</td>\n",
       "    </tr>\n",
       "    <tr>\n",
       "      <th rowspan=\"2\" valign=\"top\">Высокопроизводительные вычисления</th>\n",
       "      <th>Безопасность компьютерных систем</th>\n",
       "      <th>Сбор и обработка данных с помощью краудсорсинга</th>\n",
       "      <th>Проектирование и разработка высоконагруженных сервисов</th>\n",
       "      <th>Методы сжатия и передачи медиаданных</th>\n",
       "      <th>Компьютерное зрение</th>\n",
       "      <th>DevOps</th>\n",
       "      <td>2</td>\n",
       "    </tr>\n",
       "    <tr>\n",
       "      <th>Сбор и обработка данных с помощью краудсорсинга</th>\n",
       "      <th>Моделирование временных рядов</th>\n",
       "      <th>Проектирование и разработка высоконагруженных сервисов</th>\n",
       "      <th>Методы сжатия и передачи медиаданных</th>\n",
       "      <th>Методы сжатия и передачи медиаданных</th>\n",
       "      <th>DevOps</th>\n",
       "      <td>2</td>\n",
       "    </tr>\n",
       "    <tr>\n",
       "      <th>Моделирование временных рядов</th>\n",
       "      <th>Сбор и обработка данных с помощью краудсорсинга</th>\n",
       "      <th>Безопасность компьютерных систем</th>\n",
       "      <th>Компьютерные сети</th>\n",
       "      <th>Дополнительные главы прикладной статистики</th>\n",
       "      <th>Системы баз данных</th>\n",
       "      <th></th>\n",
       "      <td>2</td>\n",
       "    </tr>\n",
       "    <tr>\n",
       "      <th>Сбор и обработка данных с помощью краудсорсинга</th>\n",
       "      <th>Язык SQL</th>\n",
       "      <th>Теория баз данных</th>\n",
       "      <th>Промышленное программирование на языке Java</th>\n",
       "      <th>Машинное обучение 2</th>\n",
       "      <th>Компьютерные сети</th>\n",
       "      <th></th>\n",
       "      <td>2</td>\n",
       "    </tr>\n",
       "    <tr>\n",
       "      <th>Язык SQL</th>\n",
       "      <th>Высокопроизводительные вычисления</th>\n",
       "      <th>Теория баз данных</th>\n",
       "      <th>Компьютерные сети</th>\n",
       "      <th>Промышленное программирование на языке Java</th>\n",
       "      <th>Дискретная оптимизация</th>\n",
       "      <th></th>\n",
       "      <td>2</td>\n",
       "    </tr>\n",
       "  </tbody>\n",
       "</table>\n",
       "</div>"
      ],
      "text/plain": [
       "                                                                                                                                                                                                                                                                                                    cnt_chose\n",
       "fall_1                                          fall_2                                          fall_3                                          spring_1                                           spring_2                                    spring_3                                    blended           \n",
       "Безопасность компьютерных систем                Statistical Learning Theory                     Матричные вычисления                            Дискретная оптимизация                             Промышленное программирование на языке Java Дополнительные главы прикладной статистики                   3\n",
       "                                                Высокопроизводительные вычисления               Язык SQL                                        Компьютерные сети                                  Промышленное программирование на языке Java Дискретная оптимизация                                       3\n",
       "Statistical Learning Theory                     Анализ неструктурированных данных               Сбор и обработка данных с помощью краудсорсинга Обучение с подкреплением                           Конфликты и кооперация                      Компьютерное зрение                         DevOps           2\n",
       "Байесовские методы машинного обучения           Анализ неструктурированных данных               Глубинное обучение в обработке звука            Обучение с подкреплением                           Генеративные модели в машинном обучении     Компьютерное зрение                         DevOps           2\n",
       "                                                                                                Сбор и обработка данных с помощью краудсорсинга Обучение с подкреплением                           Компьютерное зрение                         Генеративные модели в машинном обучении     DevOps           2\n",
       "Безопасность компьютерных систем                Высокопроизводительные вычисления               Анализ неструктурированных данных               Проектирование и разработка высоконагруженных с... Методы сжатия и передачи медиаданных        Конфликты и кооперация                      DevOps           2\n",
       "                                                                                                Язык SQL                                        Промышленное программирование на языке Java        Компьютерные сети                           Системы баз данных                                           2\n",
       "                                                Матричные вычисления                            Моделирование временных рядов                   Промышленное программирование на языке Java        Компьютерные сети                           Дискретная оптимизация                                       2\n",
       "                                                Сбор и обработка данных с помощью краудсорсинга Матричные вычисления                            Компьютерные сети                                  Промышленное программирование на языке Java Анализ данных в бизнесе                                      2\n",
       "                                                Теория баз данных                               Язык SQL                                        Машинное обучение 2                                Компьютерные сети                           Промышленное программирование на языке Java                  2\n",
       "Высокопроизводительные вычисления               Безопасность компьютерных систем                Сбор и обработка данных с помощью краудсорсинга Проектирование и разработка высоконагруженных с... Методы сжатия и передачи медиаданных        Компьютерное зрение                         DevOps           2\n",
       "                                                Сбор и обработка данных с помощью краудсорсинга Моделирование временных рядов                   Проектирование и разработка высоконагруженных с... Методы сжатия и передачи медиаданных        Методы сжатия и передачи медиаданных        DevOps           2\n",
       "Моделирование временных рядов                   Сбор и обработка данных с помощью краудсорсинга Безопасность компьютерных систем                Компьютерные сети                                  Дополнительные главы прикладной статистики  Системы баз данных                                           2\n",
       "Сбор и обработка данных с помощью краудсорсинга Язык SQL                                        Теория баз данных                               Промышленное программирование на языке Java        Машинное обучение 2                         Компьютерные сети                                            2\n",
       "Язык SQL                                        Высокопроизводительные вычисления               Теория баз данных                               Компьютерные сети                                  Промышленное программирование на языке Java Дискретная оптимизация                                       2"
      ]
     },
     "execution_count": 15,
     "metadata": {},
     "output_type": "execute_result"
    }
   ],
   "source": [
    "courses_columns = ['fall_1', 'fall_2', 'fall_3', 'spring_1', 'spring_2', 'spring_3', 'blended']\n",
    "grouped_courses = students_unique.groupby(courses_columns).agg({'id' : 'count'}).rename(columns={'id' : 'cnt_chose'})\n",
    "grouped_courses[grouped_courses.cnt_chose > 1].sort_values('cnt_chose', ascending=False)"
   ]
  },
  {
   "cell_type": "markdown",
   "metadata": {},
   "source": [
    "Я честно не понял, чего ожидал автор, поэтому вот второй вариант"
   ]
  },
  {
   "cell_type": "code",
   "execution_count": 16,
   "metadata": {},
   "outputs": [
    {
     "data": {
      "text/html": [
       "<div>\n",
       "<style scoped>\n",
       "    .dataframe tbody tr th:only-of-type {\n",
       "        vertical-align: middle;\n",
       "    }\n",
       "\n",
       "    .dataframe tbody tr th {\n",
       "        vertical-align: top;\n",
       "    }\n",
       "\n",
       "    .dataframe thead th {\n",
       "        text-align: right;\n",
       "    }\n",
       "</style>\n",
       "<table border=\"1\" class=\"dataframe\">\n",
       "  <thead>\n",
       "    <tr style=\"text-align: right;\">\n",
       "      <th></th>\n",
       "      <th>cnt_chose</th>\n",
       "    </tr>\n",
       "    <tr>\n",
       "      <th>courses</th>\n",
       "      <th></th>\n",
       "    </tr>\n",
       "  </thead>\n",
       "  <tbody>\n",
       "    <tr>\n",
       "      <th>(Безопасность компьютерных систем, Statistical Learning Theory, Матричные вычисления, Дискретная оптимизация, Промышленное программирование на языке Java, Дополнительные главы прикладной статистики, )</th>\n",
       "      <td>3</td>\n",
       "    </tr>\n",
       "    <tr>\n",
       "      <th>(Безопасность компьютерных систем, Высокопроизводительные вычисления, Язык SQL, Компьютерные сети, Промышленное программирование на языке Java, Дискретная оптимизация, )</th>\n",
       "      <td>3</td>\n",
       "    </tr>\n",
       "    <tr>\n",
       "      <th>(Statistical Learning Theory, Анализ неструктурированных данных, Сбор и обработка данных с помощью краудсорсинга, Обучение с подкреплением, Конфликты и кооперация, Компьютерное зрение, DevOps)</th>\n",
       "      <td>2</td>\n",
       "    </tr>\n",
       "    <tr>\n",
       "      <th>(Байесовские методы машинного обучения, Анализ неструктурированных данных, Глубинное обучение в обработке звука, Обучение с подкреплением, Генеративные модели в машинном обучении, Компьютерное зрение, DevOps)</th>\n",
       "      <td>2</td>\n",
       "    </tr>\n",
       "    <tr>\n",
       "      <th>(Байесовские методы машинного обучения, Анализ неструктурированных данных, Сбор и обработка данных с помощью краудсорсинга, Обучение с подкреплением, Компьютерное зрение, Генеративные модели в машинном обучении, DevOps)</th>\n",
       "      <td>2</td>\n",
       "    </tr>\n",
       "    <tr>\n",
       "      <th>(Безопасность компьютерных систем, Высокопроизводительные вычисления, Анализ неструктурированных данных, Проектирование и разработка высоконагруженных сервисов, Методы сжатия и передачи медиаданных, Конфликты и кооперация, DevOps)</th>\n",
       "      <td>2</td>\n",
       "    </tr>\n",
       "    <tr>\n",
       "      <th>(Безопасность компьютерных систем, Высокопроизводительные вычисления, Язык SQL, Промышленное программирование на языке Java, Компьютерные сети, Системы баз данных, )</th>\n",
       "      <td>2</td>\n",
       "    </tr>\n",
       "    <tr>\n",
       "      <th>(Безопасность компьютерных систем, Матричные вычисления, Моделирование временных рядов, Промышленное программирование на языке Java, Компьютерные сети, Дискретная оптимизация, )</th>\n",
       "      <td>2</td>\n",
       "    </tr>\n",
       "    <tr>\n",
       "      <th>(Безопасность компьютерных систем, Сбор и обработка данных с помощью краудсорсинга, Матричные вычисления, Компьютерные сети, Промышленное программирование на языке Java, Анализ данных в бизнесе, )</th>\n",
       "      <td>2</td>\n",
       "    </tr>\n",
       "    <tr>\n",
       "      <th>(Безопасность компьютерных систем, Теория баз данных, Язык SQL, Машинное обучение 2, Компьютерные сети, Промышленное программирование на языке Java, )</th>\n",
       "      <td>2</td>\n",
       "    </tr>\n",
       "    <tr>\n",
       "      <th>(Высокопроизводительные вычисления, Безопасность компьютерных систем, Сбор и обработка данных с помощью краудсорсинга, Проектирование и разработка высоконагруженных сервисов, Методы сжатия и передачи медиаданных, Компьютерное зрение, DevOps)</th>\n",
       "      <td>2</td>\n",
       "    </tr>\n",
       "    <tr>\n",
       "      <th>(Высокопроизводительные вычисления, Сбор и обработка данных с помощью краудсорсинга, Моделирование временных рядов, Проектирование и разработка высоконагруженных сервисов, Методы сжатия и передачи медиаданных, Методы сжатия и передачи медиаданных, DevOps)</th>\n",
       "      <td>2</td>\n",
       "    </tr>\n",
       "    <tr>\n",
       "      <th>(Моделирование временных рядов, Сбор и обработка данных с помощью краудсорсинга, Безопасность компьютерных систем, Компьютерные сети, Дополнительные главы прикладной статистики, Системы баз данных, )</th>\n",
       "      <td>2</td>\n",
       "    </tr>\n",
       "    <tr>\n",
       "      <th>(Сбор и обработка данных с помощью краудсорсинга, Язык SQL, Теория баз данных, Промышленное программирование на языке Java, Машинное обучение 2, Компьютерные сети, )</th>\n",
       "      <td>2</td>\n",
       "    </tr>\n",
       "    <tr>\n",
       "      <th>(Язык SQL, Высокопроизводительные вычисления, Теория баз данных, Компьютерные сети, Промышленное программирование на языке Java, Дискретная оптимизация, )</th>\n",
       "      <td>2</td>\n",
       "    </tr>\n",
       "  </tbody>\n",
       "</table>\n",
       "</div>"
      ],
      "text/plain": [
       "                                                    cnt_chose\n",
       "courses                                                      \n",
       "(Безопасность компьютерных систем, Statistical ...          3\n",
       "(Безопасность компьютерных систем, Высокопроизв...          3\n",
       "(Statistical Learning Theory, Анализ неструктур...          2\n",
       "(Байесовские методы машинного обучения, Анализ ...          2\n",
       "(Байесовские методы машинного обучения, Анализ ...          2\n",
       "(Безопасность компьютерных систем, Высокопроизв...          2\n",
       "(Безопасность компьютерных систем, Высокопроизв...          2\n",
       "(Безопасность компьютерных систем, Матричные вы...          2\n",
       "(Безопасность компьютерных систем, Сбор и обраб...          2\n",
       "(Безопасность компьютерных систем, Теория баз д...          2\n",
       "(Высокопроизводительные вычисления, Безопасност...          2\n",
       "(Высокопроизводительные вычисления, Сбор и обра...          2\n",
       "(Моделирование временных рядов, Сбор и обработк...          2\n",
       "(Сбор и обработка данных с помощью краудсорсинг...          2\n",
       "(Язык SQL, Высокопроизводительные вычисления, Т...          2"
      ]
     },
     "execution_count": 16,
     "metadata": {},
     "output_type": "execute_result"
    }
   ],
   "source": [
    "students_unique['courses'] = students_unique[courses_columns].to_records(index=False)\n",
    "grouped_courses_2 = students_unique.groupby('courses').agg({'id' : 'count'}).rename(columns={'id' : 'cnt_chose'})\n",
    "students_unique = students_unique.drop(columns=['courses'])\n",
    "grouped_courses_2[grouped_courses_2.cnt_chose > 1].sort_values('cnt_chose', ascending=False)"
   ]
  },
  {
   "cell_type": "markdown",
   "metadata": {},
   "source": [
    "Если ожидалось так, то держите, но никогда так не делайте и никому не показывайте"
   ]
  },
  {
   "cell_type": "markdown",
   "metadata": {
    "id": "spu3r3vchLu0"
   },
   "source": [
    "#### 7. [0.5 балла] Найдите курсы по выбору, на которые записывались как студенты 18-го года набора, так и студенты 17-го года."
   ]
  },
  {
   "cell_type": "code",
   "execution_count": 17,
   "metadata": {
    "id": "t21fWi8ShLu0"
   },
   "outputs": [
    {
     "name": "stdout",
     "output_type": "stream",
     "text": [
      "['Statistical Learning Theory' 'Безопасность компьютерных систем'\n",
      " 'Высокопроизводительные вычисления' 'Моделирование временных рядов'\n",
      " 'Принятие решений в условиях риска и неопределённости'\n",
      " 'Сбор и обработка данных с помощью краудсорсинга' 'Численные методы']\n"
     ]
    }
   ],
   "source": [
    "courses_all = np.unique(students_unique[courses_columns].values.reshape(-1))\n",
    "courses_all = courses_all[courses_all != '']\n",
    "\n",
    "students_18 = students_unique[students_unique['18_group'] != 0]\n",
    "courses_18 = np.unique(students_18[courses_columns].values.reshape(-1))\n",
    "courses_18 = courses_18[courses_18 != '']\n",
    "\n",
    "students_17 = students_unique[students_unique['17_group'] != 0]\n",
    "courses_17 = np.unique(students_17[courses_columns].values.reshape(-1))\n",
    "courses_17 = courses_17[courses_17 != '']\n",
    "\n",
    "courses_both = np.intersect1d(courses_18, courses_17, assume_unique=True)\n",
    "print(courses_both)"
   ]
  },
  {
   "cell_type": "markdown",
   "metadata": {
    "id": "PYfX-Dr5hLu0"
   },
   "source": [
    "Методом исключения найдите курсы, которые предлагались только студентам 18-го года и только студентам 17-го года."
   ]
  },
  {
   "cell_type": "code",
   "execution_count": 18,
   "metadata": {},
   "outputs": [
    {
     "name": "stdout",
     "output_type": "stream",
     "text": [
      "Доступно только для 17-го года: ['DevOps' 'Анализ неструктурированных данных'\n",
      " 'Байесовские методы машинного обучения'\n",
      " 'Введение в дифференциальную геометрию'\n",
      " 'Генеративные модели в машинном обучении'\n",
      " 'Глубинное обучение в обработке звука' 'Компьютерное зрение'\n",
      " 'Конфликты и кооперация' 'Методы сжатия и передачи медиаданных'\n",
      " 'Обучение с подкреплением'\n",
      " 'Проектирование и разработка высоконагруженных сервисов'\n",
      " 'Символьные вычисления' 'Соревновательный анализ данных']\n",
      "\n",
      "Доступно только для 18-го года: ['Анализ данных в бизнесе' 'Дискретная оптимизация'\n",
      " 'Дополнительные главы прикладной статистики' 'Компьютерные сети'\n",
      " 'Матричные вычисления' 'Машинное обучение 2'\n",
      " 'Промышленное программирование на языке Java' 'Системы баз данных'\n",
      " 'Теория баз данных' 'Язык SQL']\n",
      "\n"
     ]
    }
   ],
   "source": [
    "courses_17_only = setdiff1d(courses_17, courses_18, assume_unique=True)\n",
    "courses_18_only = setdiff1d(courses_18, courses_17, assume_unique=True)\n",
    "\n",
    "print(f'Доступно только для 17-го года: {courses_17_only}\\n')\n",
    "print(f'Доступно только для 18-го года: {courses_18_only}\\n')"
   ]
  },
  {
   "cell_type": "markdown",
   "metadata": {
    "id": "uL45Tg5fhLu1"
   },
   "source": [
    "### Визуализации и matplotlib"
   ]
  },
  {
   "cell_type": "markdown",
   "metadata": {
    "id": "MY9lKmP2hLu1"
   },
   "source": [
    "При работе с данными часто неудобно делать какие-то выводы, если смотреть на таблицу и числа в частности, поэтому важно уметь визуализировать данные. Здесь будут описаны ключевые правила оформления графиков для **всех** домашних заданий.\n",
    "\n",
    "У matplotlib, конечно же, есть [документация](https://matplotlib.org/users/index.html) с большим количеством [примеров](https://matplotlib.org/examples/), но для начала достаточно знать про несколько основных типов графиков:\n",
    "- plot — обычный поточечный график, которым можно изображать кривые или отдельные точки;\n",
    "- hist — гистограмма, показывающая распределение некоторой величины;\n",
    "- scatter — график, показывающий взаимосвязь двух величин;\n",
    "- bar — столбцовый график, показывающий взаимосвязь количественной величины от категориальной.\n",
    "\n",
    "В этом задании вы попробуете построить один из них. Не забывайте про базовые принципы построения приличных графиков:\n",
    "- оси должны быть подписаны, причём не слишком мелко;\n",
    "- у графика должно быть название;\n",
    "- если изображено несколько графиков, то необходима поясняющая легенда;\n",
    "- все линии на графиках должны быть чётко видны (нет похожих цветов или цветов, сливающихся с фоном);\n",
    "- если отображена величина, имеющая очевидный диапазон значений (например, проценты могут быть от 0 до 100), то желательно масштабировать ось на весь диапазон значений (исключением является случай, когда вам необходимо показать малое отличие, которое незаметно в таких масштабах);\n",
    "- сетка на графике помогает оценить значения в точках на глаз, это обычно полезно, поэтому лучше ее отрисовывать;\n",
    "- если распределение на гистограмме имеет тяжёлые хвосты, лучше использовать логарифмическую шкалу.\n",
    "\n",
    "Еще одна билиотека для визуализации: [seaborn](https://jakevdp.github.io/PythonDataScienceHandbook/04.14-visualization-with-seaborn.html) (обычно сокращается до sns). Это настройка над matplotlib, иногда удобнее и красивее делать визуализации через неё. \n",
    "\n",
    "**5 пунктов после которых ваши графики не будут прежними:**\n",
    "- для красивой картинки <code>%config InlineBackend.figure_format = 'retina'</code>\n",
    "- задаем размер (почти) всех графиков (можно выбрать другие значения) <code>plt.rcParams['figure.figsize'] = 8, 5</code>\n",
    "- размер шрифта подписей графиков <code>plt.rcParams['font.size'] = 12</code>\n",
    "- формат в котором сохраняется изображение <code>mpl.rcParams['savefig.format'] = 'pdf'</code>\n",
    "- sns – seaborn, добавляет решетку <code>sns.set_style('darkgrid')</code>\n",
    "\n",
    "Добавьте эти функции в ячейку ниже. Каждый график все равно придется настраивать отдельно, но указанные строчки позволят значительно упростить процесс.  "
   ]
  },
  {
   "cell_type": "code",
   "execution_count": 22,
   "metadata": {
    "id": "na9doUOFhLu1"
   },
   "outputs": [],
   "source": [
    "%matplotlib inline\n",
    "import matplotlib.pyplot as plt\n",
    "import seaborn as sns\n",
    "from datetime import datetime as dt, timedelta\n",
    "\n",
    "%config InlineBackend.figure_format = 'retina'\n",
    "plt.rcParams['figure.figsize'] = 8, 5\n",
    "plt.rcParams['font.size'] = 12\n",
    "mpl.rcParams['savefig.format'] = 'pdf'\n",
    "sns.set_style('darkgrid')"
   ]
  },
  {
   "cell_type": "markdown",
   "metadata": {
    "id": "kikwLpxfhLu1"
   },
   "source": [
    "#### 8. [0.5 балла] Постройте график средних рейтингов по дням получения ответов (bar plot)."
   ]
  },
  {
   "cell_type": "code",
   "execution_count": 31,
   "metadata": {
    "id": "UTPLVeQvhLu2"
   },
   "outputs": [
    {
     "data": {
      "image/png": "[encoded data removed]",
      "text/plain": [
       "<Figure size 800x500 with 1 Axes>"
      ]
     },
     "metadata": {
      "image/png": {
       "height": 529,
       "width": 713
      }
     },
     "output_type": "display_data"
    }
   ],
   "source": [
    "students_unique['fielddate'] = students_unique['timestamp'].dt.strftime('%Y-%m-%d')\n",
    "rating_by_date = students_unique.groupby('fielddate').agg({'rating' : 'mean'})\n",
    "\n",
    "start_date = dt.strptime(min(students_unique['fielddate']), '%Y-%m-%d')\n",
    "end_date = dt.strptime(max(students_unique['fielddate']), '%Y-%m-%d')\n",
    "# о нет, это же цикл!!!\n",
    "dates = [dt.strftime(start_date + timedelta(days=x), '%Y-%m-%d') for x in range((end_date - start_date).days + 1)]\n",
    "\n",
    "\n",
    "plt.bar(x=rating_by_date.index, height=rating_by_date['rating'])\n",
    "plt.title('Средний рейтинг студентов по дате последнего заполнения формы')\n",
    "plt.xticks(rotation=45)\n",
    "plt.xlabel('Дата заполнения формы')\n",
    "plt.ylabel('Средний рейтинг')\n",
    "\n",
    "plt.show()"
   ]
  },
  {
   "cell_type": "markdown",
   "metadata": {},
   "source": [
    "Я честно даже не понял, как без глины добавить значение для пропущенной даты, поэтому теперь давайте кошерненько сделаем"
   ]
  },
  {
   "cell_type": "code",
   "execution_count": 32,
   "metadata": {},
   "outputs": [
    {
     "data": {
      "image/png": "[encoded data removed]",
      "text/plain": [
       "<Figure size 800x500 with 1 Axes>"
      ]
     },
     "metadata": {
      "image/png": {
       "height": 529,
       "width": 715
      }
     },
     "output_type": "display_data"
    }
   ],
   "source": [
    "fig = plt.figure()\n",
    "\n",
    "# sns.barplot(students_unique, x='fielddate', y='rating', estimator='mean', order=np.sort(np.unique(students_unique['fielddate'])))\n",
    "sns.barplot(students_unique, x='fielddate', y='rating', estimator='mean', order=dates)\n",
    "\n",
    "plt.title('Средний рейтинг студентов по дате последнего заполнения формы')\n",
    "plt.xticks(rotation=45)\n",
    "plt.xlabel('Дата заполнения формы')\n",
    "plt.ylabel('Средний рейтинг')\n",
    "\n",
    "plt.show()"
   ]
  },
  {
   "cell_type": "markdown",
   "metadata": {},
   "source": [
    "Само все сгруппировали, да еще и зачетные \"усики\" с 25 и 75 квантилями бахнули"
   ]
  },
  {
   "cell_type": "markdown",
   "metadata": {
    "id": "AmsQg9_xhLu2"
   },
   "source": [
    "Сохраните график в формате pdf (так он останется векторизованным)."
   ]
  },
  {
   "cell_type": "code",
   "execution_count": 33,
   "metadata": {
    "id": "vKZNSwWghLu2"
   },
   "outputs": [],
   "source": [
    "fig.savefig(\"rating_by_filling_date.pdf\", dpi=fig.dpi, bbox_inches='tight')"
   ]
  },
  {
   "cell_type": "markdown",
   "metadata": {
    "id": "sCgWwjl0hLu2"
   },
   "source": [
    "### 2. Распределение студентов по курсам."
   ]
  },
  {
   "cell_type": "markdown",
   "metadata": {},
   "source": [
    "<span style=\"color:red\">!!!ВНИМАТЕЛЬНО ИЗУЧИТЕ ТЕКСТ НИЖЕ!!!</span>.\n",
    "\n",
    "<span style=\"color:orange\">Если во время выполнения заданий у вас вознинут вопросы -- еще раз перечитайте текст целиком, скорее всего ответы уже содержатся в нем.</span>"
   ]
  },
  {
   "cell_type": "markdown",
   "metadata": {
    "id": "VNqXUpr4hLu3"
   },
   "source": [
    "Теперь вам нужно распределить студентов по осенним курсам по выбору, учитывая их предпочтения."
   ]
  },
  {
   "cell_type": "markdown",
   "metadata": {
    "id": "5cAR2FgphLu3"
   },
   "source": [
    "Алгоритм распределения студентов по курсам:\n",
    "1. По умолчанию на каждой дисциплине по выбору у 3 и 4 курсов может учиться 1 группа (до 30 студентов). Исключения описаны ниже. На blended-дисциплинах для четверокурсников количество мест не ограничено.\n",
    "2. Проводится первая волна отбора. Для каждой дисциплины формируется список тех, кто указал её первым приоритетом (если студент должен выбрать два курса по выбору, то для него дисциплины, которые он указал первым и вторым приоритетом, рассматриваются как дисциплины первого приоритета). Если желающих больше, чем мест, то выбирается топ по перцентилю рейтинга.\n",
    "3. На дисциплинах, где остались места после первой волны, формируются списки тех, кто выбрал их вторым приоритетом и еще не прошел на необходимое количество курсов. Места заполняются лучшими по перцентилю рейтинга студентами. После этого проводится такая же процедура для дисциплин третьего приоритета.\n",
    "4. Если студент не попал на необходимое количество курсов по итогам трёх волн, с ним связывается учебный офис и решает вопрос в индивидуальном порядке."
   ]
  },
  {
   "cell_type": "markdown",
   "metadata": {
    "id": "BiNKVwS6hLu3"
   },
   "source": [
    "Обращаем ваше внимание на следующие детали:\n",
    "- Конкурс на каждый курс общий для 3-го и 4-го курса\n",
    "\n",
    "- По умолчанию студент выбирает один осенний и один весенний курс по выбору, а также четверокурсники выбирают один blended-курс. Студенты групп 17-го года специализаций МОП и ТИ выбирают по 2 осенних и 2 весенних курса по выбору, также студенты групп 18' специализации МИ выбирают 2 осенних курса. <i>Для студентов, которые выбирают 2 курса (например, осенних) первый приоритет — <code>fall_1</code> и <code>fall_2</code>, второй приоритет — <code>fall_3</code>. Такие студенты участвуют только в двух волнах отбора</i>.\n",
    "\n",
    "- Студенты специализации МОП не могут выбрать весенним курсом по выбору Машинное обучение 2. **Если студент специализации МОП выбрал Машинное обучение 2, то его приоритеты сдвигаются.** Из-за совпадений первого и второго курса по выбору двигать приоритеты не надо.\n",
    "\n",
    "- Blended-курсы не трогайте, по ним не надо распределять, на другие курсы они никак не влияют.\n",
    "\n",
    "- Заведомо известно, что в процессе распределения не возникнет ситуации, когда на одно место претендуют студенты с одинаковым перцентилем.\n",
    "\n",
    "- Постарайтесь воздержаться от использования циклов там, где это возможно. <i>Допустимо итерироваться по <b>курсам</b>, на которые проводится отбор, и по <b>волнам</b> отбора. Если вы придумаете, как обойтись и без этих циклов, то на усмотрение проверяющего могут быть добавлены бонусные баллы. <b>Дублирование кода не признается успешным избавлением от циклов</b></i>\n",
    "\n",
    "- На выходе ожидается файл res_fall.csv с результатами распределения на осенние курсы по выбору. Файл должен быть следующего формата:\n",
    "\n",
    "    * Три колонки: ID, course1, course2\n",
    "    \n",
    "    * Если студент не попал на курс, но должен был, то вместо названия курса в ячейке должна быть строка \"???\"\n",
    "    \n",
    "    * Если студент должен выбрать только один курс, то в колонке course2 для него должна стоять строка \"-\"\n",
    "    \n",
    "    * Если студент должен выбрать два курса по выбору, то порядок в колонках course1 и course2 не важен.\n",
    "    \n",
    "    * hint: для сохранения воспользуйтесь df.to_csv('solution.csv', index=None)\n",
    "    \n",
    "\n",
    "Для работы вам могут понадобиться следующие данные:\n",
    "\n",
    "- Результаты опроса (вы уже использовали этот файл в первой части задания, но на всякий случай ссылка: https://www.dropbox.com/s/f4rm8sjc3v99p0m/_end_seminar.xlsx?dl=0)\n",
    "\n",
    "- Соответствие номеров групп специализациям:\n",
    "\n",
    "    * 171, 172 - МОП; 173 - ТИ; 174 — АДИС; 175, 176 — РС; 177 — АПР\n",
    "    \n",
    "    * У студентов 18-го года номера групп соответствуют номерам до распределения по специализациям. Это означает, что по номеру группы 18* нельзя однозначно определить специализацию студента. При этом в рамках распределения важно знать информацию только о двух из них: МОП и МИ. Эти знание можно получить из колонок 'is_ml_student\n",
    "' и 'is_mi' соответственно.\n",
    "\n",
    "- Ограничения по количеству мест на курсах по выбору:\n",
    "\n",
    "    * Осенние: везде 30 мест, кроме Statistical Learning Theory (60 мест), Высокопроизводительных вычислений (60 мест), Анализа неструктурированных данных ($\\infty$ мест)\n",
    "\n",
    "    * Весенние: везде 30 мест, кроме Обучения с подкреплением (60 мест), Анализа данных в бизнесе (60 мест).\n",
    "\n",
    "\n",
    "Кстати, убедитесь, что в данных больше нет пропусков и повторных записей."
   ]
  },
  {
   "cell_type": "code",
   "execution_count": 646,
   "metadata": {},
   "outputs": [],
   "source": [
    "df = students_unique.copy()"
   ]
  },
  {
   "cell_type": "markdown",
   "metadata": {
    "id": "o5t55IcQhLu4"
   },
   "source": [
    "#### 0. Проверка\n",
    "\n",
    "Для начала давайте убедимся, что вы успешно выполнили задания первой части и проверим ваши данные на наличие пропусков и повторов:"
   ]
  },
  {
   "cell_type": "code",
   "execution_count": 647,
   "metadata": {
    "id": "34HWEdVdhLu4"
   },
   "outputs": [],
   "source": [
    "assert df.shape[0] == 347, 'В таблице остались повторы или потеряны данные'\n",
    "\n",
    "assert df.isna().sum().sum() == 0, 'В таблице остались пропуски'"
   ]
  },
  {
   "cell_type": "markdown",
   "metadata": {
    "id": "_ImUFyG3hLu4"
   },
   "source": [
    "Если вы не получили AssertionError, то можете продолжать."
   ]
  },
  {
   "cell_type": "markdown",
   "metadata": {
    "id": "LTGSwwvAhLu4"
   },
   "source": [
    "#### 1. [1 балл] Создайте новый признак, обозначающий, сколько осенних курсов должен выбрать студент\n",
    "\n",
    "В этом вам может помочь информация о специализации и группе стундента."
   ]
  },
  {
   "cell_type": "code",
   "execution_count": 623,
   "metadata": {
    "id": "ouxo0kHFhLu4"
   },
   "outputs": [],
   "source": [
    "df['courses_fall_cnt'] = 1 + df['17_group'].isin([171, 172, 173]) + ((df['18_group'] != 0) & df.is_mi)"
   ]
  },
  {
   "cell_type": "code",
   "execution_count": 624,
   "metadata": {},
   "outputs": [
    {
     "data": {
      "text/html": [
       "<div>\n",
       "<style scoped>\n",
       "    .dataframe tbody tr th:only-of-type {\n",
       "        vertical-align: middle;\n",
       "    }\n",
       "\n",
       "    .dataframe tbody tr th {\n",
       "        vertical-align: top;\n",
       "    }\n",
       "\n",
       "    .dataframe thead th {\n",
       "        text-align: right;\n",
       "    }\n",
       "</style>\n",
       "<table border=\"1\" class=\"dataframe\">\n",
       "  <thead>\n",
       "    <tr style=\"text-align: right;\">\n",
       "      <th></th>\n",
       "      <th>id</th>\n",
       "      <th>timestamp</th>\n",
       "      <th>rating</th>\n",
       "      <th>18_group</th>\n",
       "      <th>is_mi</th>\n",
       "      <th>fall_1</th>\n",
       "      <th>fall_2</th>\n",
       "      <th>fall_3</th>\n",
       "      <th>spring_1</th>\n",
       "      <th>spring_2</th>\n",
       "      <th>spring_3</th>\n",
       "      <th>is_first_time</th>\n",
       "      <th>percentile</th>\n",
       "      <th>17_group</th>\n",
       "      <th>blended</th>\n",
       "      <th>is_ml_student</th>\n",
       "      <th>fielddate</th>\n",
       "      <th>courses_fall_cnt</th>\n",
       "    </tr>\n",
       "  </thead>\n",
       "  <tbody>\n",
       "    <tr>\n",
       "      <th>157</th>\n",
       "      <td>7fcf56aae6836855a689000a50e80360</td>\n",
       "      <td>2020-05-18 18:27:32.822</td>\n",
       "      <td>1145</td>\n",
       "      <td>0.0</td>\n",
       "      <td>0.0</td>\n",
       "      <td>Безопасность компьютерных систем</td>\n",
       "      <td>Безопасность компьютерных систем</td>\n",
       "      <td>Безопасность компьютерных систем</td>\n",
       "      <td>Символьные вычисления</td>\n",
       "      <td>Символьные вычисления</td>\n",
       "      <td>Символьные вычисления</td>\n",
       "      <td>Да</td>\n",
       "      <td>0.536232</td>\n",
       "      <td>173.0</td>\n",
       "      <td>Введение в дифференциальную геометрию</td>\n",
       "      <td>0.0</td>\n",
       "      <td>2020-05-18</td>\n",
       "      <td>2</td>\n",
       "    </tr>\n",
       "    <tr>\n",
       "      <th>297</th>\n",
       "      <td>e0fceae1e285f737630bb6123a1bd85d</td>\n",
       "      <td>2020-05-14 23:33:21.310</td>\n",
       "      <td>1203</td>\n",
       "      <td>0.0</td>\n",
       "      <td>0.0</td>\n",
       "      <td>Высокопроизводительные вычисления</td>\n",
       "      <td>Высокопроизводительные вычисления</td>\n",
       "      <td>Высокопроизводительные вычисления</td>\n",
       "      <td>Проектирование и разработка высоконагруженных ...</td>\n",
       "      <td>Проектирование и разработка высоконагруженных ...</td>\n",
       "      <td>Символьные вычисления</td>\n",
       "      <td>Да</td>\n",
       "      <td>0.311594</td>\n",
       "      <td>173.0</td>\n",
       "      <td>DevOps</td>\n",
       "      <td>0.0</td>\n",
       "      <td>2020-05-14</td>\n",
       "      <td>2</td>\n",
       "    </tr>\n",
       "  </tbody>\n",
       "</table>\n",
       "</div>"
      ],
      "text/plain": [
       "                                   id               timestamp  rating  \\\n",
       "157  7fcf56aae6836855a689000a50e80360 2020-05-18 18:27:32.822    1145   \n",
       "297  e0fceae1e285f737630bb6123a1bd85d 2020-05-14 23:33:21.310    1203   \n",
       "\n",
       "     18_group  is_mi                             fall_1  \\\n",
       "157       0.0    0.0   Безопасность компьютерных систем   \n",
       "297       0.0    0.0  Высокопроизводительные вычисления   \n",
       "\n",
       "                                fall_2                             fall_3  \\\n",
       "157   Безопасность компьютерных систем   Безопасность компьютерных систем   \n",
       "297  Высокопроизводительные вычисления  Высокопроизводительные вычисления   \n",
       "\n",
       "                                              spring_1  \\\n",
       "157                              Символьные вычисления   \n",
       "297  Проектирование и разработка высоконагруженных ...   \n",
       "\n",
       "                                              spring_2               spring_3  \\\n",
       "157                              Символьные вычисления  Символьные вычисления   \n",
       "297  Проектирование и разработка высоконагруженных ...  Символьные вычисления   \n",
       "\n",
       "    is_first_time  percentile  17_group  \\\n",
       "157            Да    0.536232     173.0   \n",
       "297            Да    0.311594     173.0   \n",
       "\n",
       "                                   blended  is_ml_student   fielddate  \\\n",
       "157  Введение в дифференциальную геометрию            0.0  2020-05-18   \n",
       "297                                 DevOps            0.0  2020-05-14   \n",
       "\n",
       "     courses_fall_cnt  \n",
       "157                 2  \n",
       "297                 2  "
      ]
     },
     "execution_count": 624,
     "metadata": {},
     "output_type": "execute_result"
    }
   ],
   "source": [
    "df[(df.fall_1 == df.fall_2) & (df.courses_fall_cnt == 2)]"
   ]
  },
  {
   "cell_type": "markdown",
   "metadata": {},
   "source": [
    "Найдите клоунов"
   ]
  },
  {
   "cell_type": "markdown",
   "metadata": {
    "id": "S47aq1sQhLu4"
   },
   "source": [
    "Проверка:"
   ]
  },
  {
   "cell_type": "code",
   "execution_count": 625,
   "metadata": {
    "id": "OlOgzDKDhLu5"
   },
   "outputs": [],
   "source": [
    "col_name = 'courses_fall_cnt'    # insert your new column name as str\n",
    "\n",
    "assert(df[df['id'] == '2662600c2c37e11e62f6ee0b88452f22'][col_name] == 2).all()\n",
    "assert(df[df['id'] == 'd555d2805e1d93d4f023e57dc4c8f403'][col_name] == 2).all()\n",
    "assert(df[df['id'] == '8fe79f84f36e3a5d2d6745621321302c'][col_name] == 1).all()\n",
    "assert(df[df['id'] == 'e4caca755ee0bdd711e18fb8084958b5'][col_name] == 1).all()"
   ]
  },
  {
   "cell_type": "markdown",
   "metadata": {
    "id": "VtQYhwuPhLu5"
   },
   "source": [
    "#### 2. [2 балла] Распределите студентов в соответствии с первым приоритетом"
   ]
  },
  {
   "cell_type": "markdown",
   "metadata": {},
   "source": [
    "Разделим нашу прекрасную работу на 3 части:\n",
    "\n",
    "    1. Выбираем курсы студентов в данной волне\n",
    "    2. В соответствии с оставшимися местами выбираем топ студентов на курсы\n",
    "    3. Записываем выбор студентам и уменьшаем места на курсах"
   ]
  },
  {
   "cell_type": "code",
   "execution_count": 626,
   "metadata": {},
   "outputs": [],
   "source": [
    "# Собираем списки на волны\n",
    "def get_stage_1_will(df, semester='fall'):\n",
    "    df_1 = df[['id', f'{semester}_1', f'courses_{semester}_cnt', 'percentile']].rename(columns={f'{semester}_1' : 'course'})\n",
    "    df_2 = df[['id', f'{semester}_2', f'courses_{semester}_cnt', 'percentile']].rename(columns={f'{semester}_2' : 'course'})\n",
    "    df_courses = pd.concat([df_1, df_2[df_2[f'courses_{semester}_cnt'] == 2]], axis=0)[['id', 'course', 'percentile']]\n",
    "    return df_courses[df_courses['course'] != '-']"
   ]
  },
  {
   "cell_type": "code",
   "execution_count": 627,
   "metadata": {},
   "outputs": [],
   "source": [
    "# Делаем табличку курс - кол-во мест, по ней будем дальше следить за оставшимися местами\n",
    "def get_courses(df, semester='fall'): \n",
    "    courses_columns = [f'{semester}_{i}' for i in range(1, 4)]\n",
    "    courses_list = np.unique(df[courses_columns].values.reshape(-1))\n",
    "    courses_list = courses_list[courses_list != '']\n",
    "    courses_capacity = pd.DataFrame({'course' : courses_list})\n",
    "    courses_capacity['left'] = 30\n",
    "    courses_capacity.loc[courses_capacity.course.isin(['Statistical Learning Theory', 'Высокопроизводительные вычисления',\n",
    "                                                   'Обучение с подкреплением', 'Анализ данных в бизнесе']), 'left'] = 60\n",
    "    courses_capacity.loc[courses_capacity.course == 'Анализ неструктурированных данных', 'left'] = df.shape[0]\n",
    "    return courses_capacity\n",
    "\n",
    "def get_banned_courses(df_results):\n",
    "    df_banned = pd.concat([df_results[['id', 'course1']].rename(columns={'course1' : 'course'}),\n",
    "                           df_results[['id', 'course2']].rename(columns={'course2' : 'course'})],\n",
    "                         axis=0)\n",
    "    df_banned = df_banned[~df_banned.course.isin(['???', '-'])]\n",
    "    return df_banned"
   ]
  },
  {
   "cell_type": "code",
   "execution_count": 628,
   "metadata": {},
   "outputs": [],
   "source": [
    "# Проводим волну отбора\n",
    "# df_will = ['id', 'course', 'percentile', ...]\n",
    "def assign_courses(df_will, df_courses, df_banned):\n",
    "    df_will = df_will[['id', 'course', 'percentile']].drop_duplicates().sort_values(['percentile'])\n",
    "    df_will = pd.merge(df_will, df_banned, on=['id','course'], how=\"outer\", indicator=True)\n",
    "    df_will = df_will[df_will['_merge'] == 'left_only']\n",
    "    df_will['place_on_course'] =  df_will.groupby('course').cumcount() + 1\n",
    "    df_assign = df_will.merge(df_courses, how='left', on='course')\n",
    "    df_assign = df_assign[df_assign.place_on_course <= df_assign.left]\n",
    "    df_places_taken = df_assign.groupby('course').agg({'id' : 'count'}).reset_index().rename(columns={'id' : 'cnt'})\n",
    "    df_courses = df_courses.merge(df_places_taken, how='left', on='course')\n",
    "    df_courses['left'] -= df_courses['cnt'].fillna(0)\n",
    "    assert len(df_assign[['id', 'course']].drop_duplicates()) == len(df_assign)\n",
    "    return df_assign[['id', 'course']], df_courses[['course', 'left']]"
   ]
  },
  {
   "cell_type": "code",
   "execution_count": 629,
   "metadata": {},
   "outputs": [],
   "source": [
    "# Записываем полученные курсы в результаты распределения - здесь у каждого не больше одного курса\n",
    "def write_courses(df_results, df_courses):\n",
    "    df_results = df_results.merge(df_courses, how='left', on='id')\n",
    "    assert len(df_results[(~df_results.course.isna()) & (df_results.course1 != '???') & (df_results.course2 != '???')]) == 0\n",
    "    add_course1_mask = (df_results.course1 == '???') & (~df_results.course.isna())\n",
    "    df_results.loc[add_course1_mask, ['course1']] = df_results[add_course1_mask]['course']\n",
    "    add_course2_mask = (df_results.course2 == '???') & (~df_results.course.isna()) & (df_results.course1 != df_results.course)\n",
    "    df_results.loc[add_course2_mask, ['course2']] = df_results[add_course2_mask]['course']\n",
    "    df_results = df_results.drop(columns=['course'])\n",
    "    return df_results\n",
    "    \n",
    "\n",
    "# Сюда приходит табличка с распределением волны - у кого-то может быть 2 курса - записываем их и возвращаем студентов, кто участвует в следующей волне\n",
    "def add_courses(df_results, df_stage_results):\n",
    "    df_courses_1 = df_stage_results.groupby('id').first()\n",
    "    df_courses_2 = df_stage_results[df_stage_results.duplicated(subset='id', keep='first')]\n",
    "    df_results = write_courses(df_results, df_courses_1)\n",
    "    df_results = write_courses(df_results, df_courses_2)\n",
    "    students_to_continue = df_results[(df_results.course1 == '???') | (df_results.course2 == '???')].id\n",
    "    return df_results, students_to_continue"
   ]
  },
  {
   "cell_type": "code",
   "execution_count": 630,
   "metadata": {},
   "outputs": [],
   "source": [
    "def get_results_template(df, semester='fall'):\n",
    "    df_results = df[['id', f'courses_{semester}_cnt']]\n",
    "    df_results.loc[:, ['course1']] = '???'\n",
    "    df_results.loc[:, ['course2']] = '???'\n",
    "    df_results.loc[df_results[f'courses_{semester}_cnt'] == 1, 'course2'] = '-'\n",
    "    return df_results[['id', 'course1', 'course2']]"
   ]
  },
  {
   "cell_type": "code",
   "execution_count": 631,
   "metadata": {},
   "outputs": [],
   "source": [
    "def run_stage(df_will, df_results, df_courses):\n",
    "    df_banned = get_banned_courses(df_results)\n",
    "    df_stage_results, df_courses = assign_courses(df_will, df_courses, df_banned)\n",
    "    df_results, students_to_continue = add_courses(df_results, df_stage_results)\n",
    "    return df_results, df_courses, students_to_continue"
   ]
  },
  {
   "cell_type": "code",
   "execution_count": 632,
   "metadata": {
    "scrolled": true
   },
   "outputs": [],
   "source": [
    "df_fall_results = get_results_template(df, 'fall')\n",
    "df_courses_fall = get_courses(df, 'fall')\n",
    "\n",
    "# Первая волна\n",
    "df_will = get_stage_1_will(df, 'fall')\n",
    "df_fall_results, df_courses_fall, students_to_continue = run_stage(df_will, df_fall_results, df_courses_fall)"
   ]
  },
  {
   "cell_type": "markdown",
   "metadata": {
    "id": "vc5zXP5hhLu5"
   },
   "source": [
    "Здесь для проверки приведена таблица, в которой есть 2 дополнительные колонки:\n",
    "    \n",
    "    1) is_first_place - является ли студент лучшим по перцентили хотя бы на одном из курсов, куда он был зачислен \n",
    "    (True / NaN)\n",
    "    \n",
    "    2) is_last_place  - является ли студент худшим по перцентили хотя бы на одном из курсов, куда он был зачислен (True / NaN)"
   ]
  },
  {
   "cell_type": "code",
   "execution_count": 633,
   "metadata": {},
   "outputs": [],
   "source": [
    "df_to_check = df.merge(df_fall_results, on='id')\n",
    "courses_groups = pd.concat([df_fall_results[['id', 'course1']].rename(columns={'course1' : 'course'}),\n",
    "                            df_fall_results[['id', 'course2']].rename(columns={'course2' : 'course'})])\\\n",
    "                    .merge(df[['id', 'percentile']], on='id')\n",
    "courses_groups = courses_groups[~courses_groups.course.isin(['-', '???'])]\n",
    "best_on_courses = courses_groups.sort_values('percentile').groupby('course').first()['id']\n",
    "worst_on_courses = courses_groups.sort_values('percentile').groupby('course').last()['id']\n",
    "df_to_check['is_first_place'] = None\n",
    "df_to_check['is_last_place'] = None\n",
    "df_to_check.loc[df_to_check.id.isin(best_on_courses), 'is_first_place'] = True\n",
    "df_to_check.loc[df_to_check.id.isin(worst_on_courses), 'is_last_place'] = True"
   ]
  },
  {
   "cell_type": "code",
   "execution_count": 634,
   "metadata": {
    "id": "uZTkGEq5hLu5"
   },
   "outputs": [],
   "source": [
    "!wget  -O '2_task_check.csv' -q 'https://www.dropbox.com/s/v8o2zzq3iz5gc9w/_2_task_check.csv?dl=0'\n",
    "check_df = pd.read_csv('2_task_check.csv')"
   ]
  },
  {
   "cell_type": "markdown",
   "metadata": {
    "id": "E_fbyB9qhLu5"
   },
   "source": [
    "После распределения студентов в соответствии с первым приоритетом добавьте в свой датафрейм аналогичные признаки и запустите проверку:"
   ]
  },
  {
   "cell_type": "code",
   "execution_count": 635,
   "metadata": {
    "id": "GOAzQeYehLu6"
   },
   "outputs": [],
   "source": [
    "fir_col_name = 'is_first_place'      # insert name of your new column with is_first_place as str\n",
    "last_col_name = 'is_last_place'     # insert name of your new column with is_last_place as str\n",
    "\n",
    "\n",
    "assert((df_to_check[df_to_check[fir_col_name].isna() == False][['id']].sort_values('id').reset_index(drop=True)\n",
    "        ==\n",
    "        check_df[check_df['is_first_place'].isna() == False][['id']].sort_values('id').reset_index(drop=True)\n",
    "       ).id.values).all()\n",
    "\n",
    "\n",
    "assert((df_to_check[df_to_check[last_col_name].isna() == False][['id']].sort_values('id').reset_index(drop=True)\n",
    "       == \n",
    "       check_df[check_df['is_last_place'].isna() == False][['id']].sort_values('id').reset_index(drop=True)\n",
    "      ).id.values).all()"
   ]
  },
  {
   "cell_type": "markdown",
   "metadata": {
    "id": "RO6DwNNFhLu6"
   },
   "source": [
    "#### 3. [3 балла] Проведите все три волны отбора студентов на курсы по выбору"
   ]
  },
  {
   "cell_type": "markdown",
   "metadata": {},
   "source": [
    "Не просто так я потратил пару часов на функции в прошлом пункте - нам осталось написать выбор приоритетов для второй и третьей волны"
   ]
  },
  {
   "cell_type": "code",
   "execution_count": 636,
   "metadata": {
    "id": "jn2OOrLjhLu6"
   },
   "outputs": [],
   "source": [
    "def get_stage_2_will(df, students_to_continue, semester='fall'):\n",
    "    df = df[df.id.isin(students_to_continue)]\n",
    "    df_courses = df[['id', f'{semester}_2', f'courses_{semester}_cnt', 'percentile']].rename(columns={f'{semester}_2' : 'course'})\n",
    "    df_courses.loc[df_courses[f'courses_{semester}_cnt'] == 2, 'course'] = df[df_courses[f'courses_{semester}_cnt'] == 2][f'{semester}_3']\n",
    "    return df_courses[df_courses['course'] != '-']\n",
    "\n",
    "def get_stage_3_will(df, students_to_continue, semester='fall'):\n",
    "    df = df[df.id.isin(students_to_continue) & (df[f'courses_{semester}_cnt'] == 1)]\n",
    "    df_courses = df[['id', f'{semester}_3', f'courses_{semester}_cnt', 'percentile']].rename(columns={f'{semester}_3' : 'course'})\n",
    "    return df_courses[df_courses['course'] != '-']"
   ]
  },
  {
   "cell_type": "code",
   "execution_count": 637,
   "metadata": {},
   "outputs": [],
   "source": [
    "# Вторая волна\n",
    "df_will = get_stage_2_will(df, students_to_continue, 'fall')\n",
    "df_fall_results, df_courses_fall, students_to_continue = run_stage(df_will, df_fall_results, df_courses_fall)\n",
    "\n",
    "# Третья волна\n",
    "df_will = get_stage_3_will(df, students_to_continue, 'fall')\n",
    "df_fall_results, df_courses_fall, students_to_continue = run_stage(df_will, df_fall_results, df_courses_fall)"
   ]
  },
  {
   "cell_type": "code",
   "execution_count": 638,
   "metadata": {},
   "outputs": [],
   "source": [
    "res_fall = df_fall_results.rename(columns={'id' : 'ID'})\n",
    "res_fall.to_csv('res_fall.csv', index=False)"
   ]
  },
  {
   "cell_type": "markdown",
   "metadata": {
    "id": "1xQjV9BuhLu6"
   },
   "source": [
    "**Отправьте свой файл res_fall.csv в контест (https://contest.yandex.ru/contest/52663/problems/A/) и прикрепите/укажите ниже ваш никнейм и ссылку на успешную посылку.**"
   ]
  },
  {
   "cell_type": "markdown",
   "metadata": {},
   "source": [
    "ник: Даниил\n",
    "\n",
    "[ссылка](https://contest.yandex.ru/contest/52663/run-report/91874907/)\n",
    "\n",
    "посылка: 91874907"
   ]
  },
  {
   "cell_type": "markdown",
   "metadata": {
    "id": "QRTbPrgbhLu6"
   },
   "source": [
    "*Дисклеймер:*\n",
    "\n",
    "Успешная посылка в контесте является **обязательным** условием получения полного балла за этот (и следующий) пункт. Если добиться успешной посылки не удастся, баллы будут выставляться на усмотрение проверяюшего. \n",
    "\n",
    "При этом ОК в контесте не гарантирует полный балл. Оценка всё равно может быть снижена в случае обнаружения неэффективностей или ошибок в коде. Если вы сдадите в AnyTask очевидно неработающий код или ноутбук без кода, но при этом в контест будет сдан корректный файл, то это будет расцениваться как плагиат."
   ]
  },
  {
   "cell_type": "markdown",
   "metadata": {
    "id": "1IkQa_gdhLu6"
   },
   "source": [
    "На всякий случай просим вас сдать вместе с ноутбуком файл res_fall.csv в anytask"
   ]
  },
  {
   "cell_type": "markdown",
   "metadata": {
    "id": "k8d711qGhLu7"
   },
   "source": [
    "**Дополнительное задание. [2 бонусных балла] Распределите таким же образом студентов еще и на весенние курсы по выбору.**\n",
    "\n",
    "Если ваш код был хорошо структурирован, то это не составит проблем. \n",
    "\n",
    "Если вы выполнили это задание, сдайте среди прочего файл res_spring.csv в таком же формате, как и res_fall.csv."
   ]
  },
  {
   "cell_type": "code",
   "execution_count": 665,
   "metadata": {
    "id": "hwmusOGThLu7"
   },
   "outputs": [],
   "source": [
    "df['courses_spring_cnt'] = 1 + df['17_group'].isin([171, 172, 173])\n",
    "\n",
    "# Уберем клоунов\n",
    "df.loc[(df.is_ml_student == 1) & (df.spring_3 == 'Машинное обучение 2'), ['spring_3']] = \"-\"\n",
    "\n",
    "mask_mo_spring_2 = (df.is_ml_student == 1) & (df.spring_2 == 'Машинное обучение 2')\n",
    "df.loc[mask_mo_spring_2, ['spring_2']] = df.loc[mask_mo_spring_2][['spring_3']].values\n",
    "df.loc[mask_mo_spring_2, ['spring_3']] = \"-\"\n",
    "\n",
    "mask_mo_spring_1 = (df.is_ml_student == 1) & (df.spring_1 == 'Машинное обучение 2')\n",
    "df.loc[mask_mo_spring_1, ['spring_1', 'spring_2']] = df.loc[mask_mo_spring_1, ['spring_2', 'spring_3']].values\n",
    "df.loc[mask_mo_spring_1, ['spring_3']] = \"-\""
   ]
  },
  {
   "cell_type": "markdown",
   "metadata": {
    "id": "It7QQZLYhLu7"
   },
   "source": [
    "**Отправьте свой файл res_spring.csv в контест (https://contest.yandex.ru/contest/52663/problems/A) и прикрепите/укажите ниже ваш никнейм и ссылку на успешную посылку.**"
   ]
  },
  {
   "cell_type": "markdown",
   "metadata": {},
   "source": [
    "ник: Даниил\n",
    "\n",
    "[ссылка](https://contest.yandex.ru/contest/52663/run-report/91879654/)\n",
    "\n",
    "посылка: 91879654"
   ]
  },
  {
   "cell_type": "code",
   "execution_count": 666,
   "metadata": {},
   "outputs": [],
   "source": [
    "df_spring_results = get_results_template(df, 'spring')\n",
    "df_courses_spring = get_courses(df, 'spring')\n",
    "\n",
    "# Первая волна\n",
    "df_will = get_stage_1_will(df, 'spring')\n",
    "df_spring_results, df_courses_spring, students_to_continue = run_stage(df_will, df_spring_results, df_courses_spring)\n",
    "\n",
    "# Вторая волна\n",
    "df_will = get_stage_2_will(df, students_to_continue, 'spring')\n",
    "df_spring_results, df_courses_spring, students_to_continue = run_stage(df_will, df_spring_results, df_courses_spring)\n",
    "\n",
    "# Третья волна\n",
    "df_will = get_stage_3_will(df, students_to_continue, 'spring')\n",
    "df_spring_results, df_courses_spring, students_to_continue = run_stage(df_will, df_spring_results, df_courses_spring)\n",
    "\n",
    "res_spring = df_spring_results.rename(columns={'id' : 'ID'})\n",
    "res_spring.to_csv('res_spring.csv', index=False)"
   ]
  },
  {
   "cell_type": "markdown",
   "metadata": {
    "id": "1YcouVTihLu7"
   },
   "source": [
    "На всякий случай просим вас сдать вместе с ноутбуком файл res_spring.csv в anytask"
   ]
  },
  {
   "cell_type": "markdown",
   "metadata": {
    "id": "uY_OY6inhLu7"
   },
   "source": [
    "Вставьте картинку, описывающую ваш опыт выполнения этого задания:"
   ]
  },
  {
   "attachments": {
    "c36c68b8-516a-4659-af3a-1c6f61a40d38.png": {
     "image/png": "[encoded data removed]"
    }
   },
   "cell_type": "markdown",
   "metadata": {},
   "source": [
    "![Screenshot 2023-10-02 at 22.13.49.png](attachment:c36c68b8-516a-4659-af3a-1c6f61a40d38.png)"
   ]
  },
  {
   "cell_type": "markdown",
   "metadata": {},
   "source": [
    "Было ли мне грустно? Да, было"
   ]
  }
 ],
 "metadata": {
  "colab": {
   "name": "homework-practice-01-pandas.ipynb",
   "provenance": []
  },
  "kernelspec": {
   "display_name": "Python 3 (ipykernel)",
   "language": "python",
   "name": "python3"
  },
  "language_info": {
   "codemirror_mode": {
    "name": "ipython",
    "version": 3
   },
   "file_extension": ".py",
   "mimetype": "text/x-python",
   "name": "python",
   "nbconvert_exporter": "python",
   "pygments_lexer": "ipython3",
   "version": "3.11.5"
  },
  "varInspector": {
   "cols": {
    "lenName": 16,
    "lenType": 16,
    "lenVar": 40
   },
   "kernels_config": {
    "python": {
     "delete_cmd_postfix": "",
     "delete_cmd_prefix": "del ",
     "library": "var_list.py",
     "varRefreshCmd": "print(var_dic_list())"
    },
    "r": {
     "delete_cmd_postfix": ") ",
     "delete_cmd_prefix": "rm(",
     "library": "var_list.r",
     "varRefreshCmd": "cat(var_dic_list()) "
    }
   },
   "types_to_exclude": [
    "module",
    "function",
    "builtin_function_or_method",
    "instance",
    "_Feature"
   ],
   "window_display": false
  },
  "vscode": {
   "interpreter": {
    "hash": "e7370f93d1d0cde622a1f8e1c04877d8463912d04d973331ad4851f04de6915a"
   }
  }
 },
 "nbformat": 4,
 "nbformat_minor": 4
}
