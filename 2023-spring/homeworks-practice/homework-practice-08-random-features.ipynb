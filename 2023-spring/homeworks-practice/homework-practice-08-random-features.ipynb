{
 "cells": [
  {
   "cell_type": "markdown",
   "metadata": {
    "id": "RYp0bXOFK-hP"
   },
   "source": [
    "# Машинное обучение, ФКН ВШЭ\n",
    "\n",
    "## Практическое задание 8. Метод опорных векторов и аппроксимация ядер\n",
    "\n",
    "### Общая информация\n",
    "\n",
    "Дата выдачи: 02.02.2024\n",
    "\n",
    "Мягкий дедлайн: 23:59MSK 19.02.2024\n",
    "\n",
    "Жесткий дедлайн: 23:59MSK 25.02.2024\n",
    "\n",
    "### Оценивание и штрафы\n",
    "Каждая из задач имеет определенную «стоимость» (указана в скобках около задачи). Максимальная оценка за работу (без учёта бонусов) — 10 баллов.\n",
    "\n",
    "Сдавать задание после указанного жёсткого срока сдачи нельзя. При выставлении неполного балла за задание в связи с наличием ошибок на усмотрение проверяющего предусмотрена возможность исправить работу на указанных в ответном письме условиях.\n",
    "\n",
    "Задание выполняется самостоятельно. «Похожие» решения считаются плагиатом и все задействованные студенты (в том числе те, у кого списали) не могут получить за него больше 0 баллов (подробнее о плагиате см. на странице курса). Если вы нашли решение какого-то из заданий (или его часть) в открытом источнике, необходимо указать ссылку на этот источник в отдельном блоке в конце вашей работы (скорее всего вы будете не единственным, кто это нашел, поэтому чтобы исключить подозрение в плагиате, необходима ссылка на источник).\n",
    "\n",
    "Неэффективная реализация кода может негативно отразиться на оценке.\n",
    "\n",
    "### Формат сдачи\n",
    "Задания сдаются через систему anytask. Посылка должна содержать:\n",
    "* Ноутбук homework-practice-08-random-features-Username.ipynb\n",
    "\n",
    "Username — ваша фамилия и имя на латинице именно в таком порядке"
   ]
  },
  {
   "cell_type": "markdown",
   "metadata": {
    "id": "vY8vT0W_K-hR"
   },
   "source": [
    "### О задании\n",
    "\n",
    "На занятиях мы подробно обсуждали метод опорных векторов (SVM). В базовой версии в нём нет чего-то особенного — мы всего лишь используем специальную функцию потерь, которая не требует устремлять отступы к бесконечности; ей достаточно, чтобы отступы были не меньше +1. Затем мы узнали, что SVM можно переписать в двойственном виде, который, позволяет заменить скалярные произведения объектов на ядра. Это будет соответствовать построению модели в новом пространстве более высокой размерности, координаты которого представляют собой нелинейные модификации исходных признаков.\n",
    "\n",
    "Ядровой SVM, к сожалению, довольно затратен по памяти (нужно хранить матрицу Грама размера $d \\times d$) и по времени (нужно решать задачу условной оптимизации с квадратичной функцией, а это не очень быстро). Мы обсуждали, что есть способы посчитать новые признаки $\\tilde \\varphi(x)$ на основе исходных так, что скалярные произведения этих новых $\\langle \\tilde \\varphi(x), \\tilde \\varphi(z) \\rangle$ приближают ядро $K(x, z)$.\n",
    "\n",
    "Мы будем исследовать аппроксимации методом Random Fourier Features (RFF, также в литературе встречается название Random Kitchen Sinks) для гауссовых ядер. Будем использовать формулы, которые немного отличаются от того, что было на лекциях (мы добавим сдвиги внутрь тригонометрических функций и будем использовать только косинусы, потому что с нужным сдвигом косинус превратится в синус):\n",
    "$$\\tilde \\varphi(x) = (\n",
    "\\cos (w_1^T x + b_1),\n",
    "\\dots,\n",
    "\\cos (w_n^T x + b_n)\n",
    "),$$\n",
    "где $w_j \\sim \\mathcal{N}(0, 1/\\sigma^2)$, $b_j \\sim U[-\\pi, \\pi]$.\n",
    "\n",
    "На новых признаках $\\tilde \\varphi(x)$ мы будем строить любую линейную модель.\n",
    "\n",
    "Можно считать, что это некоторая новая парадигма построения сложных моделей. Можно направленно искать сложные нелинейные закономерности в данных с помощью градиентного бустинга или нейронных сетей, а можно просто нагенерировать большое количество случайных нелинейных признаков и надеяться, что быстрая и простая модель (то есть линейная) сможет показать на них хорошее качество. В этом задании мы изучим, насколько работоспособна такая идея.\n",
    "\n",
    "### Алгоритм\n",
    "\n",
    "Вам потребуется реализовать следующий алгоритм:\n",
    "1. Понизить размерность выборки до new_dim с помощью метода главных компонент.\n",
    "2. Для полученной выборки оценить гиперпараметр $\\sigma^2$ с помощью эвристики (рекомендуем считать медиану не по всем парам объектов, а по случайному подмножеству из где-то миллиона пар объектов): $$\\sigma^2 = \\text{median}_{i, j = 1, \\dots, \\ell, i \\neq j} \\left\\{\\sum_{k = 1}^{d} (x_{ik} - x_{jk})^2 \\right\\}$$\n",
    "3. Сгенерировать n_features наборов весов $w_j$ и сдвигов $b_j$.\n",
    "4. Сформировать n_features новых признаков по формулам, приведённым выше.\n",
    "5. Обучить линейную модель (логистическую регрессию или SVM) на новых признаках.\n",
    "6. Повторить преобразования (PCA, формирование новых признаков) к тестовой выборке и применить модель."
   ]
  },
  {
   "cell_type": "markdown",
   "metadata": {
    "id": "N_sGunb7K-hS"
   },
   "source": [
    "Тестировать алгоритм мы будем на данных Fashion MNIST. Ниже код для их загрузки и подготовки."
   ]
  },
  {
   "cell_type": "code",
   "execution_count": 1,
   "metadata": {
    "id": "YyG6dBfjK-hS"
   },
   "outputs": [
    {
     "name": "stderr",
     "output_type": "stream",
     "text": [
      "2024-02-26 23:38:45.660100: I tensorflow/core/platform/cpu_feature_guard.cc:182] This TensorFlow binary is optimized to use available CPU instructions in performance-critical operations.\n",
      "To enable the following instructions: AVX2 FMA, in other operations, rebuild TensorFlow with the appropriate compiler flags.\n"
     ]
    }
   ],
   "source": [
    "import keras\n",
    "from keras.datasets import fashion_mnist\n",
    "(x_train_pics, y_train), (x_test_pics, y_test) = fashion_mnist.load_data()\n",
    "x_train = x_train_pics.reshape(y_train.shape[0], -1)\n",
    "x_test = x_test_pics.reshape(y_test.shape[0], -1)"
   ]
  },
  {
   "cell_type": "markdown",
   "metadata": {
    "id": "rJNN55F7K-hT"
   },
   "source": [
    "__Задание 1. (5 баллов)__\n",
    "\n",
    "Реализуйте алгоритм, описанный выше. Можете воспользоваться шаблоном класса ниже или написать свой интерфейс.\n",
    "\n",
    "Ваша реализация должна поддерживать следующие опции:\n",
    "1. Возможность задавать значения гиперпараметров new_dim (по умолчанию 50) и n_features (по умолчанию 1000).\n",
    "2. Возможность включать или выключать предварительное понижение размерности с помощью метода главных компонент.\n",
    "3. Возможность выбирать тип линейной модели (логистическая регрессия или SVM с линейным ядром).\n",
    "\n",
    "Протестируйте на данных Fashion MNIST, сформированных кодом выше. Если на тесте у вас получилась доля верных ответов не ниже 0.84 с гиперпараметрами по умолчанию, то вы всё сделали правильно."
   ]
  },
  {
   "cell_type": "code",
   "execution_count": 2,
   "metadata": {},
   "outputs": [],
   "source": [
    "import numpy as np\n",
    "from sklearn.base import BaseEstimator, TransformerMixin\n",
    "from sklearn.decomposition import PCA\n",
    "from sklearn.svm import SVC\n",
    "from sklearn.linear_model import LogisticRegression"
   ]
  },
  {
   "cell_type": "code",
   "execution_count": 3,
   "metadata": {
    "id": "jP8yepx8K-hT"
   },
   "outputs": [],
   "source": [
    "class RFFPipeline(BaseEstimator, TransformerMixin):\n",
    "    def __init__(self, n_features=1000, new_dim=50, use_PCA=True, classifier='logreg'):\n",
    "        \"\"\"        \n",
    "        Implements pipeline, which consists of PCA decomposition,\n",
    "        Random Fourier Features approximation and linear classification model.\n",
    "        \n",
    "        n_features, int: amount of synthetic random features generated with RFF approximation.\n",
    "\n",
    "        new_dim, int: PCA output size.\n",
    "        \n",
    "        use_PCA, bool: whether to include PCA preprocessing.\n",
    "        \n",
    "        classifier, string: either 'svm' or 'logreg', a linear classification model to use on top of pipeline.\n",
    "        \n",
    "        Feel free to edit this template for your preferences.    \n",
    "        \"\"\"\n",
    "        self.n_features = n_features\n",
    "        self.use_PCA = use_PCA\n",
    "        self.new_dim = new_dim\n",
    "        self.classifier = classifier\n",
    "\n",
    "        if classifier == 'logreg':\n",
    "            self.classifier = LogisticRegression()\n",
    "        elif classifier == \"svm\":\n",
    "            self.classifier = SVC(kernel=\"linear\", probability=True)\n",
    "        else:\n",
    "            raise ValueError(\"Classifier not defined\")\n",
    "        \n",
    "    def fit(self, X, y):\n",
    "        \"\"\"\n",
    "        Fit all parts of algorithm (PCA, RFF, Classification) to training set.\n",
    "        \"\"\"\n",
    "        # Your code here: (￣▽￣)/♫•*¨*•.¸¸♪\n",
    "        if self.use_PCA:\n",
    "            self.pca = PCA(n_components=self.new_dim)\n",
    "            X = self.pca.fit_transform(X)\n",
    "        else:\n",
    "            self.new_dim = X.shape[1]\n",
    "        \n",
    "        n_subsample = int(1e3)\n",
    "        subsample_ind = np.random.permutation(X.shape[0])[:n_subsample]\n",
    "        X_sample = X[subsample_ind, :]\n",
    "        sigma = np.sqrt(np.median(np.sum((X_sample[:, np.newaxis, :] - X_sample[np.newaxis, ...]) ** 2, axis=2)))\n",
    "\n",
    "        self.w = np.random.normal(0, 1.0 / sigma, (self.new_dim, self.n_features))\n",
    "        self.b = np.random.uniform(-np.pi, np.pi, (self.n_features))\n",
    "\n",
    "        X_new_features = np.cos(X @ self.w + self.b[np.newaxis, :])\n",
    "\n",
    "        self.classifier.fit(X_new_features, y)\n",
    "\n",
    "        return self\n",
    "\n",
    "    def predict_proba(self, X):\n",
    "        \"\"\"\n",
    "        Apply pipeline to obtain scores for input data.\n",
    "        \"\"\"\n",
    "        if self.use_PCA:\n",
    "            X = self.pca.transform(X)\n",
    "        X = np.cos(X @ self.w + self.b[np.newaxis, :])\n",
    "        y_proba = self.classifier.predict_proba(X)\n",
    "        return y_proba\n",
    "        \n",
    "    def predict(self, X):\n",
    "        \"\"\"\n",
    "        Apply pipeline to obtain discrete predictions for input data.\n",
    "        \"\"\"\n",
    "        y_proba = self.predict_proba(X)\n",
    "        return y_proba.argmax(axis=1)"
   ]
  },
  {
   "cell_type": "code",
   "execution_count": 4,
   "metadata": {},
   "outputs": [
    {
     "name": "stderr",
     "output_type": "stream",
     "text": [
      "/usr/local/lib/python3.11/site-packages/sklearn/linear_model/_logistic.py:460: ConvergenceWarning: lbfgs failed to converge (status=1):\n",
      "STOP: TOTAL NO. of ITERATIONS REACHED LIMIT.\n",
      "\n",
      "Increase the number of iterations (max_iter) or scale the data as shown in:\n",
      "    https://scikit-learn.org/stable/modules/preprocessing.html\n",
      "Please also refer to the documentation for alternative solver options:\n",
      "    https://scikit-learn.org/stable/modules/linear_model.html#logistic-regression\n",
      "  n_iter_i = _check_optimize_result(\n"
     ]
    },
    {
     "name": "stdout",
     "output_type": "stream",
     "text": [
      "RFF accuracy: 0.8597\n"
     ]
    }
   ],
   "source": [
    "from sklearn.metrics import accuracy_score\n",
    "\n",
    "rff = RFFPipeline()\n",
    "rff.fit(x_train, y_train)\n",
    "predictions = rff.predict(x_test)\n",
    "acc = accuracy_score(y_test, predictions)\n",
    "print(f\"RFF accuracy: {acc}\")"
   ]
  },
  {
   "cell_type": "markdown",
   "metadata": {},
   "source": [
    "Ура!"
   ]
  },
  {
   "cell_type": "markdown",
   "metadata": {
    "id": "HYqQUEi-K-hU"
   },
   "source": [
    "__Задание 2. (3 балла)__\n",
    "\n",
    "Сравните подход со случайными признаками с обучением SVM на исходных признаках. Попробуйте вариант с обычным (линейным) SVM и с ядровым SVM. Ядровой SVM может очень долго обучаться, поэтому можно делать любые разумные вещи для ускорения: брать подмножество объектов из обучающей выборки, например.\n",
    "\n",
    "Сравните подход со случайными признаками с вариантом, в котором вы понижаете размерность с помощью PCA и обучаете градиентный бустинг. Используйте одну из реализаций CatBoost/LightGBM/XGBoost, не забудьте подобрать число деревьев и длину шага.\n",
    "\n",
    "Сделайте выводы — насколько идея со случайными признаками работает? Сравните как с точки зрения качества, так и с точки зрения скорости обучения и применения."
   ]
  },
  {
   "cell_type": "code",
   "execution_count": 5,
   "metadata": {
    "id": "qN8LUlJgK-hV"
   },
   "outputs": [],
   "source": [
    "def evaluate_model(model, model_name, X_train, y_train, X_test, y_test):\n",
    "    print(f\"Evaluating {model_name}\")\n",
    "\n",
    "    acc_train = accuracy_score(y_train, model.predict(X_train))\n",
    "    print(f\"Train accuracy: {acc_train}\")\n",
    "\n",
    "    acc_test = accuracy_score(y_test, model.predict(X_test))\n",
    "    print(f\"Test accuracy: {acc_test}\")"
   ]
  },
  {
   "cell_type": "code",
   "execution_count": 6,
   "metadata": {},
   "outputs": [
    {
     "data": {
      "text/plain": [
       "(60000, 10000)"
      ]
     },
     "execution_count": 6,
     "metadata": {},
     "output_type": "execute_result"
    }
   ],
   "source": [
    "x_train.shape[0], x_test.shape[0]"
   ]
  },
  {
   "cell_type": "code",
   "execution_count": 7,
   "metadata": {},
   "outputs": [],
   "source": [
    "from sklearn.preprocessing import StandardScaler\n",
    "\n",
    "np.random.seed(42)\n",
    "n_subsamples = 15000 # странно брать меньше теста\n",
    "subsample_indicies = np.random.permutation(x_train.shape[0])[:n_subsamples]\n",
    "x_train_sample = x_train[subsample_indicies, :]\n",
    "y_train_sample = y_train[subsample_indicies]\n",
    "\n",
    "# Без этого нет сходимости\n",
    "scaler = StandardScaler()\n",
    "x_train_sample = scaler.fit_transform(x_train_sample)\n",
    "x_test_scaled = scaler.transform(x_test)"
   ]
  },
  {
   "cell_type": "code",
   "execution_count": 9,
   "metadata": {},
   "outputs": [
    {
     "name": "stdout",
     "output_type": "stream",
     "text": [
      "CPU times: user 40.4 s, sys: 209 ms, total: 40.6 s\n",
      "Wall time: 41 s\n"
     ]
    },
    {
     "data": {
      "text/html": [
       "<style>#sk-container-id-1 {color: black;}#sk-container-id-1 pre{padding: 0;}#sk-container-id-1 div.sk-toggleable {background-color: white;}#sk-container-id-1 label.sk-toggleable__label {cursor: pointer;display: block;width: 100%;margin-bottom: 0;padding: 0.3em;box-sizing: border-box;text-align: center;}#sk-container-id-1 label.sk-toggleable__label-arrow:before {content: \"▸\";float: left;margin-right: 0.25em;color: #696969;}#sk-container-id-1 label.sk-toggleable__label-arrow:hover:before {color: black;}#sk-container-id-1 div.sk-estimator:hover label.sk-toggleable__label-arrow:before {color: black;}#sk-container-id-1 div.sk-toggleable__content {max-height: 0;max-width: 0;overflow: hidden;text-align: left;background-color: #f0f8ff;}#sk-container-id-1 div.sk-toggleable__content pre {margin: 0.2em;color: black;border-radius: 0.25em;background-color: #f0f8ff;}#sk-container-id-1 input.sk-toggleable__control:checked~div.sk-toggleable__content {max-height: 200px;max-width: 100%;overflow: auto;}#sk-container-id-1 input.sk-toggleable__control:checked~label.sk-toggleable__label-arrow:before {content: \"▾\";}#sk-container-id-1 div.sk-estimator input.sk-toggleable__control:checked~label.sk-toggleable__label {background-color: #d4ebff;}#sk-container-id-1 div.sk-label input.sk-toggleable__control:checked~label.sk-toggleable__label {background-color: #d4ebff;}#sk-container-id-1 input.sk-hidden--visually {border: 0;clip: rect(1px 1px 1px 1px);clip: rect(1px, 1px, 1px, 1px);height: 1px;margin: -1px;overflow: hidden;padding: 0;position: absolute;width: 1px;}#sk-container-id-1 div.sk-estimator {font-family: monospace;background-color: #f0f8ff;border: 1px dotted black;border-radius: 0.25em;box-sizing: border-box;margin-bottom: 0.5em;}#sk-container-id-1 div.sk-estimator:hover {background-color: #d4ebff;}#sk-container-id-1 div.sk-parallel-item::after {content: \"\";width: 100%;border-bottom: 1px solid gray;flex-grow: 1;}#sk-container-id-1 div.sk-label:hover label.sk-toggleable__label {background-color: #d4ebff;}#sk-container-id-1 div.sk-serial::before {content: \"\";position: absolute;border-left: 1px solid gray;box-sizing: border-box;top: 0;bottom: 0;left: 50%;z-index: 0;}#sk-container-id-1 div.sk-serial {display: flex;flex-direction: column;align-items: center;background-color: white;padding-right: 0.2em;padding-left: 0.2em;position: relative;}#sk-container-id-1 div.sk-item {position: relative;z-index: 1;}#sk-container-id-1 div.sk-parallel {display: flex;align-items: stretch;justify-content: center;background-color: white;position: relative;}#sk-container-id-1 div.sk-item::before, #sk-container-id-1 div.sk-parallel-item::before {content: \"\";position: absolute;border-left: 1px solid gray;box-sizing: border-box;top: 0;bottom: 0;left: 50%;z-index: -1;}#sk-container-id-1 div.sk-parallel-item {display: flex;flex-direction: column;z-index: 1;position: relative;background-color: white;}#sk-container-id-1 div.sk-parallel-item:first-child::after {align-self: flex-end;width: 50%;}#sk-container-id-1 div.sk-parallel-item:last-child::after {align-self: flex-start;width: 50%;}#sk-container-id-1 div.sk-parallel-item:only-child::after {width: 0;}#sk-container-id-1 div.sk-dashed-wrapped {border: 1px dashed gray;margin: 0 0.4em 0.5em 0.4em;box-sizing: border-box;padding-bottom: 0.4em;background-color: white;}#sk-container-id-1 div.sk-label label {font-family: monospace;font-weight: bold;display: inline-block;line-height: 1.2em;}#sk-container-id-1 div.sk-label-container {text-align: center;}#sk-container-id-1 div.sk-container {/* jupyter's `normalize.less` sets `[hidden] { display: none; }` but bootstrap.min.css set `[hidden] { display: none !important; }` so we also need the `!important` here to be able to override the default hidden behavior on the sphinx rendered scikit-learn.org. See: https://github.com/scikit-learn/scikit-learn/issues/21755 */display: inline-block !important;position: relative;}#sk-container-id-1 div.sk-text-repr-fallback {display: none;}</style><div id=\"sk-container-id-1\" class=\"sk-top-container\"><div class=\"sk-text-repr-fallback\"><pre>SVC(kernel=&#x27;linear&#x27;)</pre><b>In a Jupyter environment, please rerun this cell to show the HTML representation or trust the notebook. <br />On GitHub, the HTML representation is unable to render, please try loading this page with nbviewer.org.</b></div><div class=\"sk-container\" hidden><div class=\"sk-item\"><div class=\"sk-estimator sk-toggleable\"><input class=\"sk-toggleable__control sk-hidden--visually\" id=\"sk-estimator-id-1\" type=\"checkbox\" checked><label for=\"sk-estimator-id-1\" class=\"sk-toggleable__label sk-toggleable__label-arrow\">SVC</label><div class=\"sk-toggleable__content\"><pre>SVC(kernel=&#x27;linear&#x27;)</pre></div></div></div></div></div>"
      ],
      "text/plain": [
       "SVC(kernel='linear')"
      ]
     },
     "execution_count": 9,
     "metadata": {},
     "output_type": "execute_result"
    }
   ],
   "source": [
    "%%time\n",
    "\n",
    "# SVM (линейный) на исходных\n",
    "svm_linear = SVC(kernel=\"linear\")\n",
    "svm_linear.fit(x_train_sample, y_train_sample)"
   ]
  },
  {
   "cell_type": "code",
   "execution_count": 10,
   "metadata": {},
   "outputs": [
    {
     "name": "stdout",
     "output_type": "stream",
     "text": [
      "Evaluating SVM (linear)\n",
      "Train accuracy: 0.9730666666666666\n",
      "Test accuracy: 0.81\n"
     ]
    }
   ],
   "source": [
    "evaluate_model(svm_linear, \"SVM (linear)\", x_train_sample, y_train_sample, x_test_scaled, y_test)"
   ]
  },
  {
   "cell_type": "code",
   "execution_count": 12,
   "metadata": {},
   "outputs": [
    {
     "name": "stdout",
     "output_type": "stream",
     "text": [
      "CPU times: user 30.7 s, sys: 181 ms, total: 30.9 s\n",
      "Wall time: 31.1 s\n"
     ]
    },
    {
     "data": {
      "text/html": [
       "<style>#sk-container-id-3 {color: black;}#sk-container-id-3 pre{padding: 0;}#sk-container-id-3 div.sk-toggleable {background-color: white;}#sk-container-id-3 label.sk-toggleable__label {cursor: pointer;display: block;width: 100%;margin-bottom: 0;padding: 0.3em;box-sizing: border-box;text-align: center;}#sk-container-id-3 label.sk-toggleable__label-arrow:before {content: \"▸\";float: left;margin-right: 0.25em;color: #696969;}#sk-container-id-3 label.sk-toggleable__label-arrow:hover:before {color: black;}#sk-container-id-3 div.sk-estimator:hover label.sk-toggleable__label-arrow:before {color: black;}#sk-container-id-3 div.sk-toggleable__content {max-height: 0;max-width: 0;overflow: hidden;text-align: left;background-color: #f0f8ff;}#sk-container-id-3 div.sk-toggleable__content pre {margin: 0.2em;color: black;border-radius: 0.25em;background-color: #f0f8ff;}#sk-container-id-3 input.sk-toggleable__control:checked~div.sk-toggleable__content {max-height: 200px;max-width: 100%;overflow: auto;}#sk-container-id-3 input.sk-toggleable__control:checked~label.sk-toggleable__label-arrow:before {content: \"▾\";}#sk-container-id-3 div.sk-estimator input.sk-toggleable__control:checked~label.sk-toggleable__label {background-color: #d4ebff;}#sk-container-id-3 div.sk-label input.sk-toggleable__control:checked~label.sk-toggleable__label {background-color: #d4ebff;}#sk-container-id-3 input.sk-hidden--visually {border: 0;clip: rect(1px 1px 1px 1px);clip: rect(1px, 1px, 1px, 1px);height: 1px;margin: -1px;overflow: hidden;padding: 0;position: absolute;width: 1px;}#sk-container-id-3 div.sk-estimator {font-family: monospace;background-color: #f0f8ff;border: 1px dotted black;border-radius: 0.25em;box-sizing: border-box;margin-bottom: 0.5em;}#sk-container-id-3 div.sk-estimator:hover {background-color: #d4ebff;}#sk-container-id-3 div.sk-parallel-item::after {content: \"\";width: 100%;border-bottom: 1px solid gray;flex-grow: 1;}#sk-container-id-3 div.sk-label:hover label.sk-toggleable__label {background-color: #d4ebff;}#sk-container-id-3 div.sk-serial::before {content: \"\";position: absolute;border-left: 1px solid gray;box-sizing: border-box;top: 0;bottom: 0;left: 50%;z-index: 0;}#sk-container-id-3 div.sk-serial {display: flex;flex-direction: column;align-items: center;background-color: white;padding-right: 0.2em;padding-left: 0.2em;position: relative;}#sk-container-id-3 div.sk-item {position: relative;z-index: 1;}#sk-container-id-3 div.sk-parallel {display: flex;align-items: stretch;justify-content: center;background-color: white;position: relative;}#sk-container-id-3 div.sk-item::before, #sk-container-id-3 div.sk-parallel-item::before {content: \"\";position: absolute;border-left: 1px solid gray;box-sizing: border-box;top: 0;bottom: 0;left: 50%;z-index: -1;}#sk-container-id-3 div.sk-parallel-item {display: flex;flex-direction: column;z-index: 1;position: relative;background-color: white;}#sk-container-id-3 div.sk-parallel-item:first-child::after {align-self: flex-end;width: 50%;}#sk-container-id-3 div.sk-parallel-item:last-child::after {align-self: flex-start;width: 50%;}#sk-container-id-3 div.sk-parallel-item:only-child::after {width: 0;}#sk-container-id-3 div.sk-dashed-wrapped {border: 1px dashed gray;margin: 0 0.4em 0.5em 0.4em;box-sizing: border-box;padding-bottom: 0.4em;background-color: white;}#sk-container-id-3 div.sk-label label {font-family: monospace;font-weight: bold;display: inline-block;line-height: 1.2em;}#sk-container-id-3 div.sk-label-container {text-align: center;}#sk-container-id-3 div.sk-container {/* jupyter's `normalize.less` sets `[hidden] { display: none; }` but bootstrap.min.css set `[hidden] { display: none !important; }` so we also need the `!important` here to be able to override the default hidden behavior on the sphinx rendered scikit-learn.org. See: https://github.com/scikit-learn/scikit-learn/issues/21755 */display: inline-block !important;position: relative;}#sk-container-id-3 div.sk-text-repr-fallback {display: none;}</style><div id=\"sk-container-id-3\" class=\"sk-top-container\"><div class=\"sk-text-repr-fallback\"><pre>SVC()</pre><b>In a Jupyter environment, please rerun this cell to show the HTML representation or trust the notebook. <br />On GitHub, the HTML representation is unable to render, please try loading this page with nbviewer.org.</b></div><div class=\"sk-container\" hidden><div class=\"sk-item\"><div class=\"sk-estimator sk-toggleable\"><input class=\"sk-toggleable__control sk-hidden--visually\" id=\"sk-estimator-id-3\" type=\"checkbox\" checked><label for=\"sk-estimator-id-3\" class=\"sk-toggleable__label sk-toggleable__label-arrow\">SVC</label><div class=\"sk-toggleable__content\"><pre>SVC()</pre></div></div></div></div></div>"
      ],
      "text/plain": [
       "SVC()"
      ]
     },
     "execution_count": 12,
     "metadata": {},
     "output_type": "execute_result"
    }
   ],
   "source": [
    "%%time\n",
    "\n",
    "# SVM (ядровой) на исходных\n",
    "svm_rbf = SVC()\n",
    "svm_rbf.fit(x_train_sample, y_train_sample)"
   ]
  },
  {
   "cell_type": "code",
   "execution_count": 13,
   "metadata": {},
   "outputs": [
    {
     "name": "stdout",
     "output_type": "stream",
     "text": [
      "Evaluating SVM (rbf)\n",
      "Train accuracy: 0.9171333333333334\n",
      "Test accuracy: 0.8609\n"
     ]
    }
   ],
   "source": [
    "evaluate_model(svm_rbf, \"SVM (rbf)\", x_train_sample, y_train_sample, x_test_scaled, y_test)"
   ]
  },
  {
   "cell_type": "code",
   "execution_count": 15,
   "metadata": {},
   "outputs": [
    {
     "name": "stdout",
     "output_type": "stream",
     "text": [
      "CPU times: user 27 s, sys: 10.1 s, total: 37.1 s\n",
      "Wall time: 6.47 s\n"
     ]
    },
    {
     "name": "stderr",
     "output_type": "stream",
     "text": [
      "/usr/local/lib/python3.11/site-packages/sklearn/linear_model/_logistic.py:460: ConvergenceWarning: lbfgs failed to converge (status=1):\n",
      "STOP: TOTAL NO. of ITERATIONS REACHED LIMIT.\n",
      "\n",
      "Increase the number of iterations (max_iter) or scale the data as shown in:\n",
      "    https://scikit-learn.org/stable/modules/preprocessing.html\n",
      "Please also refer to the documentation for alternative solver options:\n",
      "    https://scikit-learn.org/stable/modules/linear_model.html#logistic-regression\n",
      "  n_iter_i = _check_optimize_result(\n"
     ]
    },
    {
     "data": {
      "text/html": [
       "<style>#sk-container-id-5 {color: black;}#sk-container-id-5 pre{padding: 0;}#sk-container-id-5 div.sk-toggleable {background-color: white;}#sk-container-id-5 label.sk-toggleable__label {cursor: pointer;display: block;width: 100%;margin-bottom: 0;padding: 0.3em;box-sizing: border-box;text-align: center;}#sk-container-id-5 label.sk-toggleable__label-arrow:before {content: \"▸\";float: left;margin-right: 0.25em;color: #696969;}#sk-container-id-5 label.sk-toggleable__label-arrow:hover:before {color: black;}#sk-container-id-5 div.sk-estimator:hover label.sk-toggleable__label-arrow:before {color: black;}#sk-container-id-5 div.sk-toggleable__content {max-height: 0;max-width: 0;overflow: hidden;text-align: left;background-color: #f0f8ff;}#sk-container-id-5 div.sk-toggleable__content pre {margin: 0.2em;color: black;border-radius: 0.25em;background-color: #f0f8ff;}#sk-container-id-5 input.sk-toggleable__control:checked~div.sk-toggleable__content {max-height: 200px;max-width: 100%;overflow: auto;}#sk-container-id-5 input.sk-toggleable__control:checked~label.sk-toggleable__label-arrow:before {content: \"▾\";}#sk-container-id-5 div.sk-estimator input.sk-toggleable__control:checked~label.sk-toggleable__label {background-color: #d4ebff;}#sk-container-id-5 div.sk-label input.sk-toggleable__control:checked~label.sk-toggleable__label {background-color: #d4ebff;}#sk-container-id-5 input.sk-hidden--visually {border: 0;clip: rect(1px 1px 1px 1px);clip: rect(1px, 1px, 1px, 1px);height: 1px;margin: -1px;overflow: hidden;padding: 0;position: absolute;width: 1px;}#sk-container-id-5 div.sk-estimator {font-family: monospace;background-color: #f0f8ff;border: 1px dotted black;border-radius: 0.25em;box-sizing: border-box;margin-bottom: 0.5em;}#sk-container-id-5 div.sk-estimator:hover {background-color: #d4ebff;}#sk-container-id-5 div.sk-parallel-item::after {content: \"\";width: 100%;border-bottom: 1px solid gray;flex-grow: 1;}#sk-container-id-5 div.sk-label:hover label.sk-toggleable__label {background-color: #d4ebff;}#sk-container-id-5 div.sk-serial::before {content: \"\";position: absolute;border-left: 1px solid gray;box-sizing: border-box;top: 0;bottom: 0;left: 50%;z-index: 0;}#sk-container-id-5 div.sk-serial {display: flex;flex-direction: column;align-items: center;background-color: white;padding-right: 0.2em;padding-left: 0.2em;position: relative;}#sk-container-id-5 div.sk-item {position: relative;z-index: 1;}#sk-container-id-5 div.sk-parallel {display: flex;align-items: stretch;justify-content: center;background-color: white;position: relative;}#sk-container-id-5 div.sk-item::before, #sk-container-id-5 div.sk-parallel-item::before {content: \"\";position: absolute;border-left: 1px solid gray;box-sizing: border-box;top: 0;bottom: 0;left: 50%;z-index: -1;}#sk-container-id-5 div.sk-parallel-item {display: flex;flex-direction: column;z-index: 1;position: relative;background-color: white;}#sk-container-id-5 div.sk-parallel-item:first-child::after {align-self: flex-end;width: 50%;}#sk-container-id-5 div.sk-parallel-item:last-child::after {align-self: flex-start;width: 50%;}#sk-container-id-5 div.sk-parallel-item:only-child::after {width: 0;}#sk-container-id-5 div.sk-dashed-wrapped {border: 1px dashed gray;margin: 0 0.4em 0.5em 0.4em;box-sizing: border-box;padding-bottom: 0.4em;background-color: white;}#sk-container-id-5 div.sk-label label {font-family: monospace;font-weight: bold;display: inline-block;line-height: 1.2em;}#sk-container-id-5 div.sk-label-container {text-align: center;}#sk-container-id-5 div.sk-container {/* jupyter's `normalize.less` sets `[hidden] { display: none; }` but bootstrap.min.css set `[hidden] { display: none !important; }` so we also need the `!important` here to be able to override the default hidden behavior on the sphinx rendered scikit-learn.org. See: https://github.com/scikit-learn/scikit-learn/issues/21755 */display: inline-block !important;position: relative;}#sk-container-id-5 div.sk-text-repr-fallback {display: none;}</style><div id=\"sk-container-id-5\" class=\"sk-top-container\"><div class=\"sk-text-repr-fallback\"><pre>RFFPipeline(classifier=LogisticRegression())</pre><b>In a Jupyter environment, please rerun this cell to show the HTML representation or trust the notebook. <br />On GitHub, the HTML representation is unable to render, please try loading this page with nbviewer.org.</b></div><div class=\"sk-container\" hidden><div class=\"sk-item sk-dashed-wrapped\"><div class=\"sk-label-container\"><div class=\"sk-label sk-toggleable\"><input class=\"sk-toggleable__control sk-hidden--visually\" id=\"sk-estimator-id-7\" type=\"checkbox\" ><label for=\"sk-estimator-id-7\" class=\"sk-toggleable__label sk-toggleable__label-arrow\">RFFPipeline</label><div class=\"sk-toggleable__content\"><pre>RFFPipeline(classifier=LogisticRegression())</pre></div></div></div><div class=\"sk-parallel\"><div class=\"sk-parallel-item\"><div class=\"sk-item\"><div class=\"sk-label-container\"><div class=\"sk-label sk-toggleable\"><input class=\"sk-toggleable__control sk-hidden--visually\" id=\"sk-estimator-id-8\" type=\"checkbox\" ><label for=\"sk-estimator-id-8\" class=\"sk-toggleable__label sk-toggleable__label-arrow\">classifier: LogisticRegression</label><div class=\"sk-toggleable__content\"><pre>LogisticRegression()</pre></div></div></div><div class=\"sk-serial\"><div class=\"sk-item\"><div class=\"sk-estimator sk-toggleable\"><input class=\"sk-toggleable__control sk-hidden--visually\" id=\"sk-estimator-id-9\" type=\"checkbox\" ><label for=\"sk-estimator-id-9\" class=\"sk-toggleable__label sk-toggleable__label-arrow\">LogisticRegression</label><div class=\"sk-toggleable__content\"><pre>LogisticRegression()</pre></div></div></div></div></div></div></div></div></div></div>"
      ],
      "text/plain": [
       "RFFPipeline(classifier=LogisticRegression())"
      ]
     },
     "execution_count": 15,
     "metadata": {},
     "output_type": "execute_result"
    }
   ],
   "source": [
    "%%time\n",
    "\n",
    "# RFF\n",
    "rff_logreg = RFFPipeline()\n",
    "rff_logreg.fit(x_train_sample, y_train_sample)"
   ]
  },
  {
   "cell_type": "code",
   "execution_count": 16,
   "metadata": {},
   "outputs": [
    {
     "name": "stdout",
     "output_type": "stream",
     "text": [
      "Evaluating RFF (logistic regression)\n",
      "Train accuracy: 0.8822666666666666\n",
      "Test accuracy: 0.8482\n"
     ]
    }
   ],
   "source": [
    "evaluate_model(rff_logreg, \"RFF (logistic regression)\", x_train_sample, y_train_sample, x_test_scaled, y_test)"
   ]
  },
  {
   "cell_type": "code",
   "execution_count": 19,
   "metadata": {},
   "outputs": [
    {
     "name": "stdout",
     "output_type": "stream",
     "text": [
      "CPU times: user 2min 9s, sys: 3.43 s, total: 2min 12s\n",
      "Wall time: 2min 6s\n"
     ]
    },
    {
     "data": {
      "text/html": [
       "<style>#sk-container-id-7 {color: black;}#sk-container-id-7 pre{padding: 0;}#sk-container-id-7 div.sk-toggleable {background-color: white;}#sk-container-id-7 label.sk-toggleable__label {cursor: pointer;display: block;width: 100%;margin-bottom: 0;padding: 0.3em;box-sizing: border-box;text-align: center;}#sk-container-id-7 label.sk-toggleable__label-arrow:before {content: \"▸\";float: left;margin-right: 0.25em;color: #696969;}#sk-container-id-7 label.sk-toggleable__label-arrow:hover:before {color: black;}#sk-container-id-7 div.sk-estimator:hover label.sk-toggleable__label-arrow:before {color: black;}#sk-container-id-7 div.sk-toggleable__content {max-height: 0;max-width: 0;overflow: hidden;text-align: left;background-color: #f0f8ff;}#sk-container-id-7 div.sk-toggleable__content pre {margin: 0.2em;color: black;border-radius: 0.25em;background-color: #f0f8ff;}#sk-container-id-7 input.sk-toggleable__control:checked~div.sk-toggleable__content {max-height: 200px;max-width: 100%;overflow: auto;}#sk-container-id-7 input.sk-toggleable__control:checked~label.sk-toggleable__label-arrow:before {content: \"▾\";}#sk-container-id-7 div.sk-estimator input.sk-toggleable__control:checked~label.sk-toggleable__label {background-color: #d4ebff;}#sk-container-id-7 div.sk-label input.sk-toggleable__control:checked~label.sk-toggleable__label {background-color: #d4ebff;}#sk-container-id-7 input.sk-hidden--visually {border: 0;clip: rect(1px 1px 1px 1px);clip: rect(1px, 1px, 1px, 1px);height: 1px;margin: -1px;overflow: hidden;padding: 0;position: absolute;width: 1px;}#sk-container-id-7 div.sk-estimator {font-family: monospace;background-color: #f0f8ff;border: 1px dotted black;border-radius: 0.25em;box-sizing: border-box;margin-bottom: 0.5em;}#sk-container-id-7 div.sk-estimator:hover {background-color: #d4ebff;}#sk-container-id-7 div.sk-parallel-item::after {content: \"\";width: 100%;border-bottom: 1px solid gray;flex-grow: 1;}#sk-container-id-7 div.sk-label:hover label.sk-toggleable__label {background-color: #d4ebff;}#sk-container-id-7 div.sk-serial::before {content: \"\";position: absolute;border-left: 1px solid gray;box-sizing: border-box;top: 0;bottom: 0;left: 50%;z-index: 0;}#sk-container-id-7 div.sk-serial {display: flex;flex-direction: column;align-items: center;background-color: white;padding-right: 0.2em;padding-left: 0.2em;position: relative;}#sk-container-id-7 div.sk-item {position: relative;z-index: 1;}#sk-container-id-7 div.sk-parallel {display: flex;align-items: stretch;justify-content: center;background-color: white;position: relative;}#sk-container-id-7 div.sk-item::before, #sk-container-id-7 div.sk-parallel-item::before {content: \"\";position: absolute;border-left: 1px solid gray;box-sizing: border-box;top: 0;bottom: 0;left: 50%;z-index: -1;}#sk-container-id-7 div.sk-parallel-item {display: flex;flex-direction: column;z-index: 1;position: relative;background-color: white;}#sk-container-id-7 div.sk-parallel-item:first-child::after {align-self: flex-end;width: 50%;}#sk-container-id-7 div.sk-parallel-item:last-child::after {align-self: flex-start;width: 50%;}#sk-container-id-7 div.sk-parallel-item:only-child::after {width: 0;}#sk-container-id-7 div.sk-dashed-wrapped {border: 1px dashed gray;margin: 0 0.4em 0.5em 0.4em;box-sizing: border-box;padding-bottom: 0.4em;background-color: white;}#sk-container-id-7 div.sk-label label {font-family: monospace;font-weight: bold;display: inline-block;line-height: 1.2em;}#sk-container-id-7 div.sk-label-container {text-align: center;}#sk-container-id-7 div.sk-container {/* jupyter's `normalize.less` sets `[hidden] { display: none; }` but bootstrap.min.css set `[hidden] { display: none !important; }` so we also need the `!important` here to be able to override the default hidden behavior on the sphinx rendered scikit-learn.org. See: https://github.com/scikit-learn/scikit-learn/issues/21755 */display: inline-block !important;position: relative;}#sk-container-id-7 div.sk-text-repr-fallback {display: none;}</style><div id=\"sk-container-id-7\" class=\"sk-top-container\"><div class=\"sk-text-repr-fallback\"><pre>RFFPipeline(classifier=SVC(kernel=&#x27;linear&#x27;, probability=True))</pre><b>In a Jupyter environment, please rerun this cell to show the HTML representation or trust the notebook. <br />On GitHub, the HTML representation is unable to render, please try loading this page with nbviewer.org.</b></div><div class=\"sk-container\" hidden><div class=\"sk-item sk-dashed-wrapped\"><div class=\"sk-label-container\"><div class=\"sk-label sk-toggleable\"><input class=\"sk-toggleable__control sk-hidden--visually\" id=\"sk-estimator-id-13\" type=\"checkbox\" ><label for=\"sk-estimator-id-13\" class=\"sk-toggleable__label sk-toggleable__label-arrow\">RFFPipeline</label><div class=\"sk-toggleable__content\"><pre>RFFPipeline(classifier=SVC(kernel=&#x27;linear&#x27;, probability=True))</pre></div></div></div><div class=\"sk-parallel\"><div class=\"sk-parallel-item\"><div class=\"sk-item\"><div class=\"sk-label-container\"><div class=\"sk-label sk-toggleable\"><input class=\"sk-toggleable__control sk-hidden--visually\" id=\"sk-estimator-id-14\" type=\"checkbox\" ><label for=\"sk-estimator-id-14\" class=\"sk-toggleable__label sk-toggleable__label-arrow\">classifier: SVC</label><div class=\"sk-toggleable__content\"><pre>SVC(kernel=&#x27;linear&#x27;, probability=True)</pre></div></div></div><div class=\"sk-serial\"><div class=\"sk-item\"><div class=\"sk-estimator sk-toggleable\"><input class=\"sk-toggleable__control sk-hidden--visually\" id=\"sk-estimator-id-15\" type=\"checkbox\" ><label for=\"sk-estimator-id-15\" class=\"sk-toggleable__label sk-toggleable__label-arrow\">SVC</label><div class=\"sk-toggleable__content\"><pre>SVC(kernel=&#x27;linear&#x27;, probability=True)</pre></div></div></div></div></div></div></div></div></div></div>"
      ],
      "text/plain": [
       "RFFPipeline(classifier=SVC(kernel='linear', probability=True))"
      ]
     },
     "execution_count": 19,
     "metadata": {},
     "output_type": "execute_result"
    }
   ],
   "source": [
    "%%time\n",
    "\n",
    "# RFF\n",
    "rff_svm = RFFPipeline(classifier=\"svm\")\n",
    "rff_svm.fit(x_train_sample, y_train_sample)"
   ]
  },
  {
   "cell_type": "code",
   "execution_count": 20,
   "metadata": {},
   "outputs": [
    {
     "name": "stdout",
     "output_type": "stream",
     "text": [
      "Evaluating RFF (svm)\n",
      "Train accuracy: 0.9441333333333334\n",
      "Test accuracy: 0.8611\n"
     ]
    }
   ],
   "source": [
    "evaluate_model(rff_svm, \"RFF (svm)\", x_train_sample, y_train_sample, x_test_scaled, y_test)"
   ]
  },
  {
   "cell_type": "code",
   "execution_count": 6,
   "metadata": {},
   "outputs": [
    {
     "name": "stdout",
     "output_type": "stream",
     "text": [
      "CPU times: user 1min 54s, sys: 30 s, total: 2min 24s\n",
      "Wall time: 20 s\n"
     ]
    },
    {
     "name": "stderr",
     "output_type": "stream",
     "text": [
      "/usr/local/lib/python3.11/site-packages/sklearn/linear_model/_logistic.py:460: ConvergenceWarning: lbfgs failed to converge (status=1):\n",
      "STOP: TOTAL NO. of ITERATIONS REACHED LIMIT.\n",
      "\n",
      "Increase the number of iterations (max_iter) or scale the data as shown in:\n",
      "    https://scikit-learn.org/stable/modules/preprocessing.html\n",
      "Please also refer to the documentation for alternative solver options:\n",
      "    https://scikit-learn.org/stable/modules/linear_model.html#logistic-regression\n",
      "  n_iter_i = _check_optimize_result(\n"
     ]
    },
    {
     "data": {
      "text/html": [
       "<style>#sk-container-id-1 {color: black;}#sk-container-id-1 pre{padding: 0;}#sk-container-id-1 div.sk-toggleable {background-color: white;}#sk-container-id-1 label.sk-toggleable__label {cursor: pointer;display: block;width: 100%;margin-bottom: 0;padding: 0.3em;box-sizing: border-box;text-align: center;}#sk-container-id-1 label.sk-toggleable__label-arrow:before {content: \"▸\";float: left;margin-right: 0.25em;color: #696969;}#sk-container-id-1 label.sk-toggleable__label-arrow:hover:before {color: black;}#sk-container-id-1 div.sk-estimator:hover label.sk-toggleable__label-arrow:before {color: black;}#sk-container-id-1 div.sk-toggleable__content {max-height: 0;max-width: 0;overflow: hidden;text-align: left;background-color: #f0f8ff;}#sk-container-id-1 div.sk-toggleable__content pre {margin: 0.2em;color: black;border-radius: 0.25em;background-color: #f0f8ff;}#sk-container-id-1 input.sk-toggleable__control:checked~div.sk-toggleable__content {max-height: 200px;max-width: 100%;overflow: auto;}#sk-container-id-1 input.sk-toggleable__control:checked~label.sk-toggleable__label-arrow:before {content: \"▾\";}#sk-container-id-1 div.sk-estimator input.sk-toggleable__control:checked~label.sk-toggleable__label {background-color: #d4ebff;}#sk-container-id-1 div.sk-label input.sk-toggleable__control:checked~label.sk-toggleable__label {background-color: #d4ebff;}#sk-container-id-1 input.sk-hidden--visually {border: 0;clip: rect(1px 1px 1px 1px);clip: rect(1px, 1px, 1px, 1px);height: 1px;margin: -1px;overflow: hidden;padding: 0;position: absolute;width: 1px;}#sk-container-id-1 div.sk-estimator {font-family: monospace;background-color: #f0f8ff;border: 1px dotted black;border-radius: 0.25em;box-sizing: border-box;margin-bottom: 0.5em;}#sk-container-id-1 div.sk-estimator:hover {background-color: #d4ebff;}#sk-container-id-1 div.sk-parallel-item::after {content: \"\";width: 100%;border-bottom: 1px solid gray;flex-grow: 1;}#sk-container-id-1 div.sk-label:hover label.sk-toggleable__label {background-color: #d4ebff;}#sk-container-id-1 div.sk-serial::before {content: \"\";position: absolute;border-left: 1px solid gray;box-sizing: border-box;top: 0;bottom: 0;left: 50%;z-index: 0;}#sk-container-id-1 div.sk-serial {display: flex;flex-direction: column;align-items: center;background-color: white;padding-right: 0.2em;padding-left: 0.2em;position: relative;}#sk-container-id-1 div.sk-item {position: relative;z-index: 1;}#sk-container-id-1 div.sk-parallel {display: flex;align-items: stretch;justify-content: center;background-color: white;position: relative;}#sk-container-id-1 div.sk-item::before, #sk-container-id-1 div.sk-parallel-item::before {content: \"\";position: absolute;border-left: 1px solid gray;box-sizing: border-box;top: 0;bottom: 0;left: 50%;z-index: -1;}#sk-container-id-1 div.sk-parallel-item {display: flex;flex-direction: column;z-index: 1;position: relative;background-color: white;}#sk-container-id-1 div.sk-parallel-item:first-child::after {align-self: flex-end;width: 50%;}#sk-container-id-1 div.sk-parallel-item:last-child::after {align-self: flex-start;width: 50%;}#sk-container-id-1 div.sk-parallel-item:only-child::after {width: 0;}#sk-container-id-1 div.sk-dashed-wrapped {border: 1px dashed gray;margin: 0 0.4em 0.5em 0.4em;box-sizing: border-box;padding-bottom: 0.4em;background-color: white;}#sk-container-id-1 div.sk-label label {font-family: monospace;font-weight: bold;display: inline-block;line-height: 1.2em;}#sk-container-id-1 div.sk-label-container {text-align: center;}#sk-container-id-1 div.sk-container {/* jupyter's `normalize.less` sets `[hidden] { display: none; }` but bootstrap.min.css set `[hidden] { display: none !important; }` so we also need the `!important` here to be able to override the default hidden behavior on the sphinx rendered scikit-learn.org. See: https://github.com/scikit-learn/scikit-learn/issues/21755 */display: inline-block !important;position: relative;}#sk-container-id-1 div.sk-text-repr-fallback {display: none;}</style><div id=\"sk-container-id-1\" class=\"sk-top-container\"><div class=\"sk-text-repr-fallback\"><pre>RFFPipeline(classifier=LogisticRegression())</pre><b>In a Jupyter environment, please rerun this cell to show the HTML representation or trust the notebook. <br />On GitHub, the HTML representation is unable to render, please try loading this page with nbviewer.org.</b></div><div class=\"sk-container\" hidden><div class=\"sk-item sk-dashed-wrapped\"><div class=\"sk-label-container\"><div class=\"sk-label sk-toggleable\"><input class=\"sk-toggleable__control sk-hidden--visually\" id=\"sk-estimator-id-1\" type=\"checkbox\" ><label for=\"sk-estimator-id-1\" class=\"sk-toggleable__label sk-toggleable__label-arrow\">RFFPipeline</label><div class=\"sk-toggleable__content\"><pre>RFFPipeline(classifier=LogisticRegression())</pre></div></div></div><div class=\"sk-parallel\"><div class=\"sk-parallel-item\"><div class=\"sk-item\"><div class=\"sk-label-container\"><div class=\"sk-label sk-toggleable\"><input class=\"sk-toggleable__control sk-hidden--visually\" id=\"sk-estimator-id-2\" type=\"checkbox\" ><label for=\"sk-estimator-id-2\" class=\"sk-toggleable__label sk-toggleable__label-arrow\">classifier: LogisticRegression</label><div class=\"sk-toggleable__content\"><pre>LogisticRegression()</pre></div></div></div><div class=\"sk-serial\"><div class=\"sk-item\"><div class=\"sk-estimator sk-toggleable\"><input class=\"sk-toggleable__control sk-hidden--visually\" id=\"sk-estimator-id-3\" type=\"checkbox\" ><label for=\"sk-estimator-id-3\" class=\"sk-toggleable__label sk-toggleable__label-arrow\">LogisticRegression</label><div class=\"sk-toggleable__content\"><pre>LogisticRegression()</pre></div></div></div></div></div></div></div></div></div></div>"
      ],
      "text/plain": [
       "RFFPipeline(classifier=LogisticRegression())"
      ]
     },
     "execution_count": 6,
     "metadata": {},
     "output_type": "execute_result"
    }
   ],
   "source": [
    "%%time\n",
    "\n",
    "# RFF\n",
    "rff_logreg_full = RFFPipeline()\n",
    "rff_logreg_full.fit(x_train, y_train)"
   ]
  },
  {
   "cell_type": "code",
   "execution_count": 9,
   "metadata": {},
   "outputs": [
    {
     "name": "stdout",
     "output_type": "stream",
     "text": [
      "Evaluating RFF (logreg, all train samples)\n",
      "Train accuracy: 0.8747333333333334\n",
      "Test accuracy: 0.8604\n"
     ]
    }
   ],
   "source": [
    "evaluate_model(rff_logreg_full, \"RFF (logreg, all train samples)\", x_train, y_train, x_test, y_test)"
   ]
  },
  {
   "cell_type": "code",
   "execution_count": 8,
   "metadata": {},
   "outputs": [],
   "source": [
    "from sklearn.model_selection import train_test_split\n",
    "\n",
    "x_train_cb, x_val_cb, y_train_cb, y_val_cb = train_test_split(x_train, y_train, test_size=0.3, random_state=42)\n",
    "\n",
    "pca_catboost = PCA(n_components=50)\n",
    "\n",
    "x_train_cb = pca_catboost.fit_transform(x_train_cb)\n",
    "x_val_cb = pca_catboost.transform(x_val_cb)\n",
    "x_test_cb = pca_catboost.transform(x_test)\n"
   ]
  },
  {
   "cell_type": "code",
   "execution_count": 22,
   "metadata": {},
   "outputs": [
    {
     "name": "stderr",
     "output_type": "stream",
     "text": [
      "[I 2024-02-26 23:51:20,577] A new study created in memory with name: no-name-5e205766-0a31-4184-aece-938f72eebc5e\n",
      "/usr/local/lib/python3.11/site-packages/optuna/distributions.py:700: UserWarning: The distribution is specified by [1, 100] and step=5, but the range is not divisible by `step`. It will be replaced by [1, 96].\n",
      "  warnings.warn(\n"
     ]
    },
    {
     "name": "stdout",
     "output_type": "stream",
     "text": [
      "0:\tlearn: 2.2999544\ttest: 2.2999756\tbest: 2.2999756 (0)\ttotal: 70ms\tremaining: 2.1s\n",
      "1:\tlearn: 2.2974878\ttest: 2.2975161\tbest: 2.2975161 (1)\ttotal: 137ms\tremaining: 1.99s\n",
      "2:\tlearn: 2.2949608\ttest: 2.2950007\tbest: 2.2950007 (2)\ttotal: 224ms\tremaining: 2.09s\n",
      "3:\tlearn: 2.2922753\ttest: 2.2923394\tbest: 2.2923394 (3)\ttotal: 318ms\tremaining: 2.15s\n",
      "4:\tlearn: 2.2896650\ttest: 2.2897389\tbest: 2.2897389 (4)\ttotal: 417ms\tremaining: 2.17s\n",
      "5:\tlearn: 2.2870506\ttest: 2.2871401\tbest: 2.2871401 (5)\ttotal: 551ms\tremaining: 2.3s\n",
      "6:\tlearn: 2.2845253\ttest: 2.2846327\tbest: 2.2846327 (6)\ttotal: 609ms\tremaining: 2.09s\n",
      "7:\tlearn: 2.2820157\ttest: 2.2821251\tbest: 2.2821251 (7)\ttotal: 664ms\tremaining: 1.91s\n",
      "8:\tlearn: 2.2793587\ttest: 2.2794845\tbest: 2.2794845 (8)\ttotal: 718ms\tremaining: 1.75s\n",
      "9:\tlearn: 2.2768639\ttest: 2.2770002\tbest: 2.2770002 (9)\ttotal: 778ms\tremaining: 1.63s\n",
      "10:\tlearn: 2.2743336\ttest: 2.2744883\tbest: 2.2744883 (10)\ttotal: 840ms\tremaining: 1.53s\n",
      "11:\tlearn: 2.2718697\ttest: 2.2720287\tbest: 2.2720287 (11)\ttotal: 899ms\tremaining: 1.42s\n",
      "12:\tlearn: 2.2694614\ttest: 2.2696252\tbest: 2.2696252 (12)\ttotal: 969ms\tremaining: 1.34s\n",
      "13:\tlearn: 2.2670913\ttest: 2.2672616\tbest: 2.2672616 (13)\ttotal: 1.04s\tremaining: 1.26s\n",
      "14:\tlearn: 2.2645836\ttest: 2.2647618\tbest: 2.2647618 (14)\ttotal: 1.11s\tremaining: 1.18s\n",
      "15:\tlearn: 2.2621833\ttest: 2.2623733\tbest: 2.2623733 (15)\ttotal: 1.17s\tremaining: 1.1s\n",
      "16:\tlearn: 2.2596108\ttest: 2.2598089\tbest: 2.2598089 (16)\ttotal: 1.23s\tremaining: 1.02s\n",
      "17:\tlearn: 2.2572294\ttest: 2.2574209\tbest: 2.2574209 (17)\ttotal: 1.3s\tremaining: 940ms\n",
      "18:\tlearn: 2.2548616\ttest: 2.2550732\tbest: 2.2550732 (18)\ttotal: 1.41s\tremaining: 891ms\n",
      "19:\tlearn: 2.2525045\ttest: 2.2527194\tbest: 2.2527194 (19)\ttotal: 1.5s\tremaining: 823ms\n",
      "20:\tlearn: 2.2501265\ttest: 2.2503563\tbest: 2.2503563 (20)\ttotal: 1.58s\tremaining: 751ms\n",
      "21:\tlearn: 2.2476854\ttest: 2.2479164\tbest: 2.2479164 (21)\ttotal: 1.64s\tremaining: 671ms\n",
      "22:\tlearn: 2.2453465\ttest: 2.2455811\tbest: 2.2455811 (22)\ttotal: 1.7s\tremaining: 591ms\n",
      "23:\tlearn: 2.2430059\ttest: 2.2432523\tbest: 2.2432523 (23)\ttotal: 1.75s\tremaining: 512ms\n",
      "24:\tlearn: 2.2405660\ttest: 2.2408365\tbest: 2.2408365 (24)\ttotal: 1.84s\tremaining: 442ms\n",
      "25:\tlearn: 2.2382575\ttest: 2.2385351\tbest: 2.2385351 (25)\ttotal: 1.93s\tremaining: 372ms\n",
      "26:\tlearn: 2.2358496\ttest: 2.2361422\tbest: 2.2361422 (26)\ttotal: 2.03s\tremaining: 301ms\n",
      "27:\tlearn: 2.2335472\ttest: 2.2338544\tbest: 2.2338544 (27)\ttotal: 2.11s\tremaining: 226ms\n",
      "28:\tlearn: 2.2312419\ttest: 2.2315475\tbest: 2.2315475 (28)\ttotal: 2.18s\tremaining: 150ms\n",
      "29:\tlearn: 2.2290932\ttest: 2.2294118\tbest: 2.2294118 (29)\ttotal: 2.24s\tremaining: 74.6ms\n",
      "30:\tlearn: 2.2269181\ttest: 2.2272510\tbest: 2.2272510 (30)\ttotal: 2.29s\tremaining: 0us\n",
      "\n",
      "bestTest = 2.227251035\n",
      "bestIteration = 30\n",
      "\n"
     ]
    },
    {
     "name": "stderr",
     "output_type": "stream",
     "text": [
      "[I 2024-02-26 23:51:24,035] Trial 0 finished with value: 0.6515 and parameters: {'num_trees': 31, 'learning_rate': 0.0007054791428580866}. Best is trial 0 with value: 0.6515.\n"
     ]
    },
    {
     "name": "stdout",
     "output_type": "stream",
     "text": [
      "0:\tlearn: 2.2684551\ttest: 2.2687307\tbest: 2.2687307 (0)\ttotal: 58.1ms\tremaining: 2.61s\n",
      "1:\tlearn: 2.2380029\ttest: 2.2383722\tbest: 2.2383722 (1)\ttotal: 113ms\tremaining: 2.48s\n",
      "2:\tlearn: 2.2090289\ttest: 2.2094515\tbest: 2.2094515 (2)\ttotal: 166ms\tremaining: 2.38s\n",
      "3:\tlearn: 2.1785804\ttest: 2.1792893\tbest: 2.1792893 (3)\ttotal: 221ms\tremaining: 2.32s\n",
      "4:\tlearn: 2.1516467\ttest: 2.1525302\tbest: 2.1525302 (4)\ttotal: 274ms\tremaining: 2.25s\n",
      "5:\tlearn: 2.1245002\ttest: 2.1255731\tbest: 2.1255731 (5)\ttotal: 330ms\tremaining: 2.2s\n",
      "6:\tlearn: 2.0993442\ttest: 2.1006207\tbest: 2.1006207 (6)\ttotal: 384ms\tremaining: 2.14s\n",
      "7:\tlearn: 2.0762132\ttest: 2.0775582\tbest: 2.0775582 (7)\ttotal: 438ms\tremaining: 2.08s\n",
      "8:\tlearn: 2.0511845\ttest: 2.0526998\tbest: 2.0526998 (8)\ttotal: 493ms\tremaining: 2.02s\n",
      "9:\tlearn: 2.0286700\ttest: 2.0303028\tbest: 2.0303028 (9)\ttotal: 547ms\tremaining: 1.97s\n",
      "10:\tlearn: 2.0069093\ttest: 2.0087261\tbest: 2.0087261 (10)\ttotal: 602ms\tremaining: 1.92s\n",
      "11:\tlearn: 1.9858643\ttest: 1.9877345\tbest: 1.9877345 (11)\ttotal: 655ms\tremaining: 1.85s\n",
      "12:\tlearn: 1.9658569\ttest: 1.9678107\tbest: 1.9678107 (12)\ttotal: 711ms\tremaining: 1.8s\n",
      "13:\tlearn: 1.9465028\ttest: 1.9485321\tbest: 1.9485321 (13)\ttotal: 789ms\tremaining: 1.8s\n",
      "14:\tlearn: 1.9268036\ttest: 1.9289196\tbest: 1.9289196 (14)\ttotal: 862ms\tremaining: 1.78s\n",
      "15:\tlearn: 1.9089507\ttest: 1.9111834\tbest: 1.9111834 (15)\ttotal: 924ms\tremaining: 1.73s\n",
      "16:\tlearn: 1.8900396\ttest: 1.8923547\tbest: 1.8923547 (16)\ttotal: 984ms\tremaining: 1.68s\n",
      "17:\tlearn: 1.8726779\ttest: 1.8749506\tbest: 1.8749506 (17)\ttotal: 1.04s\tremaining: 1.62s\n",
      "18:\tlearn: 1.8560008\ttest: 1.8584887\tbest: 1.8584887 (18)\ttotal: 1.1s\tremaining: 1.56s\n",
      "19:\tlearn: 1.8401840\ttest: 1.8427150\tbest: 1.8427150 (19)\ttotal: 1.15s\tremaining: 1.5s\n",
      "20:\tlearn: 1.8241897\ttest: 1.8267925\tbest: 1.8267925 (20)\ttotal: 1.21s\tremaining: 1.44s\n",
      "21:\tlearn: 1.8090374\ttest: 1.8117271\tbest: 1.8117271 (21)\ttotal: 1.27s\tremaining: 1.38s\n",
      "22:\tlearn: 1.7930007\ttest: 1.7958725\tbest: 1.7958725 (22)\ttotal: 1.32s\tremaining: 1.32s\n",
      "23:\tlearn: 1.7777925\ttest: 1.7807579\tbest: 1.7807579 (23)\ttotal: 1.38s\tremaining: 1.27s\n",
      "24:\tlearn: 1.7636737\ttest: 1.7667477\tbest: 1.7667477 (24)\ttotal: 1.44s\tremaining: 1.21s\n",
      "25:\tlearn: 1.7490379\ttest: 1.7521894\tbest: 1.7521894 (25)\ttotal: 1.49s\tremaining: 1.15s\n",
      "26:\tlearn: 1.7353511\ttest: 1.7385455\tbest: 1.7385455 (26)\ttotal: 1.55s\tremaining: 1.09s\n",
      "27:\tlearn: 1.7217671\ttest: 1.7250286\tbest: 1.7250286 (27)\ttotal: 1.6s\tremaining: 1.03s\n",
      "28:\tlearn: 1.7083128\ttest: 1.7115918\tbest: 1.7115918 (28)\ttotal: 1.66s\tremaining: 974ms\n",
      "29:\tlearn: 1.6955708\ttest: 1.6988855\tbest: 1.6988855 (29)\ttotal: 1.71s\tremaining: 914ms\n",
      "30:\tlearn: 1.6834822\ttest: 1.6868516\tbest: 1.6868516 (30)\ttotal: 1.77s\tremaining: 855ms\n",
      "31:\tlearn: 1.6710675\ttest: 1.6745344\tbest: 1.6745344 (31)\ttotal: 1.83s\tremaining: 799ms\n",
      "32:\tlearn: 1.6591307\ttest: 1.6626719\tbest: 1.6626719 (32)\ttotal: 1.89s\tremaining: 744ms\n",
      "33:\tlearn: 1.6476375\ttest: 1.6512189\tbest: 1.6512189 (33)\ttotal: 1.97s\tremaining: 695ms\n",
      "34:\tlearn: 1.6368073\ttest: 1.6405036\tbest: 1.6405036 (34)\ttotal: 2.09s\tremaining: 656ms\n",
      "35:\tlearn: 1.6261213\ttest: 1.6298890\tbest: 1.6298890 (35)\ttotal: 2.18s\tremaining: 607ms\n",
      "36:\tlearn: 1.6142562\ttest: 1.6180266\tbest: 1.6180266 (36)\ttotal: 2.26s\tremaining: 551ms\n",
      "37:\tlearn: 1.6031359\ttest: 1.6069611\tbest: 1.6069611 (37)\ttotal: 2.34s\tremaining: 492ms\n",
      "38:\tlearn: 1.5927170\ttest: 1.5965937\tbest: 1.5965937 (38)\ttotal: 2.41s\tremaining: 433ms\n",
      "39:\tlearn: 1.5830485\ttest: 1.5869766\tbest: 1.5869766 (39)\ttotal: 2.5s\tremaining: 376ms\n",
      "40:\tlearn: 1.5718092\ttest: 1.5758398\tbest: 1.5758398 (40)\ttotal: 2.61s\tremaining: 319ms\n",
      "41:\tlearn: 1.5613751\ttest: 1.5654659\tbest: 1.5654659 (41)\ttotal: 2.71s\tremaining: 258ms\n",
      "42:\tlearn: 1.5512078\ttest: 1.5553559\tbest: 1.5553559 (42)\ttotal: 2.79s\tremaining: 195ms\n",
      "43:\tlearn: 1.5411157\ttest: 1.5453619\tbest: 1.5453619 (43)\ttotal: 2.88s\tremaining: 131ms\n",
      "44:\tlearn: 1.5316533\ttest: 1.5359822\tbest: 1.5359822 (44)\ttotal: 2.97s\tremaining: 66ms\n",
      "45:\tlearn: 1.5229767\ttest: 1.5273980\tbest: 1.5273980 (45)\ttotal: 3.07s\tremaining: 0us\n",
      "\n",
      "bestTest = 1.527397992\n",
      "bestIteration = 45\n",
      "\n"
     ]
    },
    {
     "name": "stderr",
     "output_type": "stream",
     "text": [
      "[I 2024-02-26 23:51:28,179] Trial 1 finished with value: 0.6758888888888889 and parameters: {'num_trees': 46, 'learning_rate': 0.009191656850520742}. Best is trial 0 with value: 0.6515.\n"
     ]
    },
    {
     "name": "stdout",
     "output_type": "stream",
     "text": [
      "0:\tlearn: 2.2851560\ttest: 2.2852965\tbest: 2.2852965 (0)\ttotal: 54.2ms\tremaining: 4.34s\n",
      "1:\tlearn: 2.2691899\ttest: 2.2693778\tbest: 2.2693778 (1)\ttotal: 112ms\tremaining: 4.44s\n",
      "2:\tlearn: 2.2531843\ttest: 2.2534484\tbest: 2.2534484 (2)\ttotal: 171ms\tremaining: 4.45s\n",
      "3:\tlearn: 2.2365163\ttest: 2.2369335\tbest: 2.2369335 (3)\ttotal: 227ms\tremaining: 4.38s\n",
      "4:\tlearn: 2.2214039\ttest: 2.2219113\tbest: 2.2219113 (4)\ttotal: 285ms\tremaining: 4.33s\n",
      "5:\tlearn: 2.2058837\ttest: 2.2064924\tbest: 2.2064924 (5)\ttotal: 342ms\tremaining: 4.27s\n",
      "6:\tlearn: 2.1911890\ttest: 2.1919090\tbest: 2.1919090 (6)\ttotal: 397ms\tremaining: 4.2s\n",
      "7:\tlearn: 2.1774614\ttest: 2.1782117\tbest: 2.1782117 (7)\ttotal: 455ms\tremaining: 4.15s\n",
      "8:\tlearn: 2.1624927\ttest: 2.1633412\tbest: 2.1633412 (8)\ttotal: 511ms\tremaining: 4.09s\n",
      "9:\tlearn: 2.1487463\ttest: 2.1496609\tbest: 2.1496609 (9)\ttotal: 568ms\tremaining: 4.04s\n",
      "10:\tlearn: 2.1351758\ttest: 2.1361982\tbest: 2.1361982 (10)\ttotal: 624ms\tremaining: 3.97s\n",
      "11:\tlearn: 2.1220551\ttest: 2.1231028\tbest: 2.1231028 (11)\ttotal: 679ms\tremaining: 3.9s\n",
      "12:\tlearn: 2.1093803\ttest: 2.1104693\tbest: 2.1104693 (12)\ttotal: 735ms\tremaining: 3.85s\n",
      "13:\tlearn: 2.0972049\ttest: 2.0983366\tbest: 2.0983366 (13)\ttotal: 794ms\tremaining: 3.8s\n",
      "14:\tlearn: 2.0844398\ttest: 2.0856229\tbest: 2.0856229 (14)\ttotal: 854ms\tremaining: 3.76s\n",
      "15:\tlearn: 2.0725611\ttest: 2.0738142\tbest: 2.0738142 (15)\ttotal: 914ms\tremaining: 3.71s\n",
      "16:\tlearn: 2.0599395\ttest: 2.0612416\tbest: 2.0612416 (16)\ttotal: 975ms\tremaining: 3.67s\n",
      "17:\tlearn: 2.0483190\ttest: 2.0495933\tbest: 2.0495933 (17)\ttotal: 1.04s\tremaining: 3.63s\n",
      "18:\tlearn: 2.0369058\ttest: 2.0383240\tbest: 2.0383240 (18)\ttotal: 1.09s\tremaining: 3.56s\n",
      "19:\tlearn: 2.0259413\ttest: 2.0273848\tbest: 2.0273848 (19)\ttotal: 1.15s\tremaining: 3.51s\n",
      "20:\tlearn: 2.0149513\ttest: 2.0164765\tbest: 2.0164765 (20)\ttotal: 1.21s\tremaining: 3.46s\n",
      "21:\tlearn: 2.0042426\ttest: 2.0058228\tbest: 2.0058228 (21)\ttotal: 1.27s\tremaining: 3.41s\n",
      "22:\tlearn: 1.9929550\ttest: 1.9946554\tbest: 1.9946554 (22)\ttotal: 1.33s\tremaining: 3.36s\n",
      "23:\tlearn: 1.9822676\ttest: 1.9840237\tbest: 1.9840237 (23)\ttotal: 1.39s\tremaining: 3.31s\n",
      "24:\tlearn: 1.9721274\ttest: 1.9739611\tbest: 1.9739611 (24)\ttotal: 1.46s\tremaining: 3.26s\n",
      "25:\tlearn: 1.9623570\ttest: 1.9642439\tbest: 1.9642439 (25)\ttotal: 1.52s\tremaining: 3.21s\n",
      "26:\tlearn: 1.9520543\ttest: 1.9540167\tbest: 1.9540167 (26)\ttotal: 1.58s\tremaining: 3.16s\n",
      "27:\tlearn: 1.9421147\ttest: 1.9441282\tbest: 1.9441282 (27)\ttotal: 1.67s\tremaining: 3.16s\n",
      "28:\tlearn: 1.9323068\ttest: 1.9343350\tbest: 1.9343350 (28)\ttotal: 1.84s\tremaining: 3.29s\n",
      "29:\tlearn: 1.9232180\ttest: 1.9253223\tbest: 1.9253223 (29)\ttotal: 1.94s\tremaining: 3.29s\n",
      "30:\tlearn: 1.9145105\ttest: 1.9166543\tbest: 1.9166543 (30)\ttotal: 2.04s\tremaining: 3.29s\n",
      "31:\tlearn: 1.9050671\ttest: 1.9072821\tbest: 1.9072821 (31)\ttotal: 2.13s\tremaining: 3.26s\n",
      "32:\tlearn: 1.8960353\ttest: 1.8983097\tbest: 1.8983097 (32)\ttotal: 2.22s\tremaining: 3.23s\n",
      "33:\tlearn: 1.8874413\ttest: 1.8897336\tbest: 1.8897336 (33)\ttotal: 2.3s\tremaining: 3.18s\n",
      "34:\tlearn: 1.8787888\ttest: 1.8812068\tbest: 1.8812068 (34)\ttotal: 2.39s\tremaining: 3.14s\n",
      "35:\tlearn: 1.8697188\ttest: 1.8722175\tbest: 1.8722175 (35)\ttotal: 2.48s\tremaining: 3.11s\n",
      "36:\tlearn: 1.8612463\ttest: 1.8638129\tbest: 1.8638129 (36)\ttotal: 2.56s\tremaining: 3.04s\n",
      "37:\tlearn: 1.8525007\ttest: 1.8551037\tbest: 1.8551037 (37)\ttotal: 2.63s\tremaining: 2.98s\n",
      "38:\tlearn: 1.8442327\ttest: 1.8468562\tbest: 1.8468562 (38)\ttotal: 2.71s\tremaining: 2.91s\n",
      "39:\tlearn: 1.8361159\ttest: 1.8388035\tbest: 1.8388035 (39)\ttotal: 2.78s\tremaining: 2.85s\n",
      "40:\tlearn: 1.8272997\ttest: 1.8300147\tbest: 1.8300147 (40)\ttotal: 2.88s\tremaining: 2.81s\n",
      "41:\tlearn: 1.8193648\ttest: 1.8221376\tbest: 1.8221376 (41)\ttotal: 2.97s\tremaining: 2.75s\n",
      "42:\tlearn: 1.8111229\ttest: 1.8139794\tbest: 1.8139794 (42)\ttotal: 3.04s\tremaining: 2.68s\n",
      "43:\tlearn: 1.8030459\ttest: 1.8060183\tbest: 1.8060183 (43)\ttotal: 3.1s\tremaining: 2.61s\n",
      "44:\tlearn: 1.7956069\ttest: 1.7986120\tbest: 1.7986120 (44)\ttotal: 3.17s\tremaining: 2.53s\n",
      "45:\tlearn: 1.7883909\ttest: 1.7914641\tbest: 1.7914641 (45)\ttotal: 3.25s\tremaining: 2.47s\n",
      "46:\tlearn: 1.7805938\ttest: 1.7837055\tbest: 1.7837055 (46)\ttotal: 3.34s\tremaining: 2.42s\n",
      "47:\tlearn: 1.7727299\ttest: 1.7759166\tbest: 1.7759166 (47)\ttotal: 3.4s\tremaining: 2.34s\n",
      "48:\tlearn: 1.7655436\ttest: 1.7687545\tbest: 1.7687545 (48)\ttotal: 3.46s\tremaining: 2.26s\n",
      "49:\tlearn: 1.7584255\ttest: 1.7617132\tbest: 1.7617132 (49)\ttotal: 3.53s\tremaining: 2.19s\n",
      "50:\tlearn: 1.7516588\ttest: 1.7549973\tbest: 1.7549973 (50)\ttotal: 3.59s\tremaining: 2.11s\n",
      "51:\tlearn: 1.7446523\ttest: 1.7480117\tbest: 1.7480117 (51)\ttotal: 3.65s\tremaining: 2.03s\n",
      "52:\tlearn: 1.7377799\ttest: 1.7411920\tbest: 1.7411920 (52)\ttotal: 3.71s\tremaining: 1.96s\n",
      "53:\tlearn: 1.7305376\ttest: 1.7339868\tbest: 1.7339868 (53)\ttotal: 3.79s\tremaining: 1.89s\n",
      "54:\tlearn: 1.7237279\ttest: 1.7272243\tbest: 1.7272243 (54)\ttotal: 3.87s\tremaining: 1.83s\n",
      "55:\tlearn: 1.7166566\ttest: 1.7201819\tbest: 1.7201819 (55)\ttotal: 3.97s\tremaining: 1.77s\n",
      "56:\tlearn: 1.7103284\ttest: 1.7138983\tbest: 1.7138983 (56)\ttotal: 4.06s\tremaining: 1.71s\n",
      "57:\tlearn: 1.7035008\ttest: 1.7071211\tbest: 1.7071211 (57)\ttotal: 4.15s\tremaining: 1.64s\n",
      "58:\tlearn: 1.6971966\ttest: 1.7008559\tbest: 1.7008559 (58)\ttotal: 4.24s\tremaining: 1.58s\n",
      "59:\tlearn: 1.6906446\ttest: 1.6943552\tbest: 1.6943552 (59)\ttotal: 4.31s\tremaining: 1.51s\n",
      "60:\tlearn: 1.6839575\ttest: 1.6876965\tbest: 1.6876965 (60)\ttotal: 4.37s\tremaining: 1.43s\n",
      "61:\tlearn: 1.6777188\ttest: 1.6815374\tbest: 1.6815374 (61)\ttotal: 4.42s\tremaining: 1.35s\n",
      "62:\tlearn: 1.6714934\ttest: 1.6753853\tbest: 1.6753853 (62)\ttotal: 4.48s\tremaining: 1.28s\n",
      "63:\tlearn: 1.6654853\ttest: 1.6694143\tbest: 1.6694143 (63)\ttotal: 4.53s\tremaining: 1.2s\n",
      "64:\tlearn: 1.6594184\ttest: 1.6633807\tbest: 1.6633807 (64)\ttotal: 4.59s\tremaining: 1.13s\n",
      "65:\tlearn: 1.6528672\ttest: 1.6568867\tbest: 1.6568867 (65)\ttotal: 4.64s\tremaining: 1.05s\n",
      "66:\tlearn: 1.6471398\ttest: 1.6511888\tbest: 1.6511888 (66)\ttotal: 4.7s\tremaining: 982ms\n",
      "67:\tlearn: 1.6407931\ttest: 1.6449010\tbest: 1.6449010 (67)\ttotal: 4.76s\tremaining: 910ms\n",
      "68:\tlearn: 1.6352970\ttest: 1.6394228\tbest: 1.6394228 (68)\ttotal: 4.82s\tremaining: 838ms\n",
      "69:\tlearn: 1.6291760\ttest: 1.6333396\tbest: 1.6333396 (69)\ttotal: 4.88s\tremaining: 766ms\n",
      "70:\tlearn: 1.6238132\ttest: 1.6280214\tbest: 1.6280214 (70)\ttotal: 4.93s\tremaining: 695ms\n",
      "71:\tlearn: 1.6181456\ttest: 1.6223789\tbest: 1.6223789 (71)\ttotal: 5.01s\tremaining: 626ms\n",
      "72:\tlearn: 1.6128584\ttest: 1.6171113\tbest: 1.6171113 (72)\ttotal: 5.09s\tremaining: 558ms\n",
      "73:\tlearn: 1.6072737\ttest: 1.6116001\tbest: 1.6116001 (73)\ttotal: 5.18s\tremaining: 490ms\n",
      "74:\tlearn: 1.6019820\ttest: 1.6063228\tbest: 1.6063228 (74)\ttotal: 5.27s\tremaining: 421ms\n",
      "75:\tlearn: 1.5961429\ttest: 1.6005198\tbest: 1.6005198 (75)\ttotal: 5.33s\tremaining: 351ms\n",
      "76:\tlearn: 1.5903500\ttest: 1.5947802\tbest: 1.5947802 (76)\ttotal: 5.4s\tremaining: 281ms\n",
      "77:\tlearn: 1.5848384\ttest: 1.5893302\tbest: 1.5893302 (77)\ttotal: 5.55s\tremaining: 214ms\n",
      "78:\tlearn: 1.5800742\ttest: 1.5845877\tbest: 1.5845877 (78)\ttotal: 5.63s\tremaining: 142ms\n",
      "79:\tlearn: 1.5749206\ttest: 1.5794785\tbest: 1.5794785 (79)\ttotal: 5.72s\tremaining: 71.5ms\n",
      "80:\tlearn: 1.5691964\ttest: 1.5737572\tbest: 1.5737572 (80)\ttotal: 5.8s\tremaining: 0us\n",
      "\n",
      "bestTest = 1.573757203\n",
      "bestIteration = 80\n",
      "\n"
     ]
    },
    {
     "name": "stderr",
     "output_type": "stream",
     "text": [
      "[I 2024-02-26 23:51:35,084] Trial 2 finished with value: 0.6806111111111111 and parameters: {'num_trees': 81, 'learning_rate': 0.0046832501855230664}. Best is trial 0 with value: 0.6515.\n"
     ]
    },
    {
     "name": "stdout",
     "output_type": "stream",
     "text": [
      "0:\tlearn: 2.2987546\ttest: 2.2987855\tbest: 2.2987855 (0)\ttotal: 131ms\tremaining: 1.31s\n",
      "1:\tlearn: 2.2951698\ttest: 2.2952109\tbest: 2.2952109 (1)\ttotal: 229ms\tremaining: 1.03s\n",
      "2:\tlearn: 2.2915037\ttest: 2.2915619\tbest: 2.2915619 (2)\ttotal: 293ms\tremaining: 780ms\n",
      "3:\tlearn: 2.2876145\ttest: 2.2877076\tbest: 2.2877076 (3)\ttotal: 349ms\tremaining: 611ms\n",
      "4:\tlearn: 2.2838425\ttest: 2.2839499\tbest: 2.2839499 (4)\ttotal: 406ms\tremaining: 488ms\n",
      "5:\tlearn: 2.2800715\ttest: 2.2802018\tbest: 2.2802018 (5)\ttotal: 461ms\tremaining: 384ms\n",
      "6:\tlearn: 2.2764353\ttest: 2.2765914\tbest: 2.2765914 (6)\ttotal: 517ms\tremaining: 295ms\n",
      "7:\tlearn: 2.2728277\ttest: 2.2729869\tbest: 2.2729869 (7)\ttotal: 578ms\tremaining: 217ms\n",
      "8:\tlearn: 2.2690138\ttest: 2.2691966\tbest: 2.2691966 (8)\ttotal: 654ms\tremaining: 145ms\n",
      "9:\tlearn: 2.2654409\ttest: 2.2656389\tbest: 2.2656389 (9)\ttotal: 755ms\tremaining: 75.5ms\n",
      "10:\tlearn: 2.2618258\ttest: 2.2620504\tbest: 2.2620504 (10)\ttotal: 855ms\tremaining: 0us\n",
      "\n",
      "bestTest = 2.262050419\n",
      "bestIteration = 10\n",
      "\n"
     ]
    },
    {
     "name": "stderr",
     "output_type": "stream",
     "text": [
      "[I 2024-02-26 23:51:37,265] Trial 3 finished with value: 0.6489444444444444 and parameters: {'num_trees': 11, 'learning_rate': 0.001027401563612028}. Best is trial 3 with value: 0.6489444444444444.\n"
     ]
    },
    {
     "name": "stdout",
     "output_type": "stream",
     "text": [
      "0:\tlearn: 2.0209681\ttest: 2.0233018\tbest: 2.0233018 (0)\ttotal: 83.5ms\tremaining: 5.84s\n",
      "1:\tlearn: 1.8522390\ttest: 1.8552966\tbest: 1.8552966 (1)\ttotal: 179ms\tremaining: 6.17s\n",
      "2:\tlearn: 1.7260156\ttest: 1.7293145\tbest: 1.7293145 (2)\ttotal: 268ms\tremaining: 6.08s\n",
      "3:\tlearn: 1.6127703\ttest: 1.6173159\tbest: 1.6173159 (3)\ttotal: 332ms\tremaining: 5.56s\n",
      "4:\tlearn: 1.5196834\ttest: 1.5253027\tbest: 1.5253027 (4)\ttotal: 389ms\tremaining: 5.13s\n",
      "5:\tlearn: 1.4434438\ttest: 1.4497269\tbest: 1.4497269 (5)\ttotal: 443ms\tremaining: 4.8s\n",
      "6:\tlearn: 1.3717608\ttest: 1.3784458\tbest: 1.3784458 (6)\ttotal: 503ms\tremaining: 4.6s\n",
      "7:\tlearn: 1.3128545\ttest: 1.3193463\tbest: 1.3193463 (7)\ttotal: 572ms\tremaining: 4.5s\n",
      "8:\tlearn: 1.2609326\ttest: 1.2678973\tbest: 1.2678973 (8)\ttotal: 647ms\tremaining: 4.46s\n",
      "9:\tlearn: 1.2090536\ttest: 1.2159530\tbest: 1.2159530 (9)\ttotal: 723ms\tremaining: 4.41s\n",
      "10:\tlearn: 1.1672736\ttest: 1.1740931\tbest: 1.1740931 (10)\ttotal: 788ms\tremaining: 4.3s\n",
      "11:\tlearn: 1.1263835\ttest: 1.1330004\tbest: 1.1330004 (11)\ttotal: 859ms\tremaining: 4.22s\n",
      "12:\tlearn: 1.0890605\ttest: 1.0961206\tbest: 1.0961206 (12)\ttotal: 936ms\tremaining: 4.18s\n",
      "13:\tlearn: 1.0557740\ttest: 1.0629141\tbest: 1.0629141 (13)\ttotal: 1.03s\tremaining: 4.19s\n",
      "14:\tlearn: 1.0274088\ttest: 1.0346979\tbest: 1.0346979 (14)\ttotal: 1.1s\tremaining: 4.09s\n",
      "15:\tlearn: 1.0004457\ttest: 1.0078403\tbest: 1.0078403 (15)\ttotal: 1.16s\tremaining: 4s\n",
      "16:\tlearn: 0.9724508\ttest: 0.9798877\tbest: 0.9798877 (16)\ttotal: 1.23s\tremaining: 3.91s\n",
      "17:\tlearn: 0.9474473\ttest: 0.9544001\tbest: 0.9544001 (17)\ttotal: 1.29s\tremaining: 3.81s\n",
      "18:\tlearn: 0.9289388\ttest: 0.9357993\tbest: 0.9357993 (18)\ttotal: 1.37s\tremaining: 3.74s\n",
      "19:\tlearn: 0.9068922\ttest: 0.9141183\tbest: 0.9141183 (19)\ttotal: 1.44s\tremaining: 3.66s\n",
      "20:\tlearn: 0.8882596\ttest: 0.8957935\tbest: 0.8957935 (20)\ttotal: 1.5s\tremaining: 3.58s\n",
      "21:\tlearn: 0.8700487\ttest: 0.8776695\tbest: 0.8776695 (21)\ttotal: 1.57s\tremaining: 3.49s\n",
      "22:\tlearn: 0.8551824\ttest: 0.8628643\tbest: 0.8628643 (22)\ttotal: 1.64s\tremaining: 3.41s\n",
      "23:\tlearn: 0.8422241\ttest: 0.8500074\tbest: 0.8500074 (23)\ttotal: 1.7s\tremaining: 3.32s\n",
      "24:\tlearn: 0.8284201\ttest: 0.8365218\tbest: 0.8365218 (24)\ttotal: 1.75s\tremaining: 3.23s\n",
      "25:\tlearn: 0.8129485\ttest: 0.8214632\tbest: 0.8214632 (25)\ttotal: 1.82s\tremaining: 3.15s\n",
      "26:\tlearn: 0.7991649\ttest: 0.8081843\tbest: 0.8081843 (26)\ttotal: 1.88s\tremaining: 3.06s\n",
      "27:\tlearn: 0.7870771\ttest: 0.7960548\tbest: 0.7960548 (27)\ttotal: 1.94s\tremaining: 2.98s\n",
      "28:\tlearn: 0.7754352\ttest: 0.7846691\tbest: 0.7846691 (28)\ttotal: 2.01s\tremaining: 2.91s\n",
      "29:\tlearn: 0.7623794\ttest: 0.7720111\tbest: 0.7720111 (29)\ttotal: 2.09s\tremaining: 2.85s\n",
      "30:\tlearn: 0.7508881\ttest: 0.7609672\tbest: 0.7609672 (30)\ttotal: 2.17s\tremaining: 2.8s\n",
      "31:\tlearn: 0.7402380\ttest: 0.7505644\tbest: 0.7505644 (31)\ttotal: 2.27s\tremaining: 2.76s\n",
      "32:\tlearn: 0.7296970\ttest: 0.7402585\tbest: 0.7402585 (32)\ttotal: 2.41s\tremaining: 2.78s\n",
      "33:\tlearn: 0.7203268\ttest: 0.7313109\tbest: 0.7313109 (33)\ttotal: 2.52s\tremaining: 2.74s\n",
      "34:\tlearn: 0.7117671\ttest: 0.7232650\tbest: 0.7232650 (34)\ttotal: 2.59s\tremaining: 2.66s\n",
      "35:\tlearn: 0.7043365\ttest: 0.7158802\tbest: 0.7158802 (35)\ttotal: 2.66s\tremaining: 2.58s\n",
      "36:\tlearn: 0.6964736\ttest: 0.7082917\tbest: 0.7082917 (36)\ttotal: 2.73s\tremaining: 2.5s\n",
      "37:\tlearn: 0.6877377\ttest: 0.6995169\tbest: 0.6995169 (37)\ttotal: 2.8s\tremaining: 2.43s\n",
      "38:\tlearn: 0.6784096\ttest: 0.6906671\tbest: 0.6906671 (38)\ttotal: 2.89s\tremaining: 2.37s\n",
      "39:\tlearn: 0.6715441\ttest: 0.6837258\tbest: 0.6837258 (39)\ttotal: 2.97s\tremaining: 2.3s\n",
      "40:\tlearn: 0.6644672\ttest: 0.6767116\tbest: 0.6767116 (40)\ttotal: 3.05s\tremaining: 2.23s\n",
      "41:\tlearn: 0.6574213\ttest: 0.6700085\tbest: 0.6700085 (41)\ttotal: 3.13s\tremaining: 2.16s\n",
      "42:\tlearn: 0.6501855\ttest: 0.6628603\tbest: 0.6628603 (42)\ttotal: 3.21s\tremaining: 2.09s\n",
      "43:\tlearn: 0.6425889\ttest: 0.6555787\tbest: 0.6555787 (43)\ttotal: 3.28s\tremaining: 2.01s\n",
      "44:\tlearn: 0.6357984\ttest: 0.6491114\tbest: 0.6491114 (44)\ttotal: 3.34s\tremaining: 1.93s\n",
      "45:\tlearn: 0.6299653\ttest: 0.6435939\tbest: 0.6435939 (45)\ttotal: 3.4s\tremaining: 1.85s\n",
      "46:\tlearn: 0.6252312\ttest: 0.6391354\tbest: 0.6391354 (46)\ttotal: 3.46s\tremaining: 1.77s\n",
      "47:\tlearn: 0.6190532\ttest: 0.6330997\tbest: 0.6330997 (47)\ttotal: 3.52s\tremaining: 1.69s\n",
      "48:\tlearn: 0.6128057\ttest: 0.6270836\tbest: 0.6270836 (48)\ttotal: 3.59s\tremaining: 1.61s\n",
      "49:\tlearn: 0.6073517\ttest: 0.6218386\tbest: 0.6218386 (49)\ttotal: 3.65s\tremaining: 1.53s\n",
      "50:\tlearn: 0.6026731\ttest: 0.6174068\tbest: 0.6174068 (50)\ttotal: 3.72s\tremaining: 1.46s\n",
      "51:\tlearn: 0.5977918\ttest: 0.6128646\tbest: 0.6128646 (51)\ttotal: 3.81s\tremaining: 1.39s\n",
      "52:\tlearn: 0.5930387\ttest: 0.6083860\tbest: 0.6083860 (52)\ttotal: 3.89s\tremaining: 1.32s\n",
      "53:\tlearn: 0.5885046\ttest: 0.6042399\tbest: 0.6042399 (53)\ttotal: 3.96s\tremaining: 1.25s\n",
      "54:\tlearn: 0.5836071\ttest: 0.5995138\tbest: 0.5995138 (54)\ttotal: 4.05s\tremaining: 1.18s\n",
      "55:\tlearn: 0.5797406\ttest: 0.5959006\tbest: 0.5959006 (55)\ttotal: 4.12s\tremaining: 1.1s\n",
      "56:\tlearn: 0.5757622\ttest: 0.5922685\tbest: 0.5922685 (56)\ttotal: 4.18s\tremaining: 1.03s\n",
      "57:\tlearn: 0.5720899\ttest: 0.5888693\tbest: 0.5888693 (57)\ttotal: 4.24s\tremaining: 951ms\n",
      "58:\tlearn: 0.5680781\ttest: 0.5852097\tbest: 0.5852097 (58)\ttotal: 4.33s\tremaining: 880ms\n",
      "59:\tlearn: 0.5642856\ttest: 0.5816821\tbest: 0.5816821 (59)\ttotal: 4.41s\tremaining: 809ms\n",
      "60:\tlearn: 0.5609168\ttest: 0.5786531\tbest: 0.5786531 (60)\ttotal: 4.51s\tremaining: 740ms\n",
      "61:\tlearn: 0.5568169\ttest: 0.5748024\tbest: 0.5748024 (61)\ttotal: 4.62s\tremaining: 671ms\n",
      "62:\tlearn: 0.5526661\ttest: 0.5709055\tbest: 0.5709055 (62)\ttotal: 4.71s\tremaining: 598ms\n",
      "63:\tlearn: 0.5491109\ttest: 0.5678253\tbest: 0.5678253 (63)\ttotal: 4.82s\tremaining: 527ms\n",
      "64:\tlearn: 0.5456593\ttest: 0.5646850\tbest: 0.5646850 (64)\ttotal: 4.89s\tremaining: 452ms\n",
      "65:\tlearn: 0.5428069\ttest: 0.5620205\tbest: 0.5620205 (65)\ttotal: 4.97s\tremaining: 377ms\n",
      "66:\tlearn: 0.5396260\ttest: 0.5589934\tbest: 0.5589934 (66)\ttotal: 5.06s\tremaining: 302ms\n",
      "67:\tlearn: 0.5364155\ttest: 0.5559613\tbest: 0.5559613 (67)\ttotal: 5.15s\tremaining: 227ms\n",
      "68:\tlearn: 0.5333037\ttest: 0.5531113\tbest: 0.5531113 (68)\ttotal: 5.25s\tremaining: 152ms\n",
      "69:\tlearn: 0.5301895\ttest: 0.5503786\tbest: 0.5503786 (69)\ttotal: 5.34s\tremaining: 76.4ms\n",
      "70:\tlearn: 0.5272957\ttest: 0.5477622\tbest: 0.5477622 (70)\ttotal: 5.44s\tremaining: 0us\n",
      "\n",
      "bestTest = 0.5477621508\n",
      "bestIteration = 70\n",
      "\n"
     ]
    },
    {
     "name": "stderr",
     "output_type": "stream",
     "text": [
      "[I 2024-02-26 23:51:43,901] Trial 4 finished with value: 0.8178333333333333 and parameters: {'num_trees': 71, 'learning_rate': 0.07900438337931201}. Best is trial 3 with value: 0.6489444444444444.\n"
     ]
    },
    {
     "name": "stdout",
     "output_type": "stream",
     "text": [
      "0:\tlearn: 2.3024583\ttest: 2.3024593\tbest: 2.3024593 (0)\ttotal: 106ms\tremaining: 3.71s\n",
      "1:\tlearn: 2.3023389\ttest: 2.3023403\tbest: 2.3023403 (1)\ttotal: 256ms\tremaining: 4.36s\n",
      "2:\tlearn: 2.3022161\ttest: 2.3022181\tbest: 2.3022181 (2)\ttotal: 354ms\tremaining: 3.9s\n",
      "3:\tlearn: 2.3020852\ttest: 2.3020883\tbest: 2.3020883 (3)\ttotal: 444ms\tremaining: 3.55s\n",
      "4:\tlearn: 2.3019573\ttest: 2.3019609\tbest: 2.3019609 (4)\ttotal: 517ms\tremaining: 3.2s\n",
      "5:\tlearn: 2.3018287\ttest: 2.3018331\tbest: 2.3018331 (5)\ttotal: 583ms\tremaining: 2.91s\n",
      "6:\tlearn: 2.3017041\ttest: 2.3017093\tbest: 2.3017093 (6)\ttotal: 657ms\tremaining: 2.72s\n",
      "7:\tlearn: 2.3015798\ttest: 2.3015850\tbest: 2.3015850 (7)\ttotal: 730ms\tremaining: 2.56s\n",
      "8:\tlearn: 2.3014477\ttest: 2.3014538\tbest: 2.3014538 (8)\ttotal: 796ms\tremaining: 2.39s\n",
      "9:\tlearn: 2.3013231\ttest: 2.3013297\tbest: 2.3013297 (9)\ttotal: 860ms\tremaining: 2.23s\n",
      "10:\tlearn: 2.3011961\ttest: 2.3012036\tbest: 2.3012036 (10)\ttotal: 920ms\tremaining: 2.09s\n",
      "11:\tlearn: 2.3010722\ttest: 2.3010798\tbest: 2.3010798 (11)\ttotal: 980ms\tremaining: 1.96s\n",
      "12:\tlearn: 2.3009508\ttest: 2.3009587\tbest: 2.3009587 (12)\ttotal: 1.04s\tremaining: 1.84s\n",
      "13:\tlearn: 2.3008306\ttest: 2.3008388\tbest: 2.3008388 (13)\ttotal: 1.1s\tremaining: 1.74s\n",
      "14:\tlearn: 2.3007032\ttest: 2.3007118\tbest: 2.3007118 (14)\ttotal: 1.17s\tremaining: 1.64s\n",
      "15:\tlearn: 2.3005805\ttest: 2.3005897\tbest: 2.3005897 (15)\ttotal: 1.24s\tremaining: 1.55s\n",
      "16:\tlearn: 2.3004509\ttest: 2.3004609\tbest: 2.3004609 (16)\ttotal: 1.31s\tremaining: 1.47s\n",
      "17:\tlearn: 2.3003287\ttest: 2.3003384\tbest: 2.3003384 (17)\ttotal: 1.41s\tremaining: 1.41s\n",
      "18:\tlearn: 2.3002091\ttest: 2.3002191\tbest: 2.3002191 (18)\ttotal: 1.51s\tremaining: 1.35s\n",
      "19:\tlearn: 2.3000868\ttest: 2.3000969\tbest: 2.3000969 (19)\ttotal: 1.6s\tremaining: 1.28s\n",
      "20:\tlearn: 2.2999631\ttest: 2.2999740\tbest: 2.2999740 (20)\ttotal: 1.66s\tremaining: 1.19s\n",
      "21:\tlearn: 2.2998359\ttest: 2.2998468\tbest: 2.2998468 (21)\ttotal: 1.72s\tremaining: 1.09s\n",
      "22:\tlearn: 2.2997134\ttest: 2.2997245\tbest: 2.2997245 (22)\ttotal: 1.78s\tremaining: 1.01s\n",
      "23:\tlearn: 2.2995901\ttest: 2.2996018\tbest: 2.2996018 (23)\ttotal: 1.85s\tremaining: 924ms\n",
      "24:\tlearn: 2.2994616\ttest: 2.2994745\tbest: 2.2994745 (24)\ttotal: 1.96s\tremaining: 861ms\n",
      "25:\tlearn: 2.2993391\ttest: 2.2993524\tbest: 2.2993524 (25)\ttotal: 2.07s\tremaining: 796ms\n",
      "26:\tlearn: 2.2992114\ttest: 2.2992254\tbest: 2.2992254 (26)\ttotal: 2.19s\tremaining: 730ms\n",
      "27:\tlearn: 2.2990888\ttest: 2.2991035\tbest: 2.2991035 (27)\ttotal: 2.29s\tremaining: 655ms\n",
      "28:\tlearn: 2.2989663\ttest: 2.2989815\tbest: 2.2989815 (28)\ttotal: 2.4s\tremaining: 579ms\n",
      "29:\tlearn: 2.2988508\ttest: 2.2988666\tbest: 2.2988666 (29)\ttotal: 2.49s\tremaining: 498ms\n",
      "30:\tlearn: 2.2987330\ttest: 2.2987495\tbest: 2.2987495 (30)\ttotal: 2.58s\tremaining: 416ms\n",
      "31:\tlearn: 2.2986103\ttest: 2.2986272\tbest: 2.2986272 (31)\ttotal: 2.67s\tremaining: 334ms\n",
      "32:\tlearn: 2.2984854\ttest: 2.2985029\tbest: 2.2985029 (32)\ttotal: 2.74s\tremaining: 249ms\n",
      "33:\tlearn: 2.2983674\ttest: 2.2983849\tbest: 2.2983849 (33)\ttotal: 2.81s\tremaining: 165ms\n",
      "34:\tlearn: 2.2982446\ttest: 2.2982635\tbest: 2.2982635 (34)\ttotal: 2.87s\tremaining: 81.9ms\n",
      "35:\tlearn: 2.2981163\ttest: 2.2981362\tbest: 2.2981362 (35)\ttotal: 2.93s\tremaining: 0us\n",
      "\n",
      "bestTest = 2.298136212\n",
      "bestIteration = 35\n",
      "\n"
     ]
    },
    {
     "name": "stderr",
     "output_type": "stream",
     "text": [
      "[I 2024-02-26 23:51:48,007] Trial 5 finished with value: 0.6506666666666666 and parameters: {'num_trees': 36, 'learning_rate': 3.3998540482411636e-05}. Best is trial 3 with value: 0.6489444444444444.\n"
     ]
    },
    {
     "name": "stdout",
     "output_type": "stream",
     "text": [
      "0:\tlearn: 2.3021598\ttest: 2.3021632\tbest: 2.3021632 (0)\ttotal: 76.2ms\tremaining: 6.48s\n",
      "1:\tlearn: 2.3017596\ttest: 2.3017642\tbest: 2.3017642 (1)\ttotal: 157ms\tremaining: 6.61s\n",
      "2:\tlearn: 2.3013483\ttest: 2.3013548\tbest: 2.3013548 (2)\ttotal: 230ms\tremaining: 6.37s\n",
      "3:\tlearn: 2.3009098\ttest: 2.3009202\tbest: 2.3009202 (3)\ttotal: 294ms\tremaining: 6.02s\n",
      "4:\tlearn: 2.3004818\ttest: 2.3004938\tbest: 2.3004938 (4)\ttotal: 359ms\tremaining: 5.82s\n",
      "5:\tlearn: 2.3000516\ttest: 2.3000661\tbest: 2.3000661 (5)\ttotal: 430ms\tremaining: 5.74s\n",
      "6:\tlearn: 2.2996348\ttest: 2.2996522\tbest: 2.2996522 (6)\ttotal: 496ms\tremaining: 5.6s\n",
      "7:\tlearn: 2.2992192\ttest: 2.2992369\tbest: 2.2992369 (7)\ttotal: 567ms\tremaining: 5.53s\n",
      "8:\tlearn: 2.2987780\ttest: 2.2987984\tbest: 2.2987984 (8)\ttotal: 637ms\tremaining: 5.45s\n",
      "9:\tlearn: 2.2983619\ttest: 2.2983840\tbest: 2.2983840 (9)\ttotal: 702ms\tremaining: 5.33s\n",
      "10:\tlearn: 2.2979380\ttest: 2.2979631\tbest: 2.2979631 (10)\ttotal: 763ms\tremaining: 5.2s\n",
      "11:\tlearn: 2.2975245\ttest: 2.2975503\tbest: 2.2975503 (11)\ttotal: 820ms\tremaining: 5.05s\n",
      "12:\tlearn: 2.2971197\ttest: 2.2971462\tbest: 2.2971462 (12)\ttotal: 877ms\tremaining: 4.92s\n",
      "13:\tlearn: 2.2967192\ttest: 2.2967468\tbest: 2.2967468 (13)\ttotal: 934ms\tremaining: 4.8s\n",
      "14:\tlearn: 2.2962947\ttest: 2.2963235\tbest: 2.2963235 (14)\ttotal: 990ms\tremaining: 4.68s\n",
      "15:\tlearn: 2.2958860\ttest: 2.2959168\tbest: 2.2959168 (15)\ttotal: 1.05s\tremaining: 4.58s\n",
      "16:\tlearn: 2.2954545\ttest: 2.2954882\tbest: 2.2954882 (16)\ttotal: 1.1s\tremaining: 4.49s\n",
      "17:\tlearn: 2.2950479\ttest: 2.2950804\tbest: 2.2950804 (17)\ttotal: 1.17s\tremaining: 4.43s\n",
      "18:\tlearn: 2.2946502\ttest: 2.2946839\tbest: 2.2946839 (18)\ttotal: 1.23s\tremaining: 4.35s\n",
      "19:\tlearn: 2.2942436\ttest: 2.2942777\tbest: 2.2942777 (19)\ttotal: 1.29s\tremaining: 4.25s\n",
      "20:\tlearn: 2.2938326\ttest: 2.2938693\tbest: 2.2938693 (20)\ttotal: 1.34s\tremaining: 4.15s\n",
      "21:\tlearn: 2.2934102\ttest: 2.2934469\tbest: 2.2934469 (21)\ttotal: 1.4s\tremaining: 4.07s\n",
      "22:\tlearn: 2.2930037\ttest: 2.2930409\tbest: 2.2930409 (22)\ttotal: 1.45s\tremaining: 3.98s\n",
      "23:\tlearn: 2.2925947\ttest: 2.2926339\tbest: 2.2926339 (23)\ttotal: 1.54s\tremaining: 3.97s\n",
      "24:\tlearn: 2.2921683\ttest: 2.2922116\tbest: 2.2922116 (24)\ttotal: 1.61s\tremaining: 3.93s\n",
      "25:\tlearn: 2.2917626\ttest: 2.2918070\tbest: 2.2918070 (25)\ttotal: 1.67s\tremaining: 3.86s\n",
      "26:\tlearn: 2.2913392\ttest: 2.2913861\tbest: 2.2913861 (26)\ttotal: 1.74s\tremaining: 3.81s\n",
      "27:\tlearn: 2.2909332\ttest: 2.2909826\tbest: 2.2909826 (27)\ttotal: 1.96s\tremaining: 4.07s\n",
      "28:\tlearn: 2.2905277\ttest: 2.2905786\tbest: 2.2905786 (28)\ttotal: 2.06s\tremaining: 4.04s\n",
      "29:\tlearn: 2.2901455\ttest: 2.2901985\tbest: 2.2901985 (29)\ttotal: 2.13s\tremaining: 3.98s\n",
      "30:\tlearn: 2.2897562\ttest: 2.2898117\tbest: 2.2898117 (30)\ttotal: 2.19s\tremaining: 3.89s\n",
      "31:\tlearn: 2.2893390\ttest: 2.2893974\tbest: 2.2893974 (31)\ttotal: 2.27s\tremaining: 3.83s\n",
      "32:\tlearn: 2.2889266\ttest: 2.2889869\tbest: 2.2889869 (32)\ttotal: 2.33s\tremaining: 3.75s\n",
      "33:\tlearn: 2.2885368\ttest: 2.2885968\tbest: 2.2885968 (33)\ttotal: 2.39s\tremaining: 3.65s\n",
      "34:\tlearn: 2.2881311\ttest: 2.2881960\tbest: 2.2881960 (34)\ttotal: 2.44s\tremaining: 3.56s\n",
      "35:\tlearn: 2.2877079\ttest: 2.2877760\tbest: 2.2877760 (35)\ttotal: 2.53s\tremaining: 3.51s\n",
      "36:\tlearn: 2.2873028\ttest: 2.2873728\tbest: 2.2873728 (36)\ttotal: 2.61s\tremaining: 3.46s\n",
      "37:\tlearn: 2.2868889\ttest: 2.2869608\tbest: 2.2869608 (37)\ttotal: 2.69s\tremaining: 3.4s\n",
      "38:\tlearn: 2.2864875\ttest: 2.2865597\tbest: 2.2865597 (38)\ttotal: 2.76s\tremaining: 3.32s\n",
      "39:\tlearn: 2.2860939\ttest: 2.2861677\tbest: 2.2861677 (39)\ttotal: 2.81s\tremaining: 3.23s\n",
      "40:\tlearn: 2.2856913\ttest: 2.2857660\tbest: 2.2857660 (40)\ttotal: 2.88s\tremaining: 3.16s\n",
      "41:\tlearn: 2.2852911\ttest: 2.2853700\tbest: 2.2853700 (41)\ttotal: 2.94s\tremaining: 3.08s\n",
      "42:\tlearn: 2.2848771\ttest: 2.2849587\tbest: 2.2849587 (42)\ttotal: 3s\tremaining: 3s\n",
      "43:\tlearn: 2.2844740\ttest: 2.2845575\tbest: 2.2845575 (43)\ttotal: 3.07s\tremaining: 2.93s\n",
      "44:\tlearn: 2.2840754\ttest: 2.2841613\tbest: 2.2841613 (44)\ttotal: 3.15s\tremaining: 2.87s\n",
      "45:\tlearn: 2.2836823\ttest: 2.2837711\tbest: 2.2837711 (45)\ttotal: 3.2s\tremaining: 2.79s\n",
      "46:\tlearn: 2.2832627\ttest: 2.2833531\tbest: 2.2833531 (46)\ttotal: 3.27s\tremaining: 2.72s\n",
      "47:\tlearn: 2.2828429\ttest: 2.2829355\tbest: 2.2829355 (47)\ttotal: 3.35s\tremaining: 2.65s\n",
      "48:\tlearn: 2.2824418\ttest: 2.2825363\tbest: 2.2825363 (48)\ttotal: 3.41s\tremaining: 2.57s\n",
      "49:\tlearn: 2.2820476\ttest: 2.2821439\tbest: 2.2821439 (49)\ttotal: 3.46s\tremaining: 2.49s\n",
      "50:\tlearn: 2.2816465\ttest: 2.2817449\tbest: 2.2817449 (50)\ttotal: 3.52s\tremaining: 2.42s\n",
      "51:\tlearn: 2.2812380\ttest: 2.2813369\tbest: 2.2813369 (51)\ttotal: 3.59s\tremaining: 2.35s\n",
      "52:\tlearn: 2.2808246\ttest: 2.2809253\tbest: 2.2809253 (52)\ttotal: 3.66s\tremaining: 2.28s\n",
      "53:\tlearn: 2.2804251\ttest: 2.2805266\tbest: 2.2805266 (53)\ttotal: 3.72s\tremaining: 2.2s\n",
      "54:\tlearn: 2.2800179\ttest: 2.2801220\tbest: 2.2801220 (54)\ttotal: 3.77s\tremaining: 2.13s\n",
      "55:\tlearn: 2.2796185\ttest: 2.2797244\tbest: 2.2797244 (55)\ttotal: 3.83s\tremaining: 2.05s\n",
      "56:\tlearn: 2.2792229\ttest: 2.2793309\tbest: 2.2793309 (56)\ttotal: 3.88s\tremaining: 1.97s\n",
      "57:\tlearn: 2.2788073\ttest: 2.2789186\tbest: 2.2789186 (57)\ttotal: 3.93s\tremaining: 1.9s\n",
      "58:\tlearn: 2.2784090\ttest: 2.2785222\tbest: 2.2785222 (58)\ttotal: 3.99s\tremaining: 1.82s\n",
      "59:\tlearn: 2.2780069\ttest: 2.2781216\tbest: 2.2781216 (59)\ttotal: 4.04s\tremaining: 1.75s\n",
      "60:\tlearn: 2.2776113\ttest: 2.2777294\tbest: 2.2777294 (60)\ttotal: 4.11s\tremaining: 1.68s\n",
      "61:\tlearn: 2.2772201\ttest: 2.2773422\tbest: 2.2773422 (61)\ttotal: 4.2s\tremaining: 1.63s\n",
      "62:\tlearn: 2.2768009\ttest: 2.2769261\tbest: 2.2769261 (62)\ttotal: 4.27s\tremaining: 1.56s\n",
      "63:\tlearn: 2.2763934\ttest: 2.2765210\tbest: 2.2765210 (63)\ttotal: 4.35s\tremaining: 1.5s\n",
      "64:\tlearn: 2.2759910\ttest: 2.2761203\tbest: 2.2761203 (64)\ttotal: 4.42s\tremaining: 1.43s\n",
      "65:\tlearn: 2.2755881\ttest: 2.2757192\tbest: 2.2757192 (65)\ttotal: 4.49s\tremaining: 1.36s\n",
      "66:\tlearn: 2.2752022\ttest: 2.2753355\tbest: 2.2753355 (66)\ttotal: 4.56s\tremaining: 1.29s\n",
      "67:\tlearn: 2.2748231\ttest: 2.2749575\tbest: 2.2749575 (67)\ttotal: 4.71s\tremaining: 1.25s\n",
      "68:\tlearn: 2.2744289\ttest: 2.2745659\tbest: 2.2745659 (68)\ttotal: 4.77s\tremaining: 1.18s\n",
      "69:\tlearn: 2.2740461\ttest: 2.2741838\tbest: 2.2741838 (69)\ttotal: 4.83s\tremaining: 1.1s\n",
      "70:\tlearn: 2.2736342\ttest: 2.2737746\tbest: 2.2737746 (70)\ttotal: 4.91s\tremaining: 1.04s\n",
      "71:\tlearn: 2.2732373\ttest: 2.2733794\tbest: 2.2733794 (71)\ttotal: 4.98s\tremaining: 968ms\n",
      "72:\tlearn: 2.2728571\ttest: 2.2729987\tbest: 2.2729987 (72)\ttotal: 5.04s\tremaining: 897ms\n",
      "73:\tlearn: 2.2724748\ttest: 2.2726153\tbest: 2.2726153 (73)\ttotal: 5.09s\tremaining: 826ms\n",
      "74:\tlearn: 2.2720797\ttest: 2.2722222\tbest: 2.2722222 (74)\ttotal: 5.16s\tremaining: 757ms\n",
      "75:\tlearn: 2.2716835\ttest: 2.2718275\tbest: 2.2718275 (75)\ttotal: 5.25s\tremaining: 691ms\n",
      "76:\tlearn: 2.2712920\ttest: 2.2714368\tbest: 2.2714368 (76)\ttotal: 5.33s\tremaining: 623ms\n",
      "77:\tlearn: 2.2708901\ttest: 2.2710392\tbest: 2.2710392 (77)\ttotal: 5.4s\tremaining: 554ms\n",
      "78:\tlearn: 2.2705120\ttest: 2.2706641\tbest: 2.2706641 (78)\ttotal: 5.48s\tremaining: 485ms\n",
      "79:\tlearn: 2.2701214\ttest: 2.2702744\tbest: 2.2702744 (79)\ttotal: 5.56s\tremaining: 417ms\n",
      "80:\tlearn: 2.2697335\ttest: 2.2698899\tbest: 2.2698899 (80)\ttotal: 5.64s\tremaining: 348ms\n",
      "81:\tlearn: 2.2693221\ttest: 2.2694803\tbest: 2.2694803 (81)\ttotal: 5.7s\tremaining: 278ms\n",
      "82:\tlearn: 2.2689234\ttest: 2.2690816\tbest: 2.2690816 (82)\ttotal: 5.77s\tremaining: 209ms\n",
      "83:\tlearn: 2.2685288\ttest: 2.2686881\tbest: 2.2686881 (83)\ttotal: 5.83s\tremaining: 139ms\n",
      "84:\tlearn: 2.2681251\ttest: 2.2682876\tbest: 2.2682876 (84)\ttotal: 5.9s\tremaining: 69.4ms\n",
      "85:\tlearn: 2.2677321\ttest: 2.2678971\tbest: 2.2678971 (85)\ttotal: 5.99s\tremaining: 0us\n",
      "\n",
      "bestTest = 2.267897087\n",
      "bestIteration = 85\n",
      "\n"
     ]
    },
    {
     "name": "stderr",
     "output_type": "stream",
     "text": [
      "[I 2024-02-26 23:51:55,086] Trial 6 finished with value: 0.6556111111111111 and parameters: {'num_trees': 86, 'learning_rate': 0.00011402145732393478}. Best is trial 3 with value: 0.6489444444444444.\n"
     ]
    },
    {
     "name": "stdout",
     "output_type": "stream",
     "text": [
      "0:\tlearn: 2.3010905\ttest: 2.3011025\tbest: 2.3011025 (0)\ttotal: 71ms\tremaining: 6.75s\n",
      "1:\tlearn: 2.2996866\ttest: 2.2997026\tbest: 2.2997026 (1)\ttotal: 134ms\tremaining: 6.28s\n",
      "2:\tlearn: 2.2982459\ttest: 2.2982686\tbest: 2.2982686 (2)\ttotal: 205ms\tremaining: 6.35s\n",
      "3:\tlearn: 2.2967123\ttest: 2.2967487\tbest: 2.2967487 (3)\ttotal: 286ms\tremaining: 6.58s\n",
      "4:\tlearn: 2.2952185\ttest: 2.2952605\tbest: 2.2952605 (4)\ttotal: 344ms\tremaining: 6.27s\n",
      "5:\tlearn: 2.2937196\ttest: 2.2937705\tbest: 2.2937705 (5)\ttotal: 400ms\tremaining: 5.99s\n",
      "6:\tlearn: 2.2922696\ttest: 2.2923307\tbest: 2.2923307 (6)\ttotal: 472ms\tremaining: 6s\n",
      "7:\tlearn: 2.2908261\ttest: 2.2908883\tbest: 2.2908883 (7)\ttotal: 540ms\tremaining: 5.94s\n",
      "8:\tlearn: 2.2892957\ttest: 2.2893673\tbest: 2.2893673 (8)\ttotal: 596ms\tremaining: 5.76s\n",
      "9:\tlearn: 2.2878555\ttest: 2.2879331\tbest: 2.2879331 (9)\ttotal: 649ms\tremaining: 5.58s\n",
      "10:\tlearn: 2.2863914\ttest: 2.2864796\tbest: 2.2864796 (10)\ttotal: 707ms\tremaining: 5.46s\n",
      "11:\tlearn: 2.2849648\ttest: 2.2850552\tbest: 2.2850552 (11)\ttotal: 767ms\tremaining: 5.37s\n",
      "12:\tlearn: 2.2835690\ttest: 2.2836621\tbest: 2.2836621 (12)\ttotal: 836ms\tremaining: 5.34s\n",
      "13:\tlearn: 2.2821918\ttest: 2.2822885\tbest: 2.2822885 (13)\ttotal: 912ms\tremaining: 5.34s\n",
      "14:\tlearn: 2.2807333\ttest: 2.2808345\tbest: 2.2808345 (14)\ttotal: 968ms\tremaining: 5.23s\n",
      "15:\tlearn: 2.2793331\ttest: 2.2794411\tbest: 2.2794411 (15)\ttotal: 1.04s\tremaining: 5.23s\n",
      "16:\tlearn: 2.2778552\ttest: 2.2779734\tbest: 2.2779734 (16)\ttotal: 1.15s\tremaining: 5.33s\n",
      "17:\tlearn: 2.2764640\ttest: 2.2765783\tbest: 2.2765783 (17)\ttotal: 1.22s\tremaining: 5.28s\n",
      "18:\tlearn: 2.2751069\ttest: 2.2752255\tbest: 2.2752255 (18)\ttotal: 1.3s\tremaining: 5.26s\n",
      "19:\tlearn: 2.2737230\ttest: 2.2738434\tbest: 2.2738434 (19)\ttotal: 1.36s\tremaining: 5.17s\n",
      "20:\tlearn: 2.2723256\ttest: 2.2724546\tbest: 2.2724546 (20)\ttotal: 1.41s\tremaining: 5.05s\n",
      "21:\tlearn: 2.2708899\ttest: 2.2710194\tbest: 2.2710194 (21)\ttotal: 1.47s\tremaining: 4.95s\n",
      "22:\tlearn: 2.2695115\ttest: 2.2696430\tbest: 2.2696430 (22)\ttotal: 1.55s\tremaining: 4.93s\n",
      "23:\tlearn: 2.2681283\ttest: 2.2682666\tbest: 2.2682666 (23)\ttotal: 1.62s\tremaining: 4.86s\n",
      "24:\tlearn: 2.2666865\ttest: 2.2668388\tbest: 2.2668388 (24)\ttotal: 1.68s\tremaining: 4.78s\n",
      "25:\tlearn: 2.2653184\ttest: 2.2654748\tbest: 2.2654748 (25)\ttotal: 1.81s\tremaining: 4.89s\n",
      "26:\tlearn: 2.2638911\ttest: 2.2640561\tbest: 2.2640561 (26)\ttotal: 1.87s\tremaining: 4.79s\n",
      "27:\tlearn: 2.2625243\ttest: 2.2626977\tbest: 2.2626977 (27)\ttotal: 1.93s\tremaining: 4.69s\n",
      "28:\tlearn: 2.2611531\ttest: 2.2613254\tbest: 2.2613254 (28)\ttotal: 1.99s\tremaining: 4.59s\n",
      "29:\tlearn: 2.2598723\ttest: 2.2600520\tbest: 2.2600520 (29)\ttotal: 2.04s\tremaining: 4.49s\n",
      "30:\tlearn: 2.2585717\ttest: 2.2587598\tbest: 2.2587598 (30)\ttotal: 2.09s\tremaining: 4.39s\n",
      "31:\tlearn: 2.2571772\ttest: 2.2573753\tbest: 2.2573753 (31)\ttotal: 2.14s\tremaining: 4.29s\n",
      "32:\tlearn: 2.2558022\ttest: 2.2560068\tbest: 2.2560068 (32)\ttotal: 2.2s\tremaining: 4.2s\n",
      "33:\tlearn: 2.2545009\ttest: 2.2547051\tbest: 2.2547051 (33)\ttotal: 2.25s\tremaining: 4.11s\n",
      "34:\tlearn: 2.2531503\ttest: 2.2533708\tbest: 2.2533708 (34)\ttotal: 2.31s\tremaining: 4.02s\n",
      "35:\tlearn: 2.2517426\ttest: 2.2519738\tbest: 2.2519738 (35)\ttotal: 2.36s\tremaining: 3.94s\n",
      "36:\tlearn: 2.2503978\ttest: 2.2506361\tbest: 2.2506361 (36)\ttotal: 2.42s\tremaining: 3.85s\n",
      "37:\tlearn: 2.2490269\ttest: 2.2492716\tbest: 2.2492716 (37)\ttotal: 2.47s\tremaining: 3.77s\n",
      "38:\tlearn: 2.2476977\ttest: 2.2479440\tbest: 2.2479440 (38)\ttotal: 2.53s\tremaining: 3.7s\n",
      "39:\tlearn: 2.2463993\ttest: 2.2466514\tbest: 2.2466514 (39)\ttotal: 2.58s\tremaining: 3.62s\n",
      "40:\tlearn: 2.2450708\ttest: 2.2453264\tbest: 2.2453264 (40)\ttotal: 2.64s\tremaining: 3.54s\n",
      "41:\tlearn: 2.2437548\ttest: 2.2440242\tbest: 2.2440242 (41)\ttotal: 2.72s\tremaining: 3.49s\n",
      "42:\tlearn: 2.2423632\ttest: 2.2426414\tbest: 2.2426414 (42)\ttotal: 2.8s\tremaining: 3.45s\n",
      "43:\tlearn: 2.2410751\ttest: 2.2413555\tbest: 2.2413555 (43)\ttotal: 2.86s\tremaining: 3.38s\n",
      "44:\tlearn: 2.2397677\ttest: 2.2400564\tbest: 2.2400564 (44)\ttotal: 2.92s\tremaining: 3.31s\n",
      "45:\tlearn: 2.2384823\ttest: 2.2387808\tbest: 2.2387808 (45)\ttotal: 3.03s\tremaining: 3.29s\n",
      "46:\tlearn: 2.2371078\ttest: 2.2374119\tbest: 2.2374119 (46)\ttotal: 3.09s\tremaining: 3.22s\n",
      "47:\tlearn: 2.2357352\ttest: 2.2360465\tbest: 2.2360465 (47)\ttotal: 3.15s\tremaining: 3.15s\n",
      "48:\tlearn: 2.2344281\ttest: 2.2347464\tbest: 2.2347464 (48)\ttotal: 3.23s\tremaining: 3.1s\n",
      "49:\tlearn: 2.2331453\ttest: 2.2334695\tbest: 2.2334695 (49)\ttotal: 3.31s\tremaining: 3.05s\n",
      "50:\tlearn: 2.2318431\ttest: 2.2321749\tbest: 2.2321749 (50)\ttotal: 3.38s\tremaining: 2.98s\n",
      "51:\tlearn: 2.2305185\ttest: 2.2308522\tbest: 2.2308522 (51)\ttotal: 3.45s\tremaining: 2.92s\n",
      "52:\tlearn: 2.2291771\ttest: 2.2295166\tbest: 2.2295166 (52)\ttotal: 3.51s\tremaining: 2.85s\n",
      "53:\tlearn: 2.2278855\ttest: 2.2282279\tbest: 2.2282279 (53)\ttotal: 3.58s\tremaining: 2.78s\n",
      "54:\tlearn: 2.2265684\ttest: 2.2269198\tbest: 2.2269198 (54)\ttotal: 3.65s\tremaining: 2.72s\n",
      "55:\tlearn: 2.2252835\ttest: 2.2256409\tbest: 2.2256409 (55)\ttotal: 3.72s\tremaining: 2.65s\n",
      "56:\tlearn: 2.2240137\ttest: 2.2243781\tbest: 2.2243781 (56)\ttotal: 3.79s\tremaining: 2.59s\n",
      "57:\tlearn: 2.2226738\ttest: 2.2230487\tbest: 2.2230487 (57)\ttotal: 3.87s\tremaining: 2.54s\n",
      "58:\tlearn: 2.2213964\ttest: 2.2217785\tbest: 2.2217785 (58)\ttotal: 3.94s\tremaining: 2.47s\n",
      "59:\tlearn: 2.2201082\ttest: 2.2204957\tbest: 2.2204957 (59)\ttotal: 4s\tremaining: 2.4s\n",
      "60:\tlearn: 2.2188438\ttest: 2.2192426\tbest: 2.2192426 (60)\ttotal: 4.06s\tremaining: 2.33s\n",
      "61:\tlearn: 2.2175864\ttest: 2.2179982\tbest: 2.2179982 (61)\ttotal: 4.12s\tremaining: 2.26s\n",
      "62:\tlearn: 2.2162453\ttest: 2.2166675\tbest: 2.2166675 (62)\ttotal: 4.19s\tremaining: 2.19s\n",
      "63:\tlearn: 2.2149627\ttest: 2.2153900\tbest: 2.2153900 (63)\ttotal: 4.25s\tremaining: 2.12s\n",
      "64:\tlearn: 2.2136784\ttest: 2.2141116\tbest: 2.2141116 (64)\ttotal: 4.3s\tremaining: 2.05s\n",
      "65:\tlearn: 2.2123917\ttest: 2.2128310\tbest: 2.2128310 (65)\ttotal: 4.38s\tremaining: 1.99s\n",
      "66:\tlearn: 2.2111686\ttest: 2.2116149\tbest: 2.2116149 (66)\ttotal: 4.45s\tremaining: 1.92s\n",
      "67:\tlearn: 2.2099601\ttest: 2.2104103\tbest: 2.2104103 (67)\ttotal: 4.51s\tremaining: 1.86s\n",
      "68:\tlearn: 2.2087077\ttest: 2.2091664\tbest: 2.2091664 (68)\ttotal: 4.57s\tremaining: 1.79s\n",
      "69:\tlearn: 2.2074941\ttest: 2.2079553\tbest: 2.2079553 (69)\ttotal: 4.64s\tremaining: 1.72s\n",
      "70:\tlearn: 2.2062117\ttest: 2.2066824\tbest: 2.2066824 (70)\ttotal: 4.71s\tremaining: 1.66s\n",
      "71:\tlearn: 2.2049387\ttest: 2.2054144\tbest: 2.2054144 (71)\ttotal: 4.77s\tremaining: 1.59s\n",
      "72:\tlearn: 2.2037414\ttest: 2.2042158\tbest: 2.2042158 (72)\ttotal: 4.82s\tremaining: 1.52s\n",
      "73:\tlearn: 2.2025376\ttest: 2.2030093\tbest: 2.2030093 (73)\ttotal: 4.88s\tremaining: 1.45s\n",
      "74:\tlearn: 2.2012946\ttest: 2.2017734\tbest: 2.2017734 (74)\ttotal: 4.95s\tremaining: 1.39s\n",
      "75:\tlearn: 2.2000483\ttest: 2.2005322\tbest: 2.2005322 (75)\ttotal: 5.04s\tremaining: 1.33s\n",
      "76:\tlearn: 2.1988233\ttest: 2.1993106\tbest: 2.1993106 (76)\ttotal: 5.12s\tremaining: 1.26s\n",
      "77:\tlearn: 2.1975245\ttest: 2.1980223\tbest: 2.1980223 (77)\ttotal: 5.23s\tremaining: 1.21s\n",
      "78:\tlearn: 2.1963455\ttest: 2.1968533\tbest: 2.1968533 (78)\ttotal: 5.34s\tremaining: 1.15s\n",
      "79:\tlearn: 2.1951192\ttest: 2.1956349\tbest: 2.1956349 (79)\ttotal: 5.44s\tremaining: 1.09s\n",
      "80:\tlearn: 2.1939104\ttest: 2.1944372\tbest: 2.1944372 (80)\ttotal: 5.53s\tremaining: 1.02s\n",
      "81:\tlearn: 2.1926283\ttest: 2.1931615\tbest: 2.1931615 (81)\ttotal: 5.64s\tremaining: 963ms\n",
      "82:\tlearn: 2.1913884\ttest: 2.1919219\tbest: 2.1919219 (82)\ttotal: 5.71s\tremaining: 895ms\n",
      "83:\tlearn: 2.1901641\ttest: 2.1907017\tbest: 2.1907017 (83)\ttotal: 5.81s\tremaining: 830ms\n",
      "84:\tlearn: 2.1889087\ttest: 2.1894566\tbest: 2.1894566 (84)\ttotal: 5.9s\tremaining: 763ms\n",
      "85:\tlearn: 2.1876946\ttest: 2.1882506\tbest: 2.1882506 (85)\ttotal: 5.98s\tremaining: 696ms\n",
      "86:\tlearn: 2.1864837\ttest: 2.1870489\tbest: 2.1870489 (86)\ttotal: 6.05s\tremaining: 626ms\n",
      "87:\tlearn: 2.1852287\ttest: 2.1858077\tbest: 2.1858077 (87)\ttotal: 6.14s\tremaining: 558ms\n",
      "88:\tlearn: 2.1840587\ttest: 2.1846464\tbest: 2.1846464 (88)\ttotal: 6.31s\tremaining: 497ms\n",
      "89:\tlearn: 2.1827972\ttest: 2.1833867\tbest: 2.1833867 (89)\ttotal: 6.44s\tremaining: 429ms\n",
      "90:\tlearn: 2.1815769\ttest: 2.1821797\tbest: 2.1821797 (90)\ttotal: 6.55s\tremaining: 360ms\n",
      "91:\tlearn: 2.1803702\ttest: 2.1809839\tbest: 2.1809839 (91)\ttotal: 6.63s\tremaining: 288ms\n",
      "92:\tlearn: 2.1791618\ttest: 2.1797803\tbest: 2.1797803 (92)\ttotal: 6.71s\tremaining: 216ms\n",
      "93:\tlearn: 2.1779480\ttest: 2.1785766\tbest: 2.1785766 (93)\ttotal: 6.77s\tremaining: 144ms\n",
      "94:\tlearn: 2.1767506\ttest: 2.1773825\tbest: 2.1773825 (94)\ttotal: 6.84s\tremaining: 72ms\n",
      "95:\tlearn: 2.1755480\ttest: 2.1761809\tbest: 2.1761809 (95)\ttotal: 6.95s\tremaining: 0us\n",
      "\n",
      "bestTest = 2.176180918\n",
      "bestIteration = 95\n",
      "\n"
     ]
    },
    {
     "name": "stderr",
     "output_type": "stream",
     "text": [
      "[I 2024-02-26 23:52:03,189] Trial 7 finished with value: 0.6585 and parameters: {'num_trees': 96, 'learning_rate': 0.00040075398004878416}. Best is trial 3 with value: 0.6489444444444444.\n"
     ]
    },
    {
     "name": "stdout",
     "output_type": "stream",
     "text": [
      "0:\tlearn: 2.2038453\ttest: 2.2046472\tbest: 2.2046472 (0)\ttotal: 104ms\tremaining: 2.08s\n",
      "1:\tlearn: 2.1243350\ttest: 2.1254130\tbest: 2.1254130 (1)\ttotal: 202ms\tremaining: 1.92s\n",
      "2:\tlearn: 2.0546192\ttest: 2.0558428\tbest: 2.0558428 (2)\ttotal: 265ms\tremaining: 1.59s\n",
      "3:\tlearn: 1.9856434\ttest: 1.9875560\tbest: 1.9875560 (3)\ttotal: 348ms\tremaining: 1.48s\n",
      "4:\tlearn: 1.9287382\ttest: 1.9310938\tbest: 1.9310938 (4)\ttotal: 427ms\tremaining: 1.37s\n",
      "5:\tlearn: 1.8764119\ttest: 1.8792311\tbest: 1.8792311 (5)\ttotal: 498ms\tremaining: 1.24s\n",
      "6:\tlearn: 1.8285170\ttest: 1.8317814\tbest: 1.8317814 (6)\ttotal: 563ms\tremaining: 1.13s\n",
      "7:\tlearn: 1.7828784\ttest: 1.7862871\tbest: 1.7862871 (7)\ttotal: 630ms\tremaining: 1.02s\n",
      "8:\tlearn: 1.7381063\ttest: 1.7418227\tbest: 1.7418227 (8)\ttotal: 695ms\tremaining: 927ms\n",
      "9:\tlearn: 1.6998989\ttest: 1.7036530\tbest: 1.7036530 (9)\ttotal: 777ms\tremaining: 854ms\n",
      "10:\tlearn: 1.6646309\ttest: 1.6685274\tbest: 1.6685274 (10)\ttotal: 850ms\tremaining: 772ms\n",
      "11:\tlearn: 1.6267270\ttest: 1.6308441\tbest: 1.6308441 (11)\ttotal: 913ms\tremaining: 685ms\n",
      "12:\tlearn: 1.5933397\ttest: 1.5977095\tbest: 1.5977095 (12)\ttotal: 988ms\tremaining: 608ms\n",
      "13:\tlearn: 1.5620520\ttest: 1.5666272\tbest: 1.5666272 (13)\ttotal: 1.05s\tremaining: 528ms\n",
      "14:\tlearn: 1.5334636\ttest: 1.5381943\tbest: 1.5381943 (14)\ttotal: 1.12s\tremaining: 447ms\n",
      "15:\tlearn: 1.5060937\ttest: 1.5108920\tbest: 1.5108920 (15)\ttotal: 1.2s\tremaining: 375ms\n",
      "16:\tlearn: 1.4797943\ttest: 1.4849316\tbest: 1.4849316 (16)\ttotal: 1.29s\tremaining: 303ms\n",
      "17:\tlearn: 1.4553292\ttest: 1.4604070\tbest: 1.4604070 (17)\ttotal: 1.36s\tremaining: 227ms\n",
      "18:\tlearn: 1.4309240\ttest: 1.4360925\tbest: 1.4360925 (18)\ttotal: 1.44s\tremaining: 152ms\n",
      "19:\tlearn: 1.4090396\ttest: 1.4143844\tbest: 1.4143844 (19)\ttotal: 1.52s\tremaining: 76.1ms\n",
      "20:\tlearn: 1.3891507\ttest: 1.3945852\tbest: 1.3945852 (20)\ttotal: 1.6s\tremaining: 0us\n",
      "\n",
      "bestTest = 1.394585232\n",
      "bestIteration = 20\n",
      "\n"
     ]
    },
    {
     "name": "stderr",
     "output_type": "stream",
     "text": [
      "[I 2024-02-26 23:52:05,964] Trial 8 finished with value: 0.6867222222222222 and parameters: {'num_trees': 21, 'learning_rate': 0.02683980776520276}. Best is trial 3 with value: 0.6489444444444444.\n"
     ]
    },
    {
     "name": "stdout",
     "output_type": "stream",
     "text": [
      "0:\tlearn: 2.2541100\ttest: 2.2545019\tbest: 2.2545019 (0)\ttotal: 102ms\tremaining: 7.67s\n",
      "1:\tlearn: 2.2118286\ttest: 2.2123545\tbest: 2.2123545 (1)\ttotal: 190ms\tremaining: 7.04s\n",
      "2:\tlearn: 2.1723811\ttest: 2.1729825\tbest: 2.1729825 (2)\ttotal: 279ms\tremaining: 6.78s\n",
      "3:\tlearn: 2.1315574\ttest: 2.1325490\tbest: 2.1325490 (3)\ttotal: 364ms\tremaining: 6.56s\n",
      "4:\tlearn: 2.0960968\ttest: 2.0973309\tbest: 2.0973309 (4)\ttotal: 462ms\tremaining: 6.56s\n",
      "5:\tlearn: 2.0623960\ttest: 2.0639026\tbest: 2.0639026 (5)\ttotal: 554ms\tremaining: 6.46s\n",
      "6:\tlearn: 2.0302073\ttest: 2.0319870\tbest: 2.0319870 (6)\ttotal: 634ms\tremaining: 6.25s\n",
      "7:\tlearn: 1.9989140\ttest: 2.0007845\tbest: 2.0007845 (7)\ttotal: 707ms\tremaining: 6.01s\n",
      "8:\tlearn: 1.9674610\ttest: 1.9695471\tbest: 1.9695471 (8)\ttotal: 802ms\tremaining: 5.97s\n",
      "9:\tlearn: 1.9399009\ttest: 1.9421909\tbest: 1.9421909 (9)\ttotal: 898ms\tremaining: 5.93s\n",
      "10:\tlearn: 1.9132456\ttest: 1.9157673\tbest: 1.9157673 (10)\ttotal: 993ms\tremaining: 5.87s\n",
      "11:\tlearn: 1.8874845\ttest: 1.8900798\tbest: 1.8900798 (11)\ttotal: 1.07s\tremaining: 5.73s\n",
      "12:\tlearn: 1.8631867\ttest: 1.8658966\tbest: 1.8658966 (12)\ttotal: 1.15s\tremaining: 5.58s\n",
      "13:\tlearn: 1.8401023\ttest: 1.8429028\tbest: 1.8429028 (13)\ttotal: 1.28s\tremaining: 5.69s\n",
      "14:\tlearn: 1.8170299\ttest: 1.8199599\tbest: 1.8199599 (14)\ttotal: 1.36s\tremaining: 5.54s\n",
      "15:\tlearn: 1.7961212\ttest: 1.7991931\tbest: 1.7991931 (15)\ttotal: 1.42s\tremaining: 5.34s\n",
      "16:\tlearn: 1.7739422\ttest: 1.7771173\tbest: 1.7771173 (16)\ttotal: 1.53s\tremaining: 5.3s\n",
      "17:\tlearn: 1.7536254\ttest: 1.7567446\tbest: 1.7567446 (17)\ttotal: 1.61s\tremaining: 5.2s\n",
      "18:\tlearn: 1.7343686\ttest: 1.7377388\tbest: 1.7377388 (18)\ttotal: 1.7s\tremaining: 5.11s\n",
      "19:\tlearn: 1.7162528\ttest: 1.7196777\tbest: 1.7196777 (19)\ttotal: 1.78s\tremaining: 4.98s\n",
      "20:\tlearn: 1.6982940\ttest: 1.7017928\tbest: 1.7017928 (20)\ttotal: 1.86s\tremaining: 4.88s\n",
      "21:\tlearn: 1.6796932\ttest: 1.6832253\tbest: 1.6832253 (21)\ttotal: 1.95s\tremaining: 4.78s\n",
      "22:\tlearn: 1.6614629\ttest: 1.6652109\tbest: 1.6652109 (22)\ttotal: 2.02s\tremaining: 4.65s\n",
      "23:\tlearn: 1.6443971\ttest: 1.6482548\tbest: 1.6482548 (23)\ttotal: 2.08s\tremaining: 4.52s\n",
      "24:\tlearn: 1.6286092\ttest: 1.6325861\tbest: 1.6325861 (24)\ttotal: 2.15s\tremaining: 4.39s\n",
      "25:\tlearn: 1.6123145\ttest: 1.6163848\tbest: 1.6163848 (25)\ttotal: 2.22s\tremaining: 4.26s\n",
      "26:\tlearn: 1.5972190\ttest: 1.6013396\tbest: 1.6013396 (26)\ttotal: 2.28s\tremaining: 4.14s\n",
      "27:\tlearn: 1.5821453\ttest: 1.5863337\tbest: 1.5863337 (27)\ttotal: 2.35s\tremaining: 4.03s\n",
      "28:\tlearn: 1.5674962\ttest: 1.5716695\tbest: 1.5716695 (28)\ttotal: 2.42s\tremaining: 3.92s\n",
      "29:\tlearn: 1.5525038\ttest: 1.5567940\tbest: 1.5567940 (29)\ttotal: 2.49s\tremaining: 3.82s\n",
      "30:\tlearn: 1.5391347\ttest: 1.5434725\tbest: 1.5434725 (30)\ttotal: 2.56s\tremaining: 3.72s\n",
      "31:\tlearn: 1.5247027\ttest: 1.5292177\tbest: 1.5292177 (31)\ttotal: 2.64s\tremaining: 3.63s\n",
      "32:\tlearn: 1.5116035\ttest: 1.5162050\tbest: 1.5162050 (32)\ttotal: 2.72s\tremaining: 3.54s\n",
      "33:\tlearn: 1.4989083\ttest: 1.5035304\tbest: 1.5035304 (33)\ttotal: 2.81s\tremaining: 3.47s\n",
      "34:\tlearn: 1.4872583\ttest: 1.4919993\tbest: 1.4919993 (34)\ttotal: 2.88s\tremaining: 3.38s\n",
      "35:\tlearn: 1.4748648\ttest: 1.4797064\tbest: 1.4797064 (35)\ttotal: 2.94s\tremaining: 3.27s\n",
      "36:\tlearn: 1.4618358\ttest: 1.4666726\tbest: 1.4666726 (36)\ttotal: 3s\tremaining: 3.16s\n",
      "37:\tlearn: 1.4501040\ttest: 1.4549806\tbest: 1.4549806 (37)\ttotal: 3.06s\tremaining: 3.06s\n",
      "38:\tlearn: 1.4389055\ttest: 1.4438422\tbest: 1.4438422 (38)\ttotal: 3.13s\tremaining: 2.97s\n",
      "39:\tlearn: 1.4284267\ttest: 1.4334693\tbest: 1.4334693 (39)\ttotal: 3.22s\tremaining: 2.9s\n",
      "40:\tlearn: 1.4164728\ttest: 1.4216657\tbest: 1.4216657 (40)\ttotal: 3.3s\tremaining: 2.81s\n",
      "41:\tlearn: 1.4052855\ttest: 1.4105547\tbest: 1.4105547 (41)\ttotal: 3.38s\tremaining: 2.74s\n",
      "42:\tlearn: 1.3933675\ttest: 1.3987074\tbest: 1.3987074 (42)\ttotal: 3.47s\tremaining: 2.66s\n",
      "43:\tlearn: 1.3826115\ttest: 1.3879815\tbest: 1.3879815 (43)\ttotal: 3.54s\tremaining: 2.58s\n",
      "44:\tlearn: 1.3724431\ttest: 1.3778200\tbest: 1.3778200 (44)\ttotal: 3.67s\tremaining: 2.53s\n",
      "45:\tlearn: 1.3633508\ttest: 1.3688372\tbest: 1.3688372 (45)\ttotal: 3.75s\tremaining: 2.45s\n",
      "46:\tlearn: 1.3536192\ttest: 1.3591637\tbest: 1.3591637 (46)\ttotal: 3.82s\tremaining: 2.36s\n",
      "47:\tlearn: 1.3438577\ttest: 1.3494764\tbest: 1.3494764 (47)\ttotal: 3.91s\tremaining: 2.28s\n",
      "48:\tlearn: 1.3342066\ttest: 1.3398820\tbest: 1.3398820 (48)\ttotal: 3.98s\tremaining: 2.19s\n",
      "49:\tlearn: 1.3248121\ttest: 1.3306030\tbest: 1.3306030 (49)\ttotal: 4.07s\tremaining: 2.12s\n",
      "50:\tlearn: 1.3165306\ttest: 1.3223961\tbest: 1.3223961 (50)\ttotal: 4.15s\tremaining: 2.03s\n",
      "51:\tlearn: 1.3074114\ttest: 1.3132926\tbest: 1.3132926 (51)\ttotal: 4.23s\tremaining: 1.95s\n",
      "52:\tlearn: 1.2985994\ttest: 1.3045106\tbest: 1.3045106 (52)\ttotal: 4.31s\tremaining: 1.87s\n",
      "53:\tlearn: 1.2894527\ttest: 1.2953065\tbest: 1.2953065 (53)\ttotal: 4.38s\tremaining: 1.78s\n",
      "54:\tlearn: 1.2806115\ttest: 1.2865632\tbest: 1.2865632 (54)\ttotal: 4.44s\tremaining: 1.7s\n",
      "55:\tlearn: 1.2725428\ttest: 1.2785326\tbest: 1.2785326 (55)\ttotal: 4.5s\tremaining: 1.61s\n",
      "56:\tlearn: 1.2644483\ttest: 1.2705274\tbest: 1.2705274 (56)\ttotal: 4.59s\tremaining: 1.53s\n",
      "57:\tlearn: 1.2566662\ttest: 1.2627812\tbest: 1.2627812 (57)\ttotal: 4.67s\tremaining: 1.45s\n",
      "58:\tlearn: 1.2487559\ttest: 1.2548864\tbest: 1.2548864 (58)\ttotal: 4.74s\tremaining: 1.36s\n",
      "59:\tlearn: 1.2400319\ttest: 1.2461246\tbest: 1.2461246 (59)\ttotal: 4.8s\tremaining: 1.28s\n",
      "60:\tlearn: 1.2321114\ttest: 1.2381776\tbest: 1.2381776 (60)\ttotal: 4.87s\tremaining: 1.2s\n",
      "61:\tlearn: 1.2238827\ttest: 1.2300118\tbest: 1.2300118 (61)\ttotal: 4.93s\tremaining: 1.11s\n",
      "62:\tlearn: 1.2161204\ttest: 1.2223275\tbest: 1.2223275 (62)\ttotal: 5s\tremaining: 1.03s\n",
      "63:\tlearn: 1.2076079\ttest: 1.2138254\tbest: 1.2138254 (63)\ttotal: 5.08s\tremaining: 952ms\n",
      "64:\tlearn: 1.2005119\ttest: 1.2067593\tbest: 1.2067593 (64)\ttotal: 5.15s\tremaining: 871ms\n",
      "65:\tlearn: 1.1930387\ttest: 1.1993382\tbest: 1.1993382 (65)\ttotal: 5.24s\tremaining: 793ms\n",
      "66:\tlearn: 1.1859173\ttest: 1.1922122\tbest: 1.1922122 (66)\ttotal: 5.32s\tremaining: 715ms\n",
      "67:\tlearn: 1.1785734\ttest: 1.1849157\tbest: 1.1849157 (67)\ttotal: 5.39s\tremaining: 634ms\n",
      "68:\tlearn: 1.1712551\ttest: 1.1775995\tbest: 1.1775995 (68)\ttotal: 5.46s\tremaining: 554ms\n",
      "69:\tlearn: 1.1645935\ttest: 1.1709683\tbest: 1.1709683 (69)\ttotal: 5.53s\tremaining: 474ms\n",
      "70:\tlearn: 1.1576883\ttest: 1.1641121\tbest: 1.1641121 (70)\ttotal: 5.61s\tremaining: 395ms\n",
      "71:\tlearn: 1.1512534\ttest: 1.1576915\tbest: 1.1576915 (71)\ttotal: 5.68s\tremaining: 316ms\n",
      "72:\tlearn: 1.1452257\ttest: 1.1516552\tbest: 1.1516552 (72)\ttotal: 5.75s\tremaining: 236ms\n",
      "73:\tlearn: 1.1380407\ttest: 1.1445157\tbest: 1.1445157 (73)\ttotal: 5.82s\tremaining: 157ms\n",
      "74:\tlearn: 1.1315537\ttest: 1.1381223\tbest: 1.1381223 (74)\ttotal: 5.89s\tremaining: 78.6ms\n",
      "75:\tlearn: 1.1250882\ttest: 1.1317046\tbest: 1.1317046 (75)\ttotal: 5.96s\tremaining: 0us\n",
      "\n",
      "bestTest = 1.131704612\n",
      "bestIteration = 75\n",
      "\n"
     ]
    },
    {
     "name": "stderr",
     "output_type": "stream",
     "text": [
      "[I 2024-02-26 23:52:13,091] Trial 9 finished with value: 0.7142777777777778 and parameters: {'num_trees': 76, 'learning_rate': 0.01308098248679543}. Best is trial 3 with value: 0.6489444444444444.\n"
     ]
    },
    {
     "name": "stdout",
     "output_type": "stream",
     "text": [
      "0:\tlearn: 2.3025329\ttest: 2.3025333\tbest: 2.3025333 (0)\ttotal: 53ms\tremaining: 0us\n",
      "\n",
      "bestTest = 2.302533336\n",
      "bestIteration = 0\n",
      "\n"
     ]
    },
    {
     "name": "stderr",
     "output_type": "stream",
     "text": [
      "[I 2024-02-26 23:52:14,310] Trial 10 finished with value: 0.5960555555555556 and parameters: {'num_trees': 1, 'learning_rate': 1.3987806508730453e-05}. Best is trial 10 with value: 0.5960555555555556.\n"
     ]
    },
    {
     "name": "stdout",
     "output_type": "stream",
     "text": [
      "0:\tlearn: 2.3025259\ttest: 2.3025263\tbest: 2.3025263 (0)\ttotal: 58.6ms\tremaining: 0us\n",
      "\n",
      "bestTest = 2.302526333\n",
      "bestIteration = 0\n",
      "\n"
     ]
    },
    {
     "name": "stderr",
     "output_type": "stream",
     "text": [
      "[I 2024-02-26 23:52:15,489] Trial 11 finished with value: 0.5960555555555556 and parameters: {'num_trees': 1, 'learning_rate': 1.5880623076232577e-05}. Best is trial 10 with value: 0.5960555555555556.\n"
     ]
    },
    {
     "name": "stdout",
     "output_type": "stream",
     "text": [
      "0:\tlearn: 2.3025423\ttest: 2.3025426\tbest: 2.3025426 (0)\ttotal: 59.5ms\tremaining: 298ms\n",
      "1:\tlearn: 2.3025020\ttest: 2.3025024\tbest: 2.3025024 (1)\ttotal: 131ms\tremaining: 262ms\n",
      "2:\tlearn: 2.3024605\ttest: 2.3024612\tbest: 2.3024612 (2)\ttotal: 204ms\tremaining: 204ms\n",
      "3:\tlearn: 2.3024163\ttest: 2.3024173\tbest: 2.3024173 (3)\ttotal: 273ms\tremaining: 136ms\n",
      "4:\tlearn: 2.3023731\ttest: 2.3023743\tbest: 2.3023743 (4)\ttotal: 337ms\tremaining: 67.4ms\n",
      "5:\tlearn: 2.3023296\ttest: 2.3023311\tbest: 2.3023311 (5)\ttotal: 400ms\tremaining: 0us\n",
      "\n",
      "bestTest = 2.302331093\n",
      "bestIteration = 5\n",
      "\n"
     ]
    },
    {
     "name": "stderr",
     "output_type": "stream",
     "text": [
      "[I 2024-02-26 23:52:17,047] Trial 12 finished with value: 0.6442777777777777 and parameters: {'num_trees': 6, 'learning_rate': 1.1479194931430765e-05}. Best is trial 10 with value: 0.5960555555555556.\n"
     ]
    },
    {
     "name": "stdout",
     "output_type": "stream",
     "text": [
      "0:\tlearn: 2.3025471\ttest: 2.3025474\tbest: 2.3025474 (0)\ttotal: 60.2ms\tremaining: 0us\n",
      "\n",
      "bestTest = 2.302547401\n",
      "bestIteration = 0\n",
      "\n"
     ]
    },
    {
     "name": "stderr",
     "output_type": "stream",
     "text": [
      "[I 2024-02-26 23:52:18,197] Trial 13 finished with value: 0.5960555555555556 and parameters: {'num_trees': 1, 'learning_rate': 1.0186664337852359e-05}. Best is trial 10 with value: 0.5960555555555556.\n"
     ]
    },
    {
     "name": "stdout",
     "output_type": "stream",
     "text": [
      "0:\tlearn: 2.3023545\ttest: 2.3023564\tbest: 2.3023564 (0)\ttotal: 60.1ms\tremaining: 1.2s\n",
      "1:\tlearn: 2.3021375\ttest: 2.3021400\tbest: 2.3021400 (1)\ttotal: 124ms\tremaining: 1.18s\n",
      "2:\tlearn: 2.3019144\ttest: 2.3019179\tbest: 2.3019179 (2)\ttotal: 196ms\tremaining: 1.17s\n",
      "3:\tlearn: 2.3016764\ttest: 2.3016820\tbest: 2.3016820 (3)\ttotal: 254ms\tremaining: 1.08s\n",
      "4:\tlearn: 2.3014441\ttest: 2.3014506\tbest: 2.3014506 (4)\ttotal: 326ms\tremaining: 1.04s\n",
      "5:\tlearn: 2.3012105\ttest: 2.3012184\tbest: 2.3012184 (5)\ttotal: 393ms\tremaining: 982ms\n",
      "6:\tlearn: 2.3009841\ttest: 2.3009935\tbest: 2.3009935 (6)\ttotal: 449ms\tremaining: 898ms\n",
      "7:\tlearn: 2.3007583\ttest: 2.3007679\tbest: 2.3007679 (7)\ttotal: 502ms\tremaining: 815ms\n",
      "8:\tlearn: 2.3005185\ttest: 2.3005296\tbest: 2.3005296 (8)\ttotal: 608ms\tremaining: 811ms\n",
      "9:\tlearn: 2.3002923\ttest: 2.3003043\tbest: 2.3003043 (9)\ttotal: 674ms\tremaining: 741ms\n",
      "10:\tlearn: 2.3000617\ttest: 2.3000753\tbest: 2.3000753 (10)\ttotal: 730ms\tremaining: 663ms\n",
      "11:\tlearn: 2.2998368\ttest: 2.2998508\tbest: 2.2998508 (11)\ttotal: 813ms\tremaining: 610ms\n",
      "12:\tlearn: 2.2996166\ttest: 2.2996309\tbest: 2.2996309 (12)\ttotal: 916ms\tremaining: 563ms\n",
      "13:\tlearn: 2.2993986\ttest: 2.2994135\tbest: 2.2994135 (13)\ttotal: 980ms\tremaining: 490ms\n",
      "14:\tlearn: 2.2991675\ttest: 2.2991831\tbest: 2.2991831 (14)\ttotal: 1.04s\tremaining: 415ms\n",
      "15:\tlearn: 2.2989449\ttest: 2.2989615\tbest: 2.2989615 (15)\ttotal: 1.11s\tremaining: 348ms\n",
      "16:\tlearn: 2.2987098\ttest: 2.2987280\tbest: 2.2987280 (16)\ttotal: 1.17s\tremaining: 276ms\n",
      "17:\tlearn: 2.2984882\ttest: 2.2985058\tbest: 2.2985058 (17)\ttotal: 1.23s\tremaining: 205ms\n",
      "18:\tlearn: 2.2982714\ttest: 2.2982897\tbest: 2.2982897 (18)\ttotal: 1.28s\tremaining: 135ms\n",
      "19:\tlearn: 2.2980497\ttest: 2.2980682\tbest: 2.2980682 (19)\ttotal: 1.43s\tremaining: 71.7ms\n",
      "20:\tlearn: 2.2978255\ttest: 2.2978454\tbest: 2.2978454 (20)\ttotal: 1.5s\tremaining: 0us\n",
      "\n",
      "bestTest = 2.297845377\n",
      "bestIteration = 20\n",
      "\n"
     ]
    },
    {
     "name": "stderr",
     "output_type": "stream",
     "text": [
      "[I 2024-02-26 23:52:20,716] Trial 14 finished with value: 0.6495555555555556 and parameters: {'num_trees': 21, 'learning_rate': 6.181569085894685e-05}. Best is trial 10 with value: 0.5960555555555556.\n"
     ]
    },
    {
     "name": "stdout",
     "output_type": "stream",
     "text": [
      "0:\tlearn: 2.3020972\ttest: 2.3021012\tbest: 2.3021012 (0)\ttotal: 90.4ms\tremaining: 5.42s\n",
      "1:\tlearn: 2.3016383\ttest: 2.3016435\tbest: 2.3016435 (1)\ttotal: 195ms\tremaining: 5.74s\n",
      "2:\tlearn: 2.3011665\ttest: 2.3011739\tbest: 2.3011739 (2)\ttotal: 275ms\tremaining: 5.31s\n",
      "3:\tlearn: 2.3006636\ttest: 2.3006755\tbest: 2.3006755 (3)\ttotal: 352ms\tremaining: 5.02s\n",
      "4:\tlearn: 2.3001729\ttest: 2.3001866\tbest: 2.3001866 (4)\ttotal: 418ms\tremaining: 4.68s\n",
      "5:\tlearn: 2.2996796\ttest: 2.2996963\tbest: 2.2996963 (5)\ttotal: 473ms\tremaining: 4.33s\n",
      "6:\tlearn: 2.2992018\ttest: 2.2992218\tbest: 2.2992218 (6)\ttotal: 527ms\tremaining: 4.07s\n",
      "7:\tlearn: 2.2987254\ttest: 2.2987457\tbest: 2.2987457 (7)\ttotal: 583ms\tremaining: 3.86s\n",
      "8:\tlearn: 2.2982197\ttest: 2.2982431\tbest: 2.2982431 (8)\ttotal: 638ms\tremaining: 3.69s\n",
      "9:\tlearn: 2.2977428\ttest: 2.2977682\tbest: 2.2977682 (9)\ttotal: 691ms\tremaining: 3.52s\n",
      "10:\tlearn: 2.2972570\ttest: 2.2972858\tbest: 2.2972858 (10)\ttotal: 748ms\tremaining: 3.4s\n",
      "11:\tlearn: 2.2967833\ttest: 2.2968128\tbest: 2.2968128 (11)\ttotal: 853ms\tremaining: 3.48s\n",
      "12:\tlearn: 2.2963194\ttest: 2.2963498\tbest: 2.2963498 (12)\ttotal: 916ms\tremaining: 3.38s\n",
      "13:\tlearn: 2.2958606\ttest: 2.2958922\tbest: 2.2958922 (13)\ttotal: 1.01s\tremaining: 3.41s\n",
      "14:\tlearn: 2.2953743\ttest: 2.2954073\tbest: 2.2954073 (14)\ttotal: 1.1s\tremaining: 3.37s\n",
      "15:\tlearn: 2.2949062\ttest: 2.2949414\tbest: 2.2949414 (15)\ttotal: 1.17s\tremaining: 3.28s\n",
      "16:\tlearn: 2.2944119\ttest: 2.2944505\tbest: 2.2944505 (16)\ttotal: 1.23s\tremaining: 3.18s\n",
      "17:\tlearn: 2.2939462\ttest: 2.2939835\tbest: 2.2939835 (17)\ttotal: 1.29s\tremaining: 3.09s\n",
      "18:\tlearn: 2.2934908\ttest: 2.2935295\tbest: 2.2935295 (18)\ttotal: 1.35s\tremaining: 2.99s\n",
      "19:\tlearn: 2.2930253\ttest: 2.2930645\tbest: 2.2930645 (19)\ttotal: 1.44s\tremaining: 2.95s\n",
      "20:\tlearn: 2.2925548\ttest: 2.2925968\tbest: 2.2925968 (20)\ttotal: 1.51s\tremaining: 2.87s\n",
      "21:\tlearn: 2.2920712\ttest: 2.2921133\tbest: 2.2921133 (21)\ttotal: 1.57s\tremaining: 2.79s\n",
      "22:\tlearn: 2.2916058\ttest: 2.2916486\tbest: 2.2916486 (22)\ttotal: 1.65s\tremaining: 2.73s\n",
      "23:\tlearn: 2.2911378\ttest: 2.2911828\tbest: 2.2911828 (23)\ttotal: 1.71s\tremaining: 2.63s\n",
      "24:\tlearn: 2.2906498\ttest: 2.2906995\tbest: 2.2906995 (24)\ttotal: 1.77s\tremaining: 2.55s\n",
      "25:\tlearn: 2.2901855\ttest: 2.2902365\tbest: 2.2902365 (25)\ttotal: 1.85s\tremaining: 2.48s\n",
      "26:\tlearn: 2.2897010\ttest: 2.2897549\tbest: 2.2897549 (26)\ttotal: 1.92s\tremaining: 2.41s\n",
      "27:\tlearn: 2.2892366\ttest: 2.2892932\tbest: 2.2892932 (27)\ttotal: 2.06s\tremaining: 2.43s\n",
      "28:\tlearn: 2.2887726\ttest: 2.2888310\tbest: 2.2888310 (28)\ttotal: 2.12s\tremaining: 2.34s\n",
      "29:\tlearn: 2.2883354\ttest: 2.2883963\tbest: 2.2883963 (29)\ttotal: 2.19s\tremaining: 2.27s\n",
      "30:\tlearn: 2.2878902\ttest: 2.2879539\tbest: 2.2879539 (30)\ttotal: 2.27s\tremaining: 2.2s\n",
      "31:\tlearn: 2.2874131\ttest: 2.2874801\tbest: 2.2874801 (31)\ttotal: 2.33s\tremaining: 2.11s\n",
      "32:\tlearn: 2.2869415\ttest: 2.2870107\tbest: 2.2870107 (32)\ttotal: 2.38s\tremaining: 2.02s\n",
      "33:\tlearn: 2.2864957\ttest: 2.2865646\tbest: 2.2865646 (33)\ttotal: 2.44s\tremaining: 1.94s\n",
      "34:\tlearn: 2.2860319\ttest: 2.2861064\tbest: 2.2861064 (34)\ttotal: 2.5s\tremaining: 1.85s\n",
      "35:\tlearn: 2.2855481\ttest: 2.2856262\tbest: 2.2856262 (35)\ttotal: 2.57s\tremaining: 1.78s\n",
      "36:\tlearn: 2.2850849\ttest: 2.2851653\tbest: 2.2851653 (36)\ttotal: 2.64s\tremaining: 1.71s\n",
      "37:\tlearn: 2.2846119\ttest: 2.2846943\tbest: 2.2846943 (37)\ttotal: 2.71s\tremaining: 1.64s\n",
      "38:\tlearn: 2.2841530\ttest: 2.2842358\tbest: 2.2842358 (38)\ttotal: 2.77s\tremaining: 1.56s\n",
      "39:\tlearn: 2.2837032\ttest: 2.2837879\tbest: 2.2837879 (39)\ttotal: 2.84s\tremaining: 1.49s\n",
      "40:\tlearn: 2.2832431\ttest: 2.2833289\tbest: 2.2833289 (40)\ttotal: 2.9s\tremaining: 1.42s\n",
      "41:\tlearn: 2.2827860\ttest: 2.2828764\tbest: 2.2828764 (41)\ttotal: 3s\tremaining: 1.35s\n",
      "42:\tlearn: 2.2823129\ttest: 2.2824065\tbest: 2.2824065 (42)\ttotal: 3.06s\tremaining: 1.28s\n",
      "43:\tlearn: 2.2818524\ttest: 2.2819482\tbest: 2.2819482 (43)\ttotal: 3.11s\tremaining: 1.2s\n",
      "44:\tlearn: 2.2813971\ttest: 2.2814957\tbest: 2.2814957 (44)\ttotal: 3.17s\tremaining: 1.13s\n",
      "45:\tlearn: 2.2809482\ttest: 2.2810500\tbest: 2.2810500 (45)\ttotal: 3.23s\tremaining: 1.05s\n",
      "46:\tlearn: 2.2804689\ttest: 2.2805726\tbest: 2.2805726 (46)\ttotal: 3.31s\tremaining: 987ms\n",
      "47:\tlearn: 2.2799894\ttest: 2.2800956\tbest: 2.2800956 (47)\ttotal: 3.37s\tremaining: 913ms\n",
      "48:\tlearn: 2.2795315\ttest: 2.2796399\tbest: 2.2796399 (48)\ttotal: 3.46s\tremaining: 847ms\n",
      "49:\tlearn: 2.2790814\ttest: 2.2791918\tbest: 2.2791918 (49)\ttotal: 3.52s\tremaining: 774ms\n",
      "50:\tlearn: 2.2786235\ttest: 2.2787363\tbest: 2.2787363 (50)\ttotal: 3.58s\tremaining: 702ms\n",
      "51:\tlearn: 2.2781572\ttest: 2.2782706\tbest: 2.2782706 (51)\ttotal: 3.63s\tremaining: 629ms\n",
      "52:\tlearn: 2.2776853\ttest: 2.2778007\tbest: 2.2778007 (52)\ttotal: 3.71s\tremaining: 560ms\n",
      "53:\tlearn: 2.2772294\ttest: 2.2773457\tbest: 2.2773457 (53)\ttotal: 3.79s\tremaining: 492ms\n",
      "54:\tlearn: 2.2767645\ttest: 2.2768839\tbest: 2.2768839 (54)\ttotal: 3.87s\tremaining: 423ms\n",
      "55:\tlearn: 2.2763089\ttest: 2.2764304\tbest: 2.2764304 (55)\ttotal: 3.95s\tremaining: 353ms\n",
      "56:\tlearn: 2.2758576\ttest: 2.2759814\tbest: 2.2759814 (56)\ttotal: 4.03s\tremaining: 283ms\n",
      "57:\tlearn: 2.2753834\ttest: 2.2755110\tbest: 2.2755110 (57)\ttotal: 4.1s\tremaining: 212ms\n",
      "58:\tlearn: 2.2749290\ttest: 2.2750589\tbest: 2.2750589 (58)\ttotal: 4.16s\tremaining: 141ms\n",
      "59:\tlearn: 2.2744704\ttest: 2.2746019\tbest: 2.2746019 (59)\ttotal: 4.23s\tremaining: 70.4ms\n",
      "60:\tlearn: 2.2740192\ttest: 2.2741547\tbest: 2.2741547 (60)\ttotal: 4.29s\tremaining: 0us\n",
      "\n",
      "bestTest = 2.274154672\n",
      "bestIteration = 60\n",
      "\n"
     ]
    },
    {
     "name": "stderr",
     "output_type": "stream",
     "text": [
      "[I 2024-02-26 23:52:26,045] Trial 15 finished with value: 0.6528888888888889 and parameters: {'num_trees': 61, 'learning_rate': 0.00013079582022687441}. Best is trial 10 with value: 0.5960555555555556.\n"
     ]
    },
    {
     "name": "stdout",
     "output_type": "stream",
     "text": [
      "0:\tlearn: 2.3024865\ttest: 2.3024873\tbest: 2.3024873 (0)\ttotal: 92.2ms\tremaining: 1.38s\n",
      "1:\tlearn: 2.3023938\ttest: 2.3023948\tbest: 2.3023948 (1)\ttotal: 193ms\tremaining: 1.35s\n",
      "2:\tlearn: 2.3022984\ttest: 2.3022999\tbest: 2.3022999 (2)\ttotal: 283ms\tremaining: 1.23s\n",
      "3:\tlearn: 2.3021966\ttest: 2.3021990\tbest: 2.3021990 (3)\ttotal: 363ms\tremaining: 1.09s\n",
      "4:\tlearn: 2.3020972\ttest: 2.3021000\tbest: 2.3021000 (4)\ttotal: 426ms\tremaining: 937ms\n",
      "5:\tlearn: 2.3019973\ttest: 2.3020007\tbest: 2.3020007 (5)\ttotal: 483ms\tremaining: 805ms\n",
      "6:\tlearn: 2.3019004\ttest: 2.3019045\tbest: 2.3019045 (6)\ttotal: 541ms\tremaining: 695ms\n",
      "7:\tlearn: 2.3018038\ttest: 2.3018079\tbest: 2.3018079 (7)\ttotal: 668ms\tremaining: 668ms\n",
      "8:\tlearn: 2.3017011\ttest: 2.3017059\tbest: 2.3017059 (8)\ttotal: 723ms\tremaining: 562ms\n",
      "9:\tlearn: 2.3016043\ttest: 2.3016094\tbest: 2.3016094 (9)\ttotal: 783ms\tremaining: 470ms\n",
      "10:\tlearn: 2.3015055\ttest: 2.3015113\tbest: 2.3015113 (10)\ttotal: 843ms\tremaining: 383ms\n",
      "11:\tlearn: 2.3014092\ttest: 2.3014152\tbest: 2.3014152 (11)\ttotal: 937ms\tremaining: 312ms\n",
      "12:\tlearn: 2.3013148\ttest: 2.3013210\tbest: 2.3013210 (12)\ttotal: 1.03s\tremaining: 237ms\n",
      "13:\tlearn: 2.3012214\ttest: 2.3012278\tbest: 2.3012278 (13)\ttotal: 1.12s\tremaining: 160ms\n",
      "14:\tlearn: 2.3011224\ttest: 2.3011290\tbest: 2.3011290 (14)\ttotal: 1.19s\tremaining: 79.6ms\n",
      "15:\tlearn: 2.3010269\ttest: 2.3010340\tbest: 2.3010340 (15)\ttotal: 1.27s\tremaining: 0us\n",
      "\n",
      "bestTest = 2.301034032\n",
      "bestIteration = 15\n",
      "\n"
     ]
    },
    {
     "name": "stderr",
     "output_type": "stream",
     "text": [
      "[I 2024-02-26 23:52:28,340] Trial 16 finished with value: 0.6478888888888888 and parameters: {'num_trees': 16, 'learning_rate': 2.6418248503985778e-05}. Best is trial 10 with value: 0.5960555555555556.\n"
     ]
    },
    {
     "name": "stdout",
     "output_type": "stream",
     "text": [
      "0:\tlearn: 2.3017732\ttest: 2.3017797\tbest: 2.3017797 (0)\ttotal: 50.5ms\tremaining: 0us\n",
      "\n",
      "bestTest = 2.301779726\n",
      "bestIteration = 0\n",
      "\n"
     ]
    },
    {
     "name": "stderr",
     "output_type": "stream",
     "text": [
      "[I 2024-02-26 23:52:29,399] Trial 17 finished with value: 0.5960555555555556 and parameters: {'num_trees': 1, 'learning_rate': 0.00021768075763442952}. Best is trial 10 with value: 0.5960555555555556.\n"
     ]
    },
    {
     "name": "stdout",
     "output_type": "stream",
     "text": [
      "0:\tlearn: 2.2936801\ttest: 2.2937519\tbest: 2.2937519 (0)\ttotal: 71.7ms\tremaining: 2.15s\n",
      "1:\tlearn: 2.2854125\ttest: 2.2855083\tbest: 2.2855083 (1)\ttotal: 136ms\tremaining: 1.97s\n",
      "2:\tlearn: 2.2770209\ttest: 2.2771561\tbest: 2.2771561 (2)\ttotal: 244ms\tremaining: 2.28s\n",
      "3:\tlearn: 2.2681815\ttest: 2.2683969\tbest: 2.2683969 (3)\ttotal: 323ms\tremaining: 2.18s\n",
      "4:\tlearn: 2.2596865\ttest: 2.2599351\tbest: 2.2599351 (4)\ttotal: 399ms\tremaining: 2.08s\n",
      "5:\tlearn: 2.2512585\ttest: 2.2515596\tbest: 2.2515596 (5)\ttotal: 465ms\tremaining: 1.94s\n",
      "6:\tlearn: 2.2431849\ttest: 2.2435448\tbest: 2.2435448 (6)\ttotal: 529ms\tremaining: 1.81s\n",
      "7:\tlearn: 2.2355444\ttest: 2.2359176\tbest: 2.2359176 (7)\ttotal: 593ms\tremaining: 1.7s\n",
      "8:\tlearn: 2.2271760\ttest: 2.2276024\tbest: 2.2276024 (8)\ttotal: 657ms\tremaining: 1.6s\n",
      "9:\tlearn: 2.2194034\ttest: 2.2198646\tbest: 2.2198646 (9)\ttotal: 719ms\tremaining: 1.51s\n",
      "10:\tlearn: 2.2116204\ttest: 2.2121406\tbest: 2.2121406 (10)\ttotal: 807ms\tremaining: 1.47s\n",
      "11:\tlearn: 2.2040901\ttest: 2.2046215\tbest: 2.2046215 (11)\ttotal: 876ms\tremaining: 1.39s\n",
      "12:\tlearn: 2.1967329\ttest: 2.1972834\tbest: 2.1972834 (12)\ttotal: 957ms\tremaining: 1.32s\n",
      "13:\tlearn: 2.1895824\ttest: 2.1901555\tbest: 2.1901555 (13)\ttotal: 1.02s\tremaining: 1.23s\n",
      "14:\tlearn: 2.1820529\ttest: 2.1826532\tbest: 2.1826532 (14)\ttotal: 1.08s\tremaining: 1.15s\n",
      "15:\tlearn: 2.1749419\ttest: 2.1755807\tbest: 2.1755807 (15)\ttotal: 1.13s\tremaining: 1.06s\n",
      "16:\tlearn: 2.1673503\ttest: 2.1680158\tbest: 2.1680158 (16)\ttotal: 1.19s\tremaining: 977ms\n",
      "17:\tlearn: 2.1603438\ttest: 2.1609917\tbest: 2.1609917 (17)\ttotal: 1.24s\tremaining: 896ms\n",
      "18:\tlearn: 2.1534506\ttest: 2.1541605\tbest: 2.1541605 (18)\ttotal: 1.29s\tremaining: 816ms\n",
      "19:\tlearn: 2.1466773\ttest: 2.1474002\tbest: 2.1474002 (19)\ttotal: 1.34s\tremaining: 739ms\n",
      "20:\tlearn: 2.1398717\ttest: 2.1406418\tbest: 2.1406418 (20)\ttotal: 1.39s\tremaining: 664ms\n",
      "21:\tlearn: 2.1331620\ttest: 2.1339629\tbest: 2.1339629 (21)\ttotal: 1.45s\tremaining: 595ms\n",
      "22:\tlearn: 2.1265532\ttest: 2.1273676\tbest: 2.1273676 (22)\ttotal: 1.51s\tremaining: 525ms\n",
      "23:\tlearn: 2.1198144\ttest: 2.1206665\tbest: 2.1206665 (23)\ttotal: 1.56s\tremaining: 455ms\n",
      "24:\tlearn: 2.1130083\ttest: 2.1139318\tbest: 2.1139318 (24)\ttotal: 1.61s\tremaining: 387ms\n",
      "25:\tlearn: 2.1067771\ttest: 2.1077310\tbest: 2.1077310 (25)\ttotal: 1.67s\tremaining: 320ms\n",
      "26:\tlearn: 2.1001501\ttest: 2.1011493\tbest: 2.1011493 (26)\ttotal: 1.72s\tremaining: 255ms\n",
      "27:\tlearn: 2.0938484\ttest: 2.0948925\tbest: 2.0948925 (27)\ttotal: 1.77s\tremaining: 190ms\n",
      "28:\tlearn: 2.0875985\ttest: 2.0886386\tbest: 2.0886386 (28)\ttotal: 1.82s\tremaining: 126ms\n",
      "29:\tlearn: 2.0818244\ttest: 2.0829040\tbest: 2.0829040 (29)\ttotal: 1.87s\tremaining: 62.4ms\n",
      "30:\tlearn: 2.0760570\ttest: 2.0771777\tbest: 2.0771777 (30)\ttotal: 1.92s\tremaining: 0us\n",
      "\n",
      "bestTest = 2.077177659\n",
      "bestIteration = 30\n",
      "\n"
     ]
    },
    {
     "name": "stderr",
     "output_type": "stream",
     "text": [
      "[I 2024-02-26 23:52:32,406] Trial 18 finished with value: 0.6598888888888889 and parameters: {'num_trees': 31, 'learning_rate': 0.0023900714763212603}. Best is trial 10 with value: 0.5960555555555556.\n"
     ]
    },
    {
     "name": "stdout",
     "output_type": "stream",
     "text": [
      "0:\tlearn: 2.3024675\ttest: 2.3024684\tbest: 2.3024684 (0)\ttotal: 74.7ms\tremaining: 4.11s\n",
      "1:\tlearn: 2.3023568\ttest: 2.3023581\tbest: 2.3023581 (1)\ttotal: 153ms\tremaining: 4.12s\n",
      "2:\tlearn: 2.3022430\ttest: 2.3022448\tbest: 2.3022448 (2)\ttotal: 236ms\tremaining: 4.17s\n",
      "3:\tlearn: 2.3021216\ttest: 2.3021244\tbest: 2.3021244 (3)\ttotal: 341ms\tremaining: 4.44s\n",
      "4:\tlearn: 2.3020030\ttest: 2.3020063\tbest: 2.3020063 (4)\ttotal: 439ms\tremaining: 4.48s\n",
      "5:\tlearn: 2.3018838\ttest: 2.3018878\tbest: 2.3018878 (5)\ttotal: 564ms\tremaining: 4.7s\n",
      "6:\tlearn: 2.3017682\ttest: 2.3017730\tbest: 2.3017730 (6)\ttotal: 641ms\tremaining: 4.48s\n",
      "7:\tlearn: 2.3016529\ttest: 2.3016578\tbest: 2.3016578 (7)\ttotal: 752ms\tremaining: 4.51s\n",
      "8:\tlearn: 2.3015304\ttest: 2.3015361\tbest: 2.3015361 (8)\ttotal: 883ms\tremaining: 4.61s\n",
      "9:\tlearn: 2.3014149\ttest: 2.3014210\tbest: 2.3014210 (9)\ttotal: 971ms\tremaining: 4.47s\n",
      "10:\tlearn: 2.3012971\ttest: 2.3013040\tbest: 2.3013040 (10)\ttotal: 1.08s\tremaining: 4.42s\n",
      "11:\tlearn: 2.3011821\ttest: 2.3011893\tbest: 2.3011893 (11)\ttotal: 1.19s\tremaining: 4.38s\n",
      "12:\tlearn: 2.3010696\ttest: 2.3010769\tbest: 2.3010769 (12)\ttotal: 1.3s\tremaining: 4.3s\n",
      "13:\tlearn: 2.3009582\ttest: 2.3009658\tbest: 2.3009658 (13)\ttotal: 1.39s\tremaining: 4.18s\n",
      "14:\tlearn: 2.3008400\ttest: 2.3008480\tbest: 2.3008480 (14)\ttotal: 1.47s\tremaining: 4.03s\n",
      "15:\tlearn: 2.3007262\ttest: 2.3007347\tbest: 2.3007347 (15)\ttotal: 1.56s\tremaining: 3.91s\n",
      "16:\tlearn: 2.3006060\ttest: 2.3006153\tbest: 2.3006153 (16)\ttotal: 1.63s\tremaining: 3.74s\n",
      "17:\tlearn: 2.3004926\ttest: 2.3005016\tbest: 2.3005016 (17)\ttotal: 1.69s\tremaining: 3.58s\n",
      "18:\tlearn: 2.3003817\ttest: 2.3003910\tbest: 2.3003910 (18)\ttotal: 1.75s\tremaining: 3.41s\n",
      "19:\tlearn: 2.3002682\ttest: 2.3002777\tbest: 2.3002777 (19)\ttotal: 1.81s\tremaining: 3.26s\n",
      "20:\tlearn: 2.3001535\ttest: 2.3001636\tbest: 2.3001636 (20)\ttotal: 1.87s\tremaining: 3.11s\n",
      "21:\tlearn: 2.3000356\ttest: 2.3000457\tbest: 2.3000457 (21)\ttotal: 1.93s\tremaining: 2.98s\n",
      "22:\tlearn: 2.2999220\ttest: 2.2999323\tbest: 2.2999323 (22)\ttotal: 1.99s\tremaining: 2.85s\n",
      "23:\tlearn: 2.2998076\ttest: 2.2998184\tbest: 2.2998184 (23)\ttotal: 2.04s\tremaining: 2.72s\n",
      "24:\tlearn: 2.2996884\ttest: 2.2997004\tbest: 2.2997004 (24)\ttotal: 2.1s\tremaining: 2.61s\n",
      "25:\tlearn: 2.2995748\ttest: 2.2995871\tbest: 2.2995871 (25)\ttotal: 2.17s\tremaining: 2.5s\n",
      "26:\tlearn: 2.2994563\ttest: 2.2994693\tbest: 2.2994693 (26)\ttotal: 2.25s\tremaining: 2.42s\n",
      "27:\tlearn: 2.2993426\ttest: 2.2993563\tbest: 2.2993563 (27)\ttotal: 2.33s\tremaining: 2.33s\n",
      "28:\tlearn: 2.2992290\ttest: 2.2992430\tbest: 2.2992430 (28)\ttotal: 2.42s\tremaining: 2.25s\n",
      "29:\tlearn: 2.2991218\ttest: 2.2991365\tbest: 2.2991365 (29)\ttotal: 2.51s\tremaining: 2.17s\n",
      "30:\tlearn: 2.2990125\ttest: 2.2990279\tbest: 2.2990279 (30)\ttotal: 2.6s\tremaining: 2.09s\n",
      "31:\tlearn: 2.2988987\ttest: 2.2989144\tbest: 2.2989144 (31)\ttotal: 2.69s\tremaining: 2.01s\n",
      "32:\tlearn: 2.2987829\ttest: 2.2987991\tbest: 2.2987991 (32)\ttotal: 2.79s\tremaining: 1.94s\n",
      "33:\tlearn: 2.2986734\ttest: 2.2986896\tbest: 2.2986896 (33)\ttotal: 2.87s\tremaining: 1.86s\n",
      "34:\tlearn: 2.2985594\ttest: 2.2985770\tbest: 2.2985770 (34)\ttotal: 2.94s\tremaining: 1.76s\n",
      "35:\tlearn: 2.2984405\ttest: 2.2984589\tbest: 2.2984589 (35)\ttotal: 3s\tremaining: 1.67s\n",
      "36:\tlearn: 2.2983266\ttest: 2.2983455\tbest: 2.2983455 (36)\ttotal: 3.06s\tremaining: 1.57s\n",
      "37:\tlearn: 2.2982101\ttest: 2.2982296\tbest: 2.2982296 (37)\ttotal: 3.12s\tremaining: 1.48s\n",
      "38:\tlearn: 2.2980971\ttest: 2.2981166\tbest: 2.2981166 (38)\ttotal: 3.18s\tremaining: 1.39s\n",
      "39:\tlearn: 2.2979862\ttest: 2.2980062\tbest: 2.2980062 (39)\ttotal: 3.23s\tremaining: 1.29s\n",
      "40:\tlearn: 2.2978727\ttest: 2.2978930\tbest: 2.2978930 (40)\ttotal: 3.29s\tremaining: 1.2s\n",
      "41:\tlearn: 2.2977599\ttest: 2.2977813\tbest: 2.2977813 (41)\ttotal: 3.35s\tremaining: 1.11s\n",
      "42:\tlearn: 2.2976431\ttest: 2.2976652\tbest: 2.2976652 (42)\ttotal: 3.4s\tremaining: 1.03s\n",
      "43:\tlearn: 2.2975293\ttest: 2.2975520\tbest: 2.2975520 (43)\ttotal: 3.46s\tremaining: 944ms\n",
      "44:\tlearn: 2.2974168\ttest: 2.2974401\tbest: 2.2974401 (44)\ttotal: 3.52s\tremaining: 860ms\n",
      "45:\tlearn: 2.2973057\ttest: 2.2973298\tbest: 2.2973298 (45)\ttotal: 3.58s\tremaining: 777ms\n",
      "46:\tlearn: 2.2971872\ttest: 2.2972118\tbest: 2.2972118 (46)\ttotal: 3.63s\tremaining: 696ms\n",
      "47:\tlearn: 2.2970685\ttest: 2.2970938\tbest: 2.2970938 (47)\ttotal: 3.69s\tremaining: 615ms\n",
      "48:\tlearn: 2.2969551\ttest: 2.2969808\tbest: 2.2969808 (48)\ttotal: 3.75s\tremaining: 535ms\n",
      "49:\tlearn: 2.2968435\ttest: 2.2968698\tbest: 2.2968698 (49)\ttotal: 3.8s\tremaining: 457ms\n",
      "50:\tlearn: 2.2967299\ttest: 2.2967567\tbest: 2.2967567 (50)\ttotal: 3.86s\tremaining: 379ms\n",
      "51:\tlearn: 2.2966142\ttest: 2.2966411\tbest: 2.2966411 (51)\ttotal: 3.92s\tremaining: 301ms\n",
      "52:\tlearn: 2.2964971\ttest: 2.2965245\tbest: 2.2965245 (52)\ttotal: 3.98s\tremaining: 225ms\n",
      "53:\tlearn: 2.2963838\ttest: 2.2964114\tbest: 2.2964114 (53)\ttotal: 4.03s\tremaining: 149ms\n",
      "54:\tlearn: 2.2962683\ttest: 2.2962967\tbest: 2.2962967 (54)\ttotal: 4.09s\tremaining: 74.4ms\n",
      "55:\tlearn: 2.2961549\ttest: 2.2961838\tbest: 2.2961838 (55)\ttotal: 4.15s\tremaining: 0us\n",
      "\n",
      "bestTest = 2.296183775\n",
      "bestIteration = 55\n",
      "\n"
     ]
    },
    {
     "name": "stderr",
     "output_type": "stream",
     "text": [
      "[I 2024-02-26 23:52:37,633] Trial 19 finished with value: 0.6518333333333334 and parameters: {'num_trees': 56, 'learning_rate': 3.1524370215396295e-05}. Best is trial 10 with value: 0.5960555555555556.\n"
     ]
    },
    {
     "name": "stdout",
     "output_type": "stream",
     "text": [
      "0:\tlearn: 2.3023337\ttest: 2.3023357\tbest: 2.3023357 (0)\ttotal: 51.8ms\tremaining: 2.07s\n",
      "1:\tlearn: 2.3020970\ttest: 2.3020997\tbest: 2.3020997 (1)\ttotal: 108ms\tremaining: 2.11s\n",
      "2:\tlearn: 2.3018537\ttest: 2.3018576\tbest: 2.3018576 (2)\ttotal: 164ms\tremaining: 2.08s\n",
      "3:\tlearn: 2.3015943\ttest: 2.3016004\tbest: 2.3016004 (3)\ttotal: 221ms\tremaining: 2.04s\n",
      "4:\tlearn: 2.3013410\ttest: 2.3013481\tbest: 2.3013481 (4)\ttotal: 278ms\tremaining: 2s\n",
      "5:\tlearn: 2.3010863\ttest: 2.3010949\tbest: 2.3010949 (5)\ttotal: 336ms\tremaining: 1.96s\n",
      "6:\tlearn: 2.3008395\ttest: 2.3008498\tbest: 2.3008498 (6)\ttotal: 391ms\tremaining: 1.9s\n",
      "7:\tlearn: 2.3005933\ttest: 2.3006038\tbest: 2.3006038 (7)\ttotal: 446ms\tremaining: 1.84s\n",
      "8:\tlearn: 2.3003319\ttest: 2.3003440\tbest: 2.3003440 (8)\ttotal: 504ms\tremaining: 1.79s\n",
      "9:\tlearn: 2.3000854\ttest: 2.3000984\tbest: 2.3000984 (9)\ttotal: 561ms\tremaining: 1.74s\n",
      "10:\tlearn: 2.2998340\ttest: 2.2998489\tbest: 2.2998489 (10)\ttotal: 617ms\tremaining: 1.68s\n",
      "11:\tlearn: 2.2995889\ttest: 2.2996041\tbest: 2.2996041 (11)\ttotal: 671ms\tremaining: 1.62s\n",
      "12:\tlearn: 2.2993488\ttest: 2.2993645\tbest: 2.2993645 (12)\ttotal: 729ms\tremaining: 1.57s\n",
      "13:\tlearn: 2.2991112\ttest: 2.2991275\tbest: 2.2991275 (13)\ttotal: 785ms\tremaining: 1.51s\n",
      "14:\tlearn: 2.2988593\ttest: 2.2988763\tbest: 2.2988763 (14)\ttotal: 841ms\tremaining: 1.46s\n",
      "15:\tlearn: 2.2986167\ttest: 2.2986348\tbest: 2.2986348 (15)\ttotal: 897ms\tremaining: 1.4s\n",
      "16:\tlearn: 2.2983605\ttest: 2.2983804\tbest: 2.2983804 (16)\ttotal: 953ms\tremaining: 1.34s\n",
      "17:\tlearn: 2.2981190\ttest: 2.2981382\tbest: 2.2981382 (17)\ttotal: 1.01s\tremaining: 1.29s\n",
      "18:\tlearn: 2.2978828\ttest: 2.2979027\tbest: 2.2979027 (18)\ttotal: 1.06s\tremaining: 1.23s\n",
      "19:\tlearn: 2.2976411\ttest: 2.2976613\tbest: 2.2976613 (19)\ttotal: 1.12s\tremaining: 1.18s\n",
      "20:\tlearn: 2.2973968\ttest: 2.2974185\tbest: 2.2974185 (20)\ttotal: 1.18s\tremaining: 1.12s\n",
      "21:\tlearn: 2.2971457\ttest: 2.2971674\tbest: 2.2971674 (21)\ttotal: 1.23s\tremaining: 1.06s\n",
      "22:\tlearn: 2.2969039\ttest: 2.2969259\tbest: 2.2969259 (22)\ttotal: 1.29s\tremaining: 1.01s\n",
      "23:\tlearn: 2.2966606\ttest: 2.2966838\tbest: 2.2966838 (23)\ttotal: 1.35s\tremaining: 955ms\n",
      "24:\tlearn: 2.2964070\ttest: 2.2964326\tbest: 2.2964326 (24)\ttotal: 1.4s\tremaining: 899ms\n",
      "25:\tlearn: 2.2961654\ttest: 2.2961917\tbest: 2.2961917 (25)\ttotal: 1.46s\tremaining: 842ms\n",
      "26:\tlearn: 2.2959134\ttest: 2.2959411\tbest: 2.2959411 (26)\ttotal: 1.51s\tremaining: 786ms\n",
      "27:\tlearn: 2.2956716\ttest: 2.2957008\tbest: 2.2957008 (27)\ttotal: 1.57s\tremaining: 729ms\n",
      "28:\tlearn: 2.2954301\ttest: 2.2954602\tbest: 2.2954602 (28)\ttotal: 1.63s\tremaining: 675ms\n",
      "29:\tlearn: 2.2952023\ttest: 2.2952337\tbest: 2.2952337 (29)\ttotal: 1.69s\tremaining: 621ms\n",
      "30:\tlearn: 2.2949702\ttest: 2.2950030\tbest: 2.2950030 (30)\ttotal: 1.81s\tremaining: 584ms\n",
      "31:\tlearn: 2.2947215\ttest: 2.2947561\tbest: 2.2947561 (31)\ttotal: 1.9s\tremaining: 534ms\n",
      "32:\tlearn: 2.2944755\ttest: 2.2945112\tbest: 2.2945112 (32)\ttotal: 1.98s\tremaining: 479ms\n",
      "33:\tlearn: 2.2942431\ttest: 2.2942786\tbest: 2.2942786 (33)\ttotal: 2.04s\tremaining: 420ms\n",
      "34:\tlearn: 2.2940011\ttest: 2.2940395\tbest: 2.2940395 (34)\ttotal: 2.1s\tremaining: 359ms\n",
      "35:\tlearn: 2.2937486\ttest: 2.2937889\tbest: 2.2937889 (35)\ttotal: 2.16s\tremaining: 300ms\n",
      "36:\tlearn: 2.2935068\ttest: 2.2935482\tbest: 2.2935482 (36)\ttotal: 2.21s\tremaining: 239ms\n",
      "37:\tlearn: 2.2932597\ttest: 2.2933022\tbest: 2.2933022 (37)\ttotal: 2.28s\tremaining: 180ms\n",
      "38:\tlearn: 2.2930199\ttest: 2.2930627\tbest: 2.2930627 (38)\ttotal: 2.34s\tremaining: 120ms\n",
      "39:\tlearn: 2.2927848\ttest: 2.2928284\tbest: 2.2928284 (39)\ttotal: 2.4s\tremaining: 59.9ms\n",
      "40:\tlearn: 2.2925442\ttest: 2.2925884\tbest: 2.2925884 (40)\ttotal: 2.45s\tremaining: 0us\n",
      "\n",
      "bestTest = 2.292588409\n",
      "bestIteration = 40\n",
      "\n"
     ]
    },
    {
     "name": "stderr",
     "output_type": "stream",
     "text": [
      "[I 2024-02-26 23:52:41,034] Trial 20 finished with value: 0.6527222222222222 and parameters: {'num_trees': 41, 'learning_rate': 6.74054601921139e-05}. Best is trial 10 with value: 0.5960555555555556.\n"
     ]
    },
    {
     "name": "stdout",
     "output_type": "stream",
     "text": [
      "0:\tlearn: 2.3025476\ttest: 2.3025479\tbest: 2.3025479 (0)\ttotal: 54.9ms\tremaining: 0us\n",
      "\n",
      "bestTest = 2.302547908\n",
      "bestIteration = 0\n",
      "\n"
     ]
    },
    {
     "name": "stderr",
     "output_type": "stream",
     "text": [
      "[I 2024-02-26 23:52:42,058] Trial 21 finished with value: 0.5960555555555556 and parameters: {'num_trees': 1, 'learning_rate': 1.004951789555317e-05}. Best is trial 10 with value: 0.5960555555555556.\n"
     ]
    },
    {
     "name": "stdout",
     "output_type": "stream",
     "text": [
      "0:\tlearn: 2.3025314\ttest: 2.3025318\tbest: 2.3025318 (0)\ttotal: 95.5ms\tremaining: 955ms\n",
      "1:\tlearn: 2.3024809\ttest: 2.3024815\tbest: 2.3024815 (1)\ttotal: 205ms\tremaining: 921ms\n",
      "2:\tlearn: 2.3024289\ttest: 2.3024297\tbest: 2.3024297 (2)\ttotal: 303ms\tremaining: 809ms\n",
      "3:\tlearn: 2.3023735\ttest: 2.3023748\tbest: 2.3023748 (3)\ttotal: 404ms\tremaining: 707ms\n",
      "4:\tlearn: 2.3023193\ttest: 2.3023208\tbest: 2.3023208 (4)\ttotal: 524ms\tremaining: 628ms\n",
      "5:\tlearn: 2.3022649\ttest: 2.3022667\tbest: 2.3022667 (5)\ttotal: 628ms\tremaining: 524ms\n",
      "6:\tlearn: 2.3022121\ttest: 2.3022143\tbest: 2.3022143 (6)\ttotal: 728ms\tremaining: 416ms\n",
      "7:\tlearn: 2.3021594\ttest: 2.3021616\tbest: 2.3021616 (7)\ttotal: 814ms\tremaining: 305ms\n",
      "8:\tlearn: 2.3021035\ttest: 2.3021060\tbest: 2.3021060 (8)\ttotal: 896ms\tremaining: 199ms\n",
      "9:\tlearn: 2.3020507\ttest: 2.3020535\tbest: 2.3020535 (9)\ttotal: 978ms\tremaining: 97.8ms\n",
      "10:\tlearn: 2.3019968\ttest: 2.3020000\tbest: 2.3020000 (10)\ttotal: 1.07s\tremaining: 0us\n",
      "\n",
      "bestTest = 2.302000005\n",
      "bestIteration = 10\n",
      "\n"
     ]
    },
    {
     "name": "stderr",
     "output_type": "stream",
     "text": [
      "[I 2024-02-26 23:52:44,296] Trial 22 finished with value: 0.6488333333333334 and parameters: {'num_trees': 11, 'learning_rate': 1.4390118670783977e-05}. Best is trial 10 with value: 0.5960555555555556.\n"
     ]
    },
    {
     "name": "stdout",
     "output_type": "stream",
     "text": [
      "0:\tlearn: 2.3025002\ttest: 2.3025008\tbest: 2.3025008 (0)\ttotal: 70.6ms\tremaining: 0us\n",
      "\n",
      "bestTest = 2.302500836\n",
      "bestIteration = 0\n",
      "\n"
     ]
    },
    {
     "name": "stderr",
     "output_type": "stream",
     "text": [
      "[I 2024-02-26 23:52:45,610] Trial 23 finished with value: 0.5960555555555556 and parameters: {'num_trees': 1, 'learning_rate': 2.2771487833547127e-05}. Best is trial 10 with value: 0.5960555555555556.\n"
     ]
    },
    {
     "name": "stdout",
     "output_type": "stream",
     "text": [
      "0:\tlearn: 2.3023944\ttest: 2.3023959\tbest: 2.3023959 (0)\ttotal: 56.7ms\tremaining: 1.13s\n",
      "1:\tlearn: 2.3022148\ttest: 2.3022169\tbest: 2.3022169 (1)\ttotal: 119ms\tremaining: 1.13s\n",
      "2:\tlearn: 2.3020302\ttest: 2.3020331\tbest: 2.3020331 (2)\ttotal: 185ms\tremaining: 1.11s\n",
      "3:\tlearn: 2.3018333\ttest: 2.3018380\tbest: 2.3018380 (3)\ttotal: 253ms\tremaining: 1.07s\n",
      "4:\tlearn: 2.3016411\ttest: 2.3016465\tbest: 2.3016465 (4)\ttotal: 352ms\tremaining: 1.13s\n",
      "5:\tlearn: 2.3014478\ttest: 2.3014543\tbest: 2.3014543 (5)\ttotal: 432ms\tremaining: 1.08s\n",
      "6:\tlearn: 2.3012605\ttest: 2.3012683\tbest: 2.3012683 (6)\ttotal: 526ms\tremaining: 1.05s\n",
      "7:\tlearn: 2.3010736\ttest: 2.3010815\tbest: 2.3010815 (7)\ttotal: 605ms\tremaining: 983ms\n",
      "8:\tlearn: 2.3008751\ttest: 2.3008843\tbest: 2.3008843 (8)\ttotal: 688ms\tremaining: 918ms\n",
      "9:\tlearn: 2.3006879\ttest: 2.3006978\tbest: 2.3006978 (9)\ttotal: 750ms\tremaining: 825ms\n",
      "10:\tlearn: 2.3004970\ttest: 2.3005083\tbest: 2.3005083 (10)\ttotal: 806ms\tremaining: 733ms\n",
      "11:\tlearn: 2.3003109\ttest: 2.3003224\tbest: 2.3003224 (11)\ttotal: 861ms\tremaining: 646ms\n",
      "12:\tlearn: 2.3001285\ttest: 2.3001404\tbest: 2.3001404 (12)\ttotal: 948ms\tremaining: 584ms\n",
      "13:\tlearn: 2.2999481\ttest: 2.2999604\tbest: 2.2999604 (13)\ttotal: 1.02s\tremaining: 511ms\n",
      "14:\tlearn: 2.2997567\ttest: 2.2997696\tbest: 2.2997696 (14)\ttotal: 1.09s\tremaining: 438ms\n",
      "15:\tlearn: 2.2995724\ttest: 2.2995862\tbest: 2.2995862 (15)\ttotal: 1.16s\tremaining: 363ms\n",
      "16:\tlearn: 2.2993777\ttest: 2.2993928\tbest: 2.2993928 (16)\ttotal: 1.22s\tremaining: 287ms\n",
      "17:\tlearn: 2.2991943\ttest: 2.2992088\tbest: 2.2992088 (17)\ttotal: 1.28s\tremaining: 213ms\n",
      "18:\tlearn: 2.2990147\ttest: 2.2990298\tbest: 2.2990298 (18)\ttotal: 1.33s\tremaining: 140ms\n",
      "19:\tlearn: 2.2988311\ttest: 2.2988464\tbest: 2.2988464 (19)\ttotal: 1.41s\tremaining: 70.7ms\n",
      "20:\tlearn: 2.2986454\ttest: 2.2986618\tbest: 2.2986618 (20)\ttotal: 1.48s\tremaining: 0us\n",
      "\n",
      "bestTest = 2.298661841\n",
      "bestIteration = 20\n",
      "\n"
     ]
    },
    {
     "name": "stderr",
     "output_type": "stream",
     "text": [
      "[I 2024-02-26 23:52:48,211] Trial 24 finished with value: 0.6495555555555556 and parameters: {'num_trees': 21, 'learning_rate': 5.113513699998592e-05}. Best is trial 10 with value: 0.5960555555555556.\n"
     ]
    },
    {
     "name": "stdout",
     "output_type": "stream",
     "text": [
      "0:\tlearn: 2.3025103\ttest: 2.3025109\tbest: 2.3025109 (0)\ttotal: 63.2ms\tremaining: 632ms\n",
      "1:\tlearn: 2.3024399\ttest: 2.3024407\tbest: 2.3024407 (1)\ttotal: 130ms\tremaining: 584ms\n",
      "2:\tlearn: 2.3023674\ttest: 2.3023686\tbest: 2.3023686 (2)\ttotal: 188ms\tremaining: 501ms\n",
      "3:\tlearn: 2.3022902\ttest: 2.3022920\tbest: 2.3022920 (3)\ttotal: 265ms\tremaining: 464ms\n",
      "4:\tlearn: 2.3022147\ttest: 2.3022168\tbest: 2.3022168 (4)\ttotal: 345ms\tremaining: 413ms\n",
      "5:\tlearn: 2.3021388\ttest: 2.3021414\tbest: 2.3021414 (5)\ttotal: 410ms\tremaining: 342ms\n",
      "6:\tlearn: 2.3020653\ttest: 2.3020684\tbest: 2.3020684 (6)\ttotal: 487ms\tremaining: 278ms\n",
      "7:\tlearn: 2.3019919\ttest: 2.3019950\tbest: 2.3019950 (7)\ttotal: 545ms\tremaining: 205ms\n",
      "8:\tlearn: 2.3019140\ttest: 2.3019176\tbest: 2.3019176 (8)\ttotal: 607ms\tremaining: 135ms\n",
      "9:\tlearn: 2.3018404\ttest: 2.3018443\tbest: 2.3018443 (9)\ttotal: 677ms\tremaining: 67.7ms\n",
      "10:\tlearn: 2.3017654\ttest: 2.3017698\tbest: 2.3017698 (10)\ttotal: 735ms\tremaining: 0us\n",
      "\n",
      "bestTest = 2.301769828\n",
      "bestIteration = 10\n",
      "\n"
     ]
    },
    {
     "name": "stderr",
     "output_type": "stream",
     "text": [
      "[I 2024-02-26 23:52:49,996] Trial 25 finished with value: 0.6488333333333334 and parameters: {'num_trees': 11, 'learning_rate': 2.0054734528989375e-05}. Best is trial 10 with value: 0.5960555555555556.\n"
     ]
    },
    {
     "name": "stdout",
     "output_type": "stream",
     "text": [
      "0:\tlearn: 2.3019084\ttest: 2.3019139\tbest: 2.3019139 (0)\ttotal: 56.3ms\tremaining: 1.41s\n",
      "1:\tlearn: 2.3012720\ttest: 2.3012793\tbest: 2.3012793 (1)\ttotal: 129ms\tremaining: 1.55s\n",
      "2:\tlearn: 2.3006181\ttest: 2.3006284\tbest: 2.3006284 (2)\ttotal: 210ms\tremaining: 1.61s\n",
      "3:\tlearn: 2.2999212\ttest: 2.2999377\tbest: 2.2999377 (3)\ttotal: 275ms\tremaining: 1.51s\n",
      "4:\tlearn: 2.2992413\ttest: 2.2992604\tbest: 2.2992604 (4)\ttotal: 414ms\tremaining: 1.74s\n",
      "5:\tlearn: 2.2985583\ttest: 2.2985814\tbest: 2.2985814 (5)\ttotal: 490ms\tremaining: 1.63s\n",
      "6:\tlearn: 2.2978967\ttest: 2.2979244\tbest: 2.2979244 (6)\ttotal: 547ms\tremaining: 1.48s\n",
      "7:\tlearn: 2.2972373\ttest: 2.2972655\tbest: 2.2972655 (7)\ttotal: 602ms\tremaining: 1.35s\n",
      "8:\tlearn: 2.2965375\ttest: 2.2965699\tbest: 2.2965699 (8)\ttotal: 657ms\tremaining: 1.24s\n",
      "9:\tlearn: 2.2958778\ttest: 2.2959130\tbest: 2.2959130 (9)\ttotal: 715ms\tremaining: 1.14s\n",
      "10:\tlearn: 2.2952061\ttest: 2.2952461\tbest: 2.2952461 (10)\ttotal: 784ms\tremaining: 1.07s\n",
      "11:\tlearn: 2.2945512\ttest: 2.2945922\tbest: 2.2945922 (11)\ttotal: 862ms\tremaining: 1s\n",
      "12:\tlearn: 2.2939100\ttest: 2.2939521\tbest: 2.2939521 (12)\ttotal: 936ms\tremaining: 936ms\n",
      "13:\tlearn: 2.2932761\ttest: 2.2933199\tbest: 2.2933199 (13)\ttotal: 1s\tremaining: 860ms\n",
      "14:\tlearn: 2.2926043\ttest: 2.2926501\tbest: 2.2926501 (14)\ttotal: 1.07s\tremaining: 786ms\n",
      "15:\tlearn: 2.2919579\ttest: 2.2920068\tbest: 2.2920068 (15)\ttotal: 1.15s\tremaining: 716ms\n",
      "16:\tlearn: 2.2912755\ttest: 2.2913291\tbest: 2.2913291 (16)\ttotal: 1.21s\tremaining: 639ms\n",
      "17:\tlearn: 2.2906327\ttest: 2.2906844\tbest: 2.2906844 (17)\ttotal: 1.29s\tremaining: 572ms\n",
      "18:\tlearn: 2.2900043\ttest: 2.2900580\tbest: 2.2900580 (18)\ttotal: 1.35s\tremaining: 496ms\n",
      "19:\tlearn: 2.2893623\ttest: 2.2894167\tbest: 2.2894167 (19)\ttotal: 1.41s\tremaining: 423ms\n",
      "20:\tlearn: 2.2887136\ttest: 2.2887719\tbest: 2.2887719 (20)\ttotal: 1.47s\tremaining: 350ms\n",
      "21:\tlearn: 2.2880468\ttest: 2.2881053\tbest: 2.2881053 (21)\ttotal: 1.52s\tremaining: 277ms\n",
      "22:\tlearn: 2.2874055\ttest: 2.2874649\tbest: 2.2874649 (22)\ttotal: 1.58s\tremaining: 206ms\n",
      "23:\tlearn: 2.2867607\ttest: 2.2868232\tbest: 2.2868232 (23)\ttotal: 1.65s\tremaining: 138ms\n",
      "24:\tlearn: 2.2860886\ttest: 2.2861575\tbest: 2.2861575 (24)\ttotal: 1.71s\tremaining: 68.6ms\n",
      "25:\tlearn: 2.2854494\ttest: 2.2855201\tbest: 2.2855201 (25)\ttotal: 1.77s\tremaining: 0us\n",
      "\n",
      "bestTest = 2.285520129\n",
      "bestIteration = 25\n",
      "\n"
     ]
    },
    {
     "name": "stderr",
     "output_type": "stream",
     "text": [
      "[I 2024-02-26 23:52:52,830] Trial 26 finished with value: 0.6473333333333333 and parameters: {'num_trees': 26, 'learning_rate': 0.00018141788246652925}. Best is trial 10 with value: 0.5960555555555556.\n"
     ]
    },
    {
     "name": "stdout",
     "output_type": "stream",
     "text": [
      "0:\tlearn: 2.3025456\ttest: 2.3025459\tbest: 2.3025459 (0)\ttotal: 51ms\tremaining: 255ms\n",
      "1:\tlearn: 2.3025084\ttest: 2.3025088\tbest: 2.3025088 (1)\ttotal: 104ms\tremaining: 209ms\n",
      "2:\tlearn: 2.3024702\ttest: 2.3024708\tbest: 2.3024708 (2)\ttotal: 161ms\tremaining: 161ms\n",
      "3:\tlearn: 2.3024294\ttest: 2.3024304\tbest: 2.3024304 (3)\ttotal: 215ms\tremaining: 107ms\n",
      "4:\tlearn: 2.3023895\ttest: 2.3023907\tbest: 2.3023907 (4)\ttotal: 269ms\tremaining: 53.8ms\n",
      "5:\tlearn: 2.3023495\ttest: 2.3023508\tbest: 2.3023508 (5)\ttotal: 326ms\tremaining: 0us\n",
      "\n",
      "bestTest = 2.302350824\n",
      "bestIteration = 5\n",
      "\n"
     ]
    },
    {
     "name": "stderr",
     "output_type": "stream",
     "text": [
      "[I 2024-02-26 23:52:54,104] Trial 27 finished with value: 0.6442777777777777 and parameters: {'num_trees': 6, 'learning_rate': 1.0587326755196778e-05}. Best is trial 10 with value: 0.5960555555555556.\n"
     ]
    },
    {
     "name": "stdout",
     "output_type": "stream",
     "text": [
      "0:\tlearn: 2.3023022\ttest: 2.3023045\tbest: 2.3023045 (0)\ttotal: 77ms\tremaining: 1.16s\n",
      "1:\tlearn: 2.3020360\ttest: 2.3020390\tbest: 2.3020390 (1)\ttotal: 172ms\tremaining: 1.2s\n",
      "2:\tlearn: 2.3017623\ttest: 2.3017666\tbest: 2.3017666 (2)\ttotal: 247ms\tremaining: 1.07s\n",
      "3:\tlearn: 2.3014704\ttest: 2.3014773\tbest: 2.3014773 (3)\ttotal: 320ms\tremaining: 959ms\n",
      "4:\tlearn: 2.3011854\ttest: 2.3011934\tbest: 2.3011934 (4)\ttotal: 386ms\tremaining: 850ms\n",
      "5:\tlearn: 2.3008990\ttest: 2.3009086\tbest: 2.3009086 (5)\ttotal: 554ms\tremaining: 923ms\n",
      "6:\tlearn: 2.3006214\ttest: 2.3006329\tbest: 2.3006329 (6)\ttotal: 616ms\tremaining: 792ms\n",
      "7:\tlearn: 2.3003445\ttest: 2.3003563\tbest: 2.3003563 (7)\ttotal: 672ms\tremaining: 672ms\n",
      "8:\tlearn: 2.3000505\ttest: 2.3000641\tbest: 2.3000641 (8)\ttotal: 730ms\tremaining: 568ms\n",
      "9:\tlearn: 2.2997732\ttest: 2.2997879\tbest: 2.2997879 (9)\ttotal: 784ms\tremaining: 470ms\n",
      "10:\tlearn: 2.2994905\ttest: 2.2995072\tbest: 2.2995072 (10)\ttotal: 840ms\tremaining: 382ms\n",
      "11:\tlearn: 2.2992148\ttest: 2.2992320\tbest: 2.2992320 (11)\ttotal: 894ms\tremaining: 298ms\n",
      "12:\tlearn: 2.2989449\ttest: 2.2989625\tbest: 2.2989625 (12)\ttotal: 972ms\tremaining: 224ms\n",
      "13:\tlearn: 2.2986777\ttest: 2.2986960\tbest: 2.2986960 (13)\ttotal: 1.03s\tremaining: 147ms\n",
      "14:\tlearn: 2.2983945\ttest: 2.2984136\tbest: 2.2984136 (14)\ttotal: 1.11s\tremaining: 74.2ms\n",
      "15:\tlearn: 2.2981217\ttest: 2.2981422\tbest: 2.2981422 (15)\ttotal: 1.19s\tremaining: 0us\n",
      "\n",
      "bestTest = 2.298142156\n",
      "bestIteration = 15\n",
      "\n"
     ]
    },
    {
     "name": "stderr",
     "output_type": "stream",
     "text": [
      "[I 2024-02-26 23:52:56,276] Trial 28 finished with value: 0.6478888888888888 and parameters: {'num_trees': 16, 'learning_rate': 7.584071998266494e-05}. Best is trial 10 with value: 0.5960555555555556.\n"
     ]
    },
    {
     "name": "stdout",
     "output_type": "stream",
     "text": [
      "0:\tlearn: 2.2997409\ttest: 2.2997638\tbest: 2.2997638 (0)\ttotal: 52.1ms\tremaining: 1.56s\n",
      "1:\tlearn: 2.2970750\ttest: 2.2971056\tbest: 2.2971056 (1)\ttotal: 106ms\tremaining: 1.53s\n",
      "2:\tlearn: 2.2943447\ttest: 2.2943879\tbest: 2.2943879 (2)\ttotal: 161ms\tremaining: 1.5s\n",
      "3:\tlearn: 2.2914441\ttest: 2.2915133\tbest: 2.2915133 (3)\ttotal: 228ms\tremaining: 1.54s\n",
      "4:\tlearn: 2.2886258\ttest: 2.2887056\tbest: 2.2887056 (4)\ttotal: 290ms\tremaining: 1.51s\n",
      "5:\tlearn: 2.2858039\ttest: 2.2859007\tbest: 2.2859007 (5)\ttotal: 345ms\tremaining: 1.44s\n",
      "6:\tlearn: 2.2830792\ttest: 2.2831953\tbest: 2.2831953 (6)\ttotal: 398ms\tremaining: 1.36s\n",
      "7:\tlearn: 2.2803722\ttest: 2.2804904\tbest: 2.2804904 (7)\ttotal: 454ms\tremaining: 1.3s\n",
      "8:\tlearn: 2.2775068\ttest: 2.2776428\tbest: 2.2776428 (8)\ttotal: 510ms\tremaining: 1.25s\n",
      "9:\tlearn: 2.2748176\ttest: 2.2749648\tbest: 2.2749648 (9)\ttotal: 564ms\tremaining: 1.19s\n",
      "10:\tlearn: 2.2720912\ttest: 2.2722584\tbest: 2.2722584 (10)\ttotal: 617ms\tremaining: 1.12s\n",
      "11:\tlearn: 2.2694368\ttest: 2.2696086\tbest: 2.2696086 (11)\ttotal: 672ms\tremaining: 1.06s\n",
      "12:\tlearn: 2.2668426\ttest: 2.2670196\tbest: 2.2670196 (12)\ttotal: 727ms\tremaining: 1.01s\n",
      "13:\tlearn: 2.2642908\ttest: 2.2644749\tbest: 2.2644749 (13)\ttotal: 782ms\tremaining: 949ms\n",
      "14:\tlearn: 2.2615914\ttest: 2.2617840\tbest: 2.2617840 (14)\ttotal: 836ms\tremaining: 892ms\n",
      "15:\tlearn: 2.2590089\ttest: 2.2592143\tbest: 2.2592143 (15)\ttotal: 889ms\tremaining: 833ms\n",
      "16:\tlearn: 2.2562415\ttest: 2.2564556\tbest: 2.2564556 (16)\ttotal: 945ms\tremaining: 778ms\n",
      "17:\tlearn: 2.2536800\ttest: 2.2538870\tbest: 2.2538870 (17)\ttotal: 999ms\tremaining: 722ms\n",
      "18:\tlearn: 2.2511341\ttest: 2.2513628\tbest: 2.2513628 (18)\ttotal: 1.05s\tremaining: 666ms\n",
      "19:\tlearn: 2.2486011\ttest: 2.2488335\tbest: 2.2488335 (19)\ttotal: 1.11s\tremaining: 609ms\n",
      "20:\tlearn: 2.2460460\ttest: 2.2462945\tbest: 2.2462945 (20)\ttotal: 1.17s\tremaining: 555ms\n",
      "21:\tlearn: 2.2434236\ttest: 2.2436733\tbest: 2.2436733 (21)\ttotal: 1.25s\tremaining: 511ms\n",
      "22:\tlearn: 2.2409118\ttest: 2.2411656\tbest: 2.2411656 (22)\ttotal: 1.32s\tremaining: 460ms\n",
      "23:\tlearn: 2.2383995\ttest: 2.2386659\tbest: 2.2386659 (23)\ttotal: 1.4s\tremaining: 410ms\n",
      "24:\tlearn: 2.2357805\ttest: 2.2360729\tbest: 2.2360729 (24)\ttotal: 1.48s\tremaining: 356ms\n",
      "25:\tlearn: 2.2333039\ttest: 2.2336040\tbest: 2.2336040 (25)\ttotal: 1.55s\tremaining: 299ms\n",
      "26:\tlearn: 2.2307207\ttest: 2.2310370\tbest: 2.2310370 (26)\ttotal: 1.61s\tremaining: 238ms\n",
      "27:\tlearn: 2.2282514\ttest: 2.2285833\tbest: 2.2285833 (27)\ttotal: 1.66s\tremaining: 178ms\n",
      "28:\tlearn: 2.2257798\ttest: 2.2261101\tbest: 2.2261101 (28)\ttotal: 1.72s\tremaining: 119ms\n",
      "29:\tlearn: 2.2234770\ttest: 2.2238213\tbest: 2.2238213 (29)\ttotal: 1.82s\tremaining: 60.5ms\n",
      "30:\tlearn: 2.2211473\ttest: 2.2215069\tbest: 2.2215069 (30)\ttotal: 1.95s\tremaining: 0us\n",
      "\n",
      "bestTest = 2.221506934\n",
      "bestIteration = 30\n",
      "\n"
     ]
    },
    {
     "name": "stderr",
     "output_type": "stream",
     "text": [
      "[I 2024-02-26 23:52:59,247] Trial 29 finished with value: 0.6514444444444445 and parameters: {'num_trees': 31, 'learning_rate': 0.0007627540347447385}. Best is trial 10 with value: 0.5960555555555556.\n"
     ]
    },
    {
     "name": "stdout",
     "output_type": "stream",
     "text": [
      "0:\tlearn: 2.3024451\ttest: 2.3024462\tbest: 2.3024462 (0)\ttotal: 70.2ms\tremaining: 0us\n",
      "\n",
      "bestTest = 2.302446202\n",
      "bestIteration = 0\n",
      "\n"
     ]
    },
    {
     "name": "stderr",
     "output_type": "stream",
     "text": [
      "[I 2024-02-26 23:53:00,325] Trial 30 finished with value: 0.5960555555555556 and parameters: {'num_trees': 1, 'learning_rate': 3.753712709347307e-05}. Best is trial 10 with value: 0.5960555555555556.\n"
     ]
    },
    {
     "name": "stdout",
     "output_type": "stream",
     "text": [
      "0:\tlearn: 2.3012472\ttest: 2.3012580\tbest: 2.3012580 (0)\ttotal: 57ms\tremaining: 0us\n",
      "\n",
      "bestTest = 2.301257995\n",
      "bestIteration = 0\n",
      "\n"
     ]
    },
    {
     "name": "stderr",
     "output_type": "stream",
     "text": [
      "[I 2024-02-26 23:53:01,410] Trial 31 finished with value: 0.5960555555555556 and parameters: {'num_trees': 1, 'learning_rate': 0.0003587230310170912}. Best is trial 10 with value: 0.5960555555555556.\n"
     ]
    },
    {
     "name": "stdout",
     "output_type": "stream",
     "text": [
      "0:\tlearn: 2.3017280\ttest: 2.3017349\tbest: 2.3017349 (0)\ttotal: 53.9ms\tremaining: 269ms\n",
      "1:\tlearn: 2.3009222\ttest: 2.3009314\tbest: 2.3009314 (1)\ttotal: 125ms\tremaining: 251ms\n",
      "2:\tlearn: 2.3000944\ttest: 2.3001074\tbest: 2.3001074 (2)\ttotal: 249ms\tremaining: 249ms\n",
      "3:\tlearn: 2.2992124\ttest: 2.2992333\tbest: 2.2992333 (3)\ttotal: 322ms\tremaining: 161ms\n",
      "4:\tlearn: 2.2983523\ttest: 2.2983764\tbest: 2.2983764 (4)\ttotal: 377ms\tremaining: 75.5ms\n",
      "5:\tlearn: 2.2974884\ttest: 2.2975176\tbest: 2.2975176 (5)\ttotal: 444ms\tremaining: 0us\n",
      "\n",
      "bestTest = 2.297517592\n",
      "bestIteration = 5\n",
      "\n"
     ]
    },
    {
     "name": "stderr",
     "output_type": "stream",
     "text": [
      "[I 2024-02-26 23:53:02,853] Trial 32 finished with value: 0.6442777777777777 and parameters: {'num_trees': 6, 'learning_rate': 0.00022979052913361776}. Best is trial 10 with value: 0.5960555555555556.\n"
     ]
    },
    {
     "name": "stdout",
     "output_type": "stream",
     "text": [
      "0:\tlearn: 2.3025050\ttest: 2.3025056\tbest: 2.3025056 (0)\ttotal: 50.2ms\tremaining: 502ms\n",
      "1:\tlearn: 2.3024296\ttest: 2.3024304\tbest: 2.3024304 (1)\ttotal: 103ms\tremaining: 465ms\n",
      "2:\tlearn: 2.3023520\ttest: 2.3023532\tbest: 2.3023532 (2)\ttotal: 176ms\tremaining: 469ms\n",
      "3:\tlearn: 2.3022693\ttest: 2.3022712\tbest: 2.3022712 (3)\ttotal: 246ms\tremaining: 431ms\n",
      "4:\tlearn: 2.3021884\ttest: 2.3021907\tbest: 2.3021907 (4)\ttotal: 309ms\tremaining: 371ms\n",
      "5:\tlearn: 2.3021072\ttest: 2.3021099\tbest: 2.3021099 (5)\ttotal: 381ms\tremaining: 318ms\n",
      "6:\tlearn: 2.3020284\ttest: 2.3020317\tbest: 2.3020317 (6)\ttotal: 459ms\tremaining: 262ms\n",
      "7:\tlearn: 2.3019498\ttest: 2.3019532\tbest: 2.3019532 (7)\ttotal: 532ms\tremaining: 200ms\n",
      "8:\tlearn: 2.3018664\ttest: 2.3018702\tbest: 2.3018702 (8)\ttotal: 600ms\tremaining: 133ms\n",
      "9:\tlearn: 2.3017876\ttest: 2.3017917\tbest: 2.3017917 (9)\ttotal: 671ms\tremaining: 67.1ms\n",
      "10:\tlearn: 2.3017073\ttest: 2.3017120\tbest: 2.3017120 (10)\ttotal: 726ms\tremaining: 0us\n",
      "\n",
      "bestTest = 2.301712002\n",
      "bestIteration = 10\n",
      "\n"
     ]
    },
    {
     "name": "stderr",
     "output_type": "stream",
     "text": [
      "[I 2024-02-26 23:53:04,542] Trial 33 finished with value: 0.6488333333333334 and parameters: {'num_trees': 11, 'learning_rate': 2.14781280528081e-05}. Best is trial 10 with value: 0.5960555555555556.\n"
     ]
    },
    {
     "name": "stdout",
     "output_type": "stream",
     "text": [
      "0:\tlearn: 2.2962902\ttest: 2.2963409\tbest: 2.2963409 (0)\ttotal: 134ms\tremaining: 2.01s\n",
      "1:\tlearn: 2.2904218\ttest: 2.2904894\tbest: 2.2904894 (1)\ttotal: 218ms\tremaining: 1.53s\n",
      "2:\tlearn: 2.2844424\ttest: 2.2845380\tbest: 2.2845380 (2)\ttotal: 288ms\tremaining: 1.25s\n",
      "3:\tlearn: 2.2781210\ttest: 2.2782737\tbest: 2.2782737 (3)\ttotal: 344ms\tremaining: 1.03s\n",
      "4:\tlearn: 2.2720176\ttest: 2.2721937\tbest: 2.2721937 (4)\ttotal: 411ms\tremaining: 903ms\n",
      "5:\tlearn: 2.2659388\ttest: 2.2661523\tbest: 2.2661523 (5)\ttotal: 488ms\tremaining: 814ms\n",
      "6:\tlearn: 2.2600964\ttest: 2.2603519\tbest: 2.2603519 (6)\ttotal: 549ms\tremaining: 705ms\n",
      "7:\tlearn: 2.2545478\ttest: 2.2548122\tbest: 2.2548122 (7)\ttotal: 603ms\tremaining: 603ms\n",
      "8:\tlearn: 2.2484548\ttest: 2.2487575\tbest: 2.2487575 (8)\ttotal: 665ms\tremaining: 517ms\n",
      "9:\tlearn: 2.2427710\ttest: 2.2430985\tbest: 2.2430985 (9)\ttotal: 738ms\tremaining: 443ms\n",
      "10:\tlearn: 2.2370507\ttest: 2.2374210\tbest: 2.2374210 (10)\ttotal: 799ms\tremaining: 363ms\n",
      "11:\tlearn: 2.2314874\ttest: 2.2318687\tbest: 2.2318687 (11)\ttotal: 854ms\tremaining: 285ms\n",
      "12:\tlearn: 2.2260680\ttest: 2.2264621\tbest: 2.2264621 (12)\ttotal: 909ms\tremaining: 210ms\n",
      "13:\tlearn: 2.2207747\ttest: 2.2211847\tbest: 2.2211847 (13)\ttotal: 965ms\tremaining: 138ms\n",
      "14:\tlearn: 2.2151909\ttest: 2.2156202\tbest: 2.2156202 (14)\ttotal: 1.02s\tremaining: 68.1ms\n",
      "15:\tlearn: 2.2098892\ttest: 2.2103463\tbest: 2.2103463 (15)\ttotal: 1.07s\tremaining: 0us\n",
      "\n",
      "bestTest = 2.210346327\n",
      "bestIteration = 15\n",
      "\n"
     ]
    },
    {
     "name": "stderr",
     "output_type": "stream",
     "text": [
      "[I 2024-02-26 23:53:06,660] Trial 34 finished with value: 0.6511666666666667 and parameters: {'num_trees': 16, 'learning_rate': 0.0016889511197309861}. Best is trial 10 with value: 0.5960555555555556.\n"
     ]
    },
    {
     "name": "stdout",
     "output_type": "stream",
     "text": [
      "0:\tlearn: 2.3022136\ttest: 2.3022166\tbest: 2.3022166 (0)\ttotal: 71ms\tremaining: 355ms\n",
      "1:\tlearn: 2.3018641\ttest: 2.3018681\tbest: 2.3018681 (1)\ttotal: 127ms\tremaining: 254ms\n",
      "2:\tlearn: 2.3015048\ttest: 2.3015105\tbest: 2.3015105 (2)\ttotal: 181ms\tremaining: 181ms\n",
      "3:\tlearn: 2.3011217\ttest: 2.3011308\tbest: 2.3011308 (3)\ttotal: 239ms\tremaining: 120ms\n",
      "4:\tlearn: 2.3007478\ttest: 2.3007582\tbest: 2.3007582 (4)\ttotal: 320ms\tremaining: 64.1ms\n",
      "5:\tlearn: 2.3003719\ttest: 2.3003846\tbest: 2.3003846 (5)\ttotal: 378ms\tremaining: 0us\n",
      "\n",
      "bestTest = 2.300384577\n",
      "bestIteration = 5\n",
      "\n"
     ]
    },
    {
     "name": "stderr",
     "output_type": "stream",
     "text": [
      "[I 2024-02-26 23:53:08,061] Trial 35 finished with value: 0.6442777777777777 and parameters: {'num_trees': 6, 'learning_rate': 9.95846381091556e-05}. Best is trial 10 with value: 0.5960555555555556.\n"
     ]
    },
    {
     "name": "stdout",
     "output_type": "stream",
     "text": [
      "0:\tlearn: 2.3025163\ttest: 2.3025169\tbest: 2.3025169 (0)\ttotal: 51.3ms\tremaining: 0us\n",
      "\n",
      "bestTest = 2.302516853\n",
      "bestIteration = 0\n",
      "\n"
     ]
    },
    {
     "name": "stderr",
     "output_type": "stream",
     "text": [
      "[I 2024-02-26 23:53:09,185] Trial 36 finished with value: 0.5960555555555556 and parameters: {'num_trees': 1, 'learning_rate': 1.8442718122288225e-05}. Best is trial 10 with value: 0.5960555555555556.\n"
     ]
    },
    {
     "name": "stdout",
     "output_type": "stream",
     "text": [
      "0:\tlearn: 2.3024338\ttest: 2.3024350\tbest: 2.3024350 (0)\ttotal: 50.6ms\tremaining: 1.26s\n",
      "1:\tlearn: 2.3022914\ttest: 2.3022931\tbest: 2.3022931 (1)\ttotal: 103ms\tremaining: 1.24s\n",
      "2:\tlearn: 2.3021450\ttest: 2.3021473\tbest: 2.3021473 (2)\ttotal: 157ms\tremaining: 1.21s\n",
      "3:\tlearn: 2.3019889\ttest: 2.3019925\tbest: 2.3019925 (3)\ttotal: 213ms\tremaining: 1.17s\n",
      "4:\tlearn: 2.3018364\ttest: 2.3018406\tbest: 2.3018406 (4)\ttotal: 274ms\tremaining: 1.15s\n",
      "5:\tlearn: 2.3016830\ttest: 2.3016882\tbest: 2.3016882 (5)\ttotal: 335ms\tremaining: 1.12s\n",
      "6:\tlearn: 2.3015344\ttest: 2.3015406\tbest: 2.3015406 (6)\ttotal: 393ms\tremaining: 1.06s\n",
      "7:\tlearn: 2.3013861\ttest: 2.3013924\tbest: 2.3013924 (7)\ttotal: 446ms\tremaining: 1s\n",
      "8:\tlearn: 2.3012287\ttest: 2.3012359\tbest: 2.3012359 (8)\ttotal: 500ms\tremaining: 944ms\n",
      "9:\tlearn: 2.3010801\ttest: 2.3010880\tbest: 2.3010880 (9)\ttotal: 555ms\tremaining: 888ms\n",
      "10:\tlearn: 2.3009286\ttest: 2.3009376\tbest: 2.3009376 (10)\ttotal: 609ms\tremaining: 830ms\n",
      "11:\tlearn: 2.3007809\ttest: 2.3007900\tbest: 2.3007900 (11)\ttotal: 662ms\tremaining: 772ms\n",
      "12:\tlearn: 2.3006362\ttest: 2.3006456\tbest: 2.3006456 (12)\ttotal: 716ms\tremaining: 716ms\n",
      "13:\tlearn: 2.3004929\ttest: 2.3005027\tbest: 2.3005027 (13)\ttotal: 777ms\tremaining: 666ms\n",
      "14:\tlearn: 2.3003411\ttest: 2.3003513\tbest: 2.3003513 (14)\ttotal: 837ms\tremaining: 614ms\n",
      "15:\tlearn: 2.3001947\ttest: 2.3002057\tbest: 2.3002057 (15)\ttotal: 893ms\tremaining: 558ms\n",
      "16:\tlearn: 2.3000402\ttest: 2.3000522\tbest: 2.3000522 (16)\ttotal: 948ms\tremaining: 502ms\n",
      "17:\tlearn: 2.2998946\ttest: 2.2999061\tbest: 2.2999061 (17)\ttotal: 1s\tremaining: 445ms\n",
      "18:\tlearn: 2.2997520\ttest: 2.2997640\tbest: 2.2997640 (18)\ttotal: 1.06s\tremaining: 389ms\n",
      "19:\tlearn: 2.2996062\ttest: 2.2996183\tbest: 2.2996183 (19)\ttotal: 1.11s\tremaining: 333ms\n",
      "20:\tlearn: 2.2994588\ttest: 2.2994718\tbest: 2.2994718 (20)\ttotal: 1.16s\tremaining: 277ms\n",
      "21:\tlearn: 2.2993072\ttest: 2.2993202\tbest: 2.2993202 (21)\ttotal: 1.22s\tremaining: 222ms\n",
      "22:\tlearn: 2.2991612\ttest: 2.2991745\tbest: 2.2991745 (22)\ttotal: 1.27s\tremaining: 166ms\n",
      "23:\tlearn: 2.2990143\ttest: 2.2990282\tbest: 2.2990282 (23)\ttotal: 1.33s\tremaining: 111ms\n",
      "24:\tlearn: 2.2988611\ttest: 2.2988765\tbest: 2.2988765 (24)\ttotal: 1.43s\tremaining: 57.3ms\n",
      "25:\tlearn: 2.2987152\ttest: 2.2987310\tbest: 2.2987310 (25)\ttotal: 1.5s\tremaining: 0us\n",
      "\n",
      "bestTest = 2.298731036\n",
      "bestIteration = 25\n",
      "\n"
     ]
    },
    {
     "name": "stderr",
     "output_type": "stream",
     "text": [
      "[I 2024-02-26 23:53:11,675] Trial 37 finished with value: 0.6471666666666667 and parameters: {'num_trees': 26, 'learning_rate': 4.055300150260526e-05}. Best is trial 10 with value: 0.5960555555555556.\n"
     ]
    },
    {
     "name": "stdout",
     "output_type": "stream",
     "text": [
      "0:\tlearn: 2.3018921\ttest: 2.3018977\tbest: 2.3018977 (0)\ttotal: 51ms\tremaining: 2.55s\n",
      "1:\tlearn: 2.3012404\ttest: 2.3012478\tbest: 2.3012478 (1)\ttotal: 105ms\tremaining: 2.58s\n",
      "2:\tlearn: 2.3005707\ttest: 2.3005813\tbest: 2.3005813 (2)\ttotal: 159ms\tremaining: 2.55s\n",
      "3:\tlearn: 2.2998571\ttest: 2.2998740\tbest: 2.2998740 (3)\ttotal: 215ms\tremaining: 2.53s\n",
      "4:\tlearn: 2.2991609\ttest: 2.2991804\tbest: 2.2991804 (4)\ttotal: 271ms\tremaining: 2.49s\n",
      "5:\tlearn: 2.2984615\ttest: 2.2984852\tbest: 2.2984852 (5)\ttotal: 325ms\tremaining: 2.44s\n",
      "6:\tlearn: 2.2977841\ttest: 2.2978125\tbest: 2.2978125 (6)\ttotal: 378ms\tremaining: 2.37s\n",
      "7:\tlearn: 2.2971089\ttest: 2.2971378\tbest: 2.2971378 (7)\ttotal: 438ms\tremaining: 2.35s\n",
      "8:\tlearn: 2.2963924\ttest: 2.2964256\tbest: 2.2964256 (8)\ttotal: 522ms\tremaining: 2.44s\n",
      "9:\tlearn: 2.2957170\ttest: 2.2957530\tbest: 2.2957530 (9)\ttotal: 604ms\tremaining: 2.47s\n",
      "10:\tlearn: 2.2950293\ttest: 2.2950702\tbest: 2.2950702 (10)\ttotal: 671ms\tremaining: 2.44s\n",
      "11:\tlearn: 2.2943587\ttest: 2.2944007\tbest: 2.2944007 (11)\ttotal: 736ms\tremaining: 2.39s\n",
      "12:\tlearn: 2.2937023\ttest: 2.2937455\tbest: 2.2937455 (12)\ttotal: 808ms\tremaining: 2.36s\n",
      "13:\tlearn: 2.2930533\ttest: 2.2930982\tbest: 2.2930982 (13)\ttotal: 878ms\tremaining: 2.32s\n",
      "14:\tlearn: 2.2923656\ttest: 2.2924125\tbest: 2.2924125 (14)\ttotal: 957ms\tremaining: 2.3s\n",
      "15:\tlearn: 2.2917039\ttest: 2.2917540\tbest: 2.2917540 (15)\ttotal: 1.03s\tremaining: 2.25s\n",
      "16:\tlearn: 2.2910054\ttest: 2.2910602\tbest: 2.2910602 (16)\ttotal: 1.1s\tremaining: 2.2s\n",
      "17:\tlearn: 2.2903473\ttest: 2.2904002\tbest: 2.2904002 (17)\ttotal: 1.27s\tremaining: 2.33s\n",
      "18:\tlearn: 2.2897041\ttest: 2.2897590\tbest: 2.2897590 (18)\ttotal: 1.36s\tremaining: 2.29s\n",
      "19:\tlearn: 2.2890469\ttest: 2.2891027\tbest: 2.2891027 (19)\ttotal: 1.45s\tremaining: 2.25s\n",
      "20:\tlearn: 2.2883829\ttest: 2.2884426\tbest: 2.2884426 (20)\ttotal: 1.53s\tremaining: 2.19s\n",
      "21:\tlearn: 2.2877004\ttest: 2.2877603\tbest: 2.2877603 (21)\ttotal: 1.6s\tremaining: 2.11s\n",
      "22:\tlearn: 2.2870440\ttest: 2.2871048\tbest: 2.2871048 (22)\ttotal: 1.69s\tremaining: 2.06s\n",
      "23:\tlearn: 2.2863841\ttest: 2.2864480\tbest: 2.2864480 (23)\ttotal: 1.79s\tremaining: 2.02s\n",
      "24:\tlearn: 2.2856962\ttest: 2.2857668\tbest: 2.2857668 (24)\ttotal: 1.88s\tremaining: 1.96s\n",
      "25:\tlearn: 2.2850420\ttest: 2.2851144\tbest: 2.2851144 (25)\ttotal: 1.97s\tremaining: 1.89s\n",
      "26:\tlearn: 2.2843593\ttest: 2.2844359\tbest: 2.2844359 (26)\ttotal: 2.05s\tremaining: 1.82s\n",
      "27:\tlearn: 2.2837050\ttest: 2.2837855\tbest: 2.2837855 (27)\ttotal: 2.15s\tremaining: 1.77s\n",
      "28:\tlearn: 2.2830518\ttest: 2.2831348\tbest: 2.2831348 (28)\ttotal: 2.24s\tremaining: 1.7s\n",
      "29:\tlearn: 2.2824366\ttest: 2.2825230\tbest: 2.2825230 (29)\ttotal: 2.35s\tremaining: 1.65s\n",
      "30:\tlearn: 2.2818105\ttest: 2.2819009\tbest: 2.2819009 (30)\ttotal: 2.46s\tremaining: 1.59s\n",
      "31:\tlearn: 2.2811394\ttest: 2.2812345\tbest: 2.2812345 (31)\ttotal: 2.55s\tremaining: 1.51s\n",
      "32:\tlearn: 2.2804763\ttest: 2.2805745\tbest: 2.2805745 (32)\ttotal: 2.64s\tremaining: 1.44s\n",
      "33:\tlearn: 2.2798495\ttest: 2.2799473\tbest: 2.2799473 (33)\ttotal: 2.72s\tremaining: 1.36s\n",
      "34:\tlearn: 2.2791976\ttest: 2.2793032\tbest: 2.2793032 (34)\ttotal: 2.81s\tremaining: 1.28s\n",
      "35:\tlearn: 2.2785177\ttest: 2.2786284\tbest: 2.2786284 (35)\ttotal: 2.9s\tremaining: 1.21s\n",
      "36:\tlearn: 2.2778671\ttest: 2.2779811\tbest: 2.2779811 (36)\ttotal: 2.98s\tremaining: 1.13s\n",
      "37:\tlearn: 2.2772029\ttest: 2.2773199\tbest: 2.2773199 (37)\ttotal: 3.07s\tremaining: 1.05s\n",
      "38:\tlearn: 2.2765587\ttest: 2.2766762\tbest: 2.2766762 (38)\ttotal: 3.16s\tremaining: 972ms\n",
      "39:\tlearn: 2.2759277\ttest: 2.2760479\tbest: 2.2760479 (39)\ttotal: 3.23s\tremaining: 889ms\n",
      "40:\tlearn: 2.2752822\ttest: 2.2754040\tbest: 2.2754040 (40)\ttotal: 3.3s\tremaining: 805ms\n",
      "41:\tlearn: 2.2746412\ttest: 2.2747696\tbest: 2.2747696 (41)\ttotal: 3.41s\tremaining: 730ms\n",
      "42:\tlearn: 2.2739780\ttest: 2.2741108\tbest: 2.2741108 (42)\ttotal: 3.48s\tremaining: 647ms\n",
      "43:\tlearn: 2.2733328\ttest: 2.2734687\tbest: 2.2734687 (43)\ttotal: 3.54s\tremaining: 563ms\n",
      "44:\tlearn: 2.2726947\ttest: 2.2728346\tbest: 2.2728346 (44)\ttotal: 3.62s\tremaining: 483ms\n",
      "45:\tlearn: 2.2720660\ttest: 2.2722105\tbest: 2.2722105 (45)\ttotal: 3.7s\tremaining: 402ms\n",
      "46:\tlearn: 2.2713946\ttest: 2.2715418\tbest: 2.2715418 (46)\ttotal: 3.77s\tremaining: 321ms\n",
      "47:\tlearn: 2.2707232\ttest: 2.2708739\tbest: 2.2708739 (47)\ttotal: 3.84s\tremaining: 240ms\n",
      "48:\tlearn: 2.2700823\ttest: 2.2702361\tbest: 2.2702361 (48)\ttotal: 3.9s\tremaining: 159ms\n",
      "49:\tlearn: 2.2694526\ttest: 2.2696093\tbest: 2.2696093 (49)\ttotal: 3.96s\tremaining: 79.3ms\n",
      "50:\tlearn: 2.2688122\ttest: 2.2689724\tbest: 2.2689724 (50)\ttotal: 4.03s\tremaining: 0us\n",
      "\n",
      "bestTest = 2.268972369\n",
      "bestIteration = 50\n",
      "\n"
     ]
    },
    {
     "name": "stderr",
     "output_type": "stream",
     "text": [
      "[I 2024-02-26 23:53:16,738] Trial 38 finished with value: 0.6534444444444445 and parameters: {'num_trees': 51, 'learning_rate': 0.0001857899237957895}. Best is trial 10 with value: 0.5960555555555556.\n"
     ]
    },
    {
     "name": "stdout",
     "output_type": "stream",
     "text": [
      "0:\tlearn: 2.3011460\ttest: 2.3011576\tbest: 2.3011576 (0)\ttotal: 73ms\tremaining: 730ms\n",
      "1:\tlearn: 2.2997942\ttest: 2.2998097\tbest: 2.2998097 (1)\ttotal: 154ms\tremaining: 692ms\n",
      "2:\tlearn: 2.2984068\ttest: 2.2984286\tbest: 2.2984286 (2)\ttotal: 226ms\tremaining: 602ms\n",
      "3:\tlearn: 2.2969298\ttest: 2.2969649\tbest: 2.2969649 (3)\ttotal: 305ms\tremaining: 534ms\n",
      "4:\tlearn: 2.2954910\ttest: 2.2955315\tbest: 2.2955315 (4)\ttotal: 378ms\tremaining: 454ms\n",
      "5:\tlearn: 2.2940472\ttest: 2.2940963\tbest: 2.2940963 (5)\ttotal: 450ms\tremaining: 375ms\n",
      "6:\tlearn: 2.2926503\ttest: 2.2927092\tbest: 2.2927092 (6)\ttotal: 525ms\tremaining: 300ms\n",
      "7:\tlearn: 2.2912597\ttest: 2.2913195\tbest: 2.2913195 (7)\ttotal: 613ms\tremaining: 230ms\n",
      "8:\tlearn: 2.2897851\ttest: 2.2898541\tbest: 2.2898541 (8)\ttotal: 687ms\tremaining: 153ms\n",
      "9:\tlearn: 2.2883974\ttest: 2.2884721\tbest: 2.2884721 (9)\ttotal: 758ms\tremaining: 75.8ms\n",
      "10:\tlearn: 2.2869865\ttest: 2.2870713\tbest: 2.2870713 (10)\ttotal: 825ms\tremaining: 0us\n",
      "\n",
      "bestTest = 2.287071332\n",
      "bestIteration = 10\n",
      "\n"
     ]
    },
    {
     "name": "stderr",
     "output_type": "stream",
     "text": [
      "[I 2024-02-26 23:53:18,630] Trial 39 finished with value: 0.6488333333333334 and parameters: {'num_trees': 11, 'learning_rate': 0.00038585701010367455}. Best is trial 10 with value: 0.5960555555555556.\n"
     ]
    }
   ],
   "source": [
    "import optuna\n",
    "from catboost import CatBoostClassifier\n",
    "\n",
    "# 1. Define an objective function to be maximized.\n",
    "def objective(trial):\n",
    "\n",
    "    # 2. Suggest values for the hyperparameters using a trial object.\n",
    "\n",
    "    # Boosting hyperparameters\n",
    "    num_trees =  trial.suggest_int('num_trees', 1, 100, step=5)\n",
    "    learning_rate = trial.suggest_float('learning_rate', 1e-5, 1e-1, log=True)\n",
    "\n",
    "    classifier_obj = CatBoostClassifier(num_trees=num_trees, \n",
    "                                        learning_rate=learning_rate,\n",
    "                                        loss_function='MultiClass')\n",
    "    \n",
    "    classifier_obj.fit(x_train_cb, y_train_cb, eval_set=(x_val_cb, y_val_cb))\n",
    "    score = classifier_obj.score(x_val_cb, y_val_cb)\n",
    "    return score\n",
    "\n",
    "# 3. Create a study object and optimize the objective function.\n",
    "study = optuna.create_study()\n",
    "study.optimize(objective, n_trials=40)"
   ]
  },
  {
   "cell_type": "code",
   "execution_count": 26,
   "metadata": {},
   "outputs": [
    {
     "name": "stdout",
     "output_type": "stream",
     "text": [
      "0:\tlearn: 2.3025329\ttest: 2.3025333\tbest: 2.3025333 (0)\ttotal: 86.6ms\tremaining: 0us\n",
      "\n",
      "bestTest = 2.302533336\n",
      "bestIteration = 0\n",
      "\n",
      "CPU times: user 1.69 s, sys: 47 ms, total: 1.74 s\n",
      "Wall time: 893 ms\n"
     ]
    },
    {
     "data": {
      "text/plain": [
       "<catboost.core.CatBoostClassifier at 0x14dacfd50>"
      ]
     },
     "execution_count": 26,
     "metadata": {},
     "output_type": "execute_result"
    }
   ],
   "source": [
    "%%time\n",
    "\n",
    "catboost = CatBoostClassifier(learning_rate=study.best_params[\"learning_rate\"],\n",
    "                              num_trees=study.best_params[\"num_trees\"],\n",
    "                              loss_function='MultiClass',\n",
    "                              verbose=True)\n",
    "\n",
    "catboost.fit(x_train_cb, y_train_cb, eval_set=(x_val_cb, y_val_cb))"
   ]
  },
  {
   "cell_type": "code",
   "execution_count": 27,
   "metadata": {},
   "outputs": [
    {
     "name": "stdout",
     "output_type": "stream",
     "text": [
      "Evaluating CatBoost\n",
      "Train accuracy: 0.5984047619047619\n",
      "Test accuracy: 0.585\n"
     ]
    }
   ],
   "source": [
    "evaluate_model(catboost, \"CatBoost\", x_train_cb, y_train_cb, x_test_cb, y_test)"
   ]
  },
  {
   "cell_type": "markdown",
   "metadata": {},
   "source": [
    "**Выводы:**\n",
    "\n",
    "- Без нормализации SVM не сходится\n",
    "- В нашей задаче ядровый оказался значительно лучше линейного (0.86 против 0.81)\n",
    "- RFF с логрегом на той же урезанной нормализованной выборке учится более, чем в 5 раз быстрее просто линейного SVM и дает качество 0.84 - profit\n",
    "- RFF с линейным svm учится больше 2х минут - в 2 раза дольше просто svm, и дает качество идентичное ядровому - 0.86 - почти profit: приближение хорошее, а вот скорость такая себе\n",
    "- RFF с логрегом на всем датасете учится всего 20 секунд (в 2 раза быстрее ядрового svm) и дает качество 0.86 - вот он, наш идеал!\n",
    "- Сделать CatBoost лучше 0.64 я не смог - стало только хуже. Ну ничего, мы же не его сюда тестировать пришли - у него свой минус в виде долго перебора параметров"
   ]
  },
  {
   "cell_type": "markdown",
   "metadata": {
    "id": "e6umjhWuK-hV"
   },
   "source": [
    "__Задание 3. (2 балла)__\n",
    "\n",
    "Проведите эксперименты:\n",
    "1. Помогает ли предварительное понижение размерности с помощью PCA? \n",
    "2. Как зависит итоговое качество от n_features? Выходит ли оно на плато при росте n_features?\n",
    "3. Важно ли, какую модель обучать — логистическую регрессию или SVM?"
   ]
  },
  {
   "cell_type": "code",
   "execution_count": 28,
   "metadata": {
    "id": "c2QIHIMbK-hW"
   },
   "outputs": [
    {
     "name": "stdout",
     "output_type": "stream",
     "text": [
      "Evaluating RFF (logreg, no pca)\n",
      "Train accuracy: 0.18641666666666667\n",
      "Test accuracy: 0.1061\n"
     ]
    }
   ],
   "source": [
    "rff_no_pca = RFFPipeline(use_PCA=False)\n",
    "rff_no_pca.fit(x_train, y_train)\n",
    "evaluate_model(rff_no_pca, \"RFF (logreg, no pca)\", x_train, y_train, x_test, y_test)"
   ]
  },
  {
   "cell_type": "markdown",
   "metadata": {},
   "source": [
    "Ну и жуть - нужна нормализация"
   ]
  },
  {
   "cell_type": "code",
   "execution_count": 29,
   "metadata": {},
   "outputs": [
    {
     "name": "stderr",
     "output_type": "stream",
     "text": [
      "/usr/local/lib/python3.11/site-packages/sklearn/linear_model/_logistic.py:460: ConvergenceWarning: lbfgs failed to converge (status=1):\n",
      "STOP: TOTAL NO. of ITERATIONS REACHED LIMIT.\n",
      "\n",
      "Increase the number of iterations (max_iter) or scale the data as shown in:\n",
      "    https://scikit-learn.org/stable/modules/preprocessing.html\n",
      "Please also refer to the documentation for alternative solver options:\n",
      "    https://scikit-learn.org/stable/modules/linear_model.html#logistic-regression\n",
      "  n_iter_i = _check_optimize_result(\n"
     ]
    },
    {
     "name": "stdout",
     "output_type": "stream",
     "text": [
      "Evaluating RFF (logreg, no pca, scaled)\n",
      "Train accuracy: 0.9176\n",
      "Test accuracy: 0.849\n"
     ]
    }
   ],
   "source": [
    "rff_no_pca = RFFPipeline(use_PCA=False)\n",
    "rff_no_pca.fit(x_train_sample, y_train_sample)\n",
    "evaluate_model(rff_no_pca, \"RFF (logreg, no pca, scaled)\", x_train_sample, y_train_sample, x_test_scaled, y_test)"
   ]
  },
  {
   "cell_type": "markdown",
   "metadata": {},
   "source": [
    "Неплохо, но хуже, при этом в скорости мы проиграли - плохое изменения"
   ]
  },
  {
   "cell_type": "code",
   "execution_count": 33,
   "metadata": {},
   "outputs": [
    {
     "data": {
      "image/png": "[encoded data removed]",
      "text/plain": [
       "<Figure size 640x480 with 1 Axes>"
      ]
     },
     "metadata": {},
     "output_type": "display_data"
    }
   ],
   "source": [
    "import matplotlib.pyplot as plt\n",
    "from IPython.display import clear_output\n",
    "\n",
    "train_acc = []\n",
    "test_acc = []\n",
    "\n",
    "n_features_arr = [50, 100, 250, 500, 1000, 1500, 2000]\n",
    "\n",
    "for n_features in n_features_arr:\n",
    "    rff = RFFPipeline(n_features=n_features)\n",
    "    rff.fit(x_train, y_train)\n",
    "\n",
    "    train_acc.append(accuracy_score(y_train, rff.predict(x_train)))\n",
    "    test_acc.append(accuracy_score(y_test, rff.predict(x_test)))\n",
    "\n",
    "clear_output()\n",
    "plt.plot(n_features_arr, train_acc, label=\"Train\")\n",
    "plt.plot(n_features_arr, test_acc, label=\"Test\")\n",
    "plt.title(\"RFF accuracy with various n_features\")\n",
    "plt.legend()\n",
    "plt.ylabel(\"Accuracy\")\n",
    "plt.xlabel(\"n_features\")\n",
    "plt.show()"
   ]
  },
  {
   "cell_type": "markdown",
   "metadata": {},
   "source": [
    "Видно, что на плато модель выходит, после 1000, а минимальное адекватное качество (>0.85) достигается на 250. Скорее всего, там просто мало фичей, мы тут все же картинки классифицируем, 100 фичей - как-то несерьезно. А делать сильно больше исходной - бессмысленно, ничего нового там не будет, на 1000 как будто все возможные частоты косинуса и так переберем"
   ]
  },
  {
   "cell_type": "markdown",
   "metadata": {
    "id": "CJqXVuasK-hW"
   },
   "source": [
    "### Бонус"
   ]
  },
  {
   "cell_type": "markdown",
   "metadata": {
    "id": "QVDWHCdrK-hX"
   },
   "source": [
    "__Задание 4. (Максимум 2 балла)__\n",
    "\n",
    "Как вы, должно быть, помните с курса МО-1, многие алгоритмы машинного обучения работают лучше, если признаки данных некоррелированы. Оказывается, что для RFF существует модификация, позволяющая получать ортогональные случайные признаки (Orthogonal Random Features, ORF). Об этом методе можно прочитать в [статье](https://proceedings.neurips.cc/paper/2016/file/53adaf494dc89ef7196d73636eb2451b-Paper.pdf). Реализуйте класс для вычисления ORF по аналогии с основным заданием. Обратите внимание, что ваш класс должен уметь работать со случаем n_features > new_dim (в статье есть замечание на этот счет). Проведите эксперименты, сравнивающие RFF и ORF, сделайте выводы."
   ]
  },
  {
   "cell_type": "code",
   "execution_count": null,
   "metadata": {
    "id": "HSxvGI9iK-hX"
   },
   "outputs": [],
   "source": [
    "# Your code here: (￣▽￣)/♫•*¨*•.¸¸♪"
   ]
  },
  {
   "cell_type": "markdown",
   "metadata": {
    "id": "4pc7-1jmK-hY"
   },
   "source": [
    "__Задание 5. (Максимум 1 балл)__\n",
    "\n",
    "Поэкспериментируйте с функциями для вычисления новых случайных признаков. Не обязательно использовать косинус от скалярного произведения — можно брать знак от него, хэш и т.д. Придумайте побольше вариантов для генерации признаков и проверьте, не получается ли с их помощью добиваться более высокого качества. Также можете попробовать другой классификатор поверх случайных признаков, сравните результаты."
   ]
  },
  {
   "cell_type": "code",
   "execution_count": null,
   "metadata": {
    "id": "dWj-O2vjK-hY"
   },
   "outputs": [],
   "source": [
    "# Your code here: (￣▽￣)/♫•*¨*•.¸¸♪"
   ]
  },
  {
   "cell_type": "markdown",
   "metadata": {},
   "source": [
    "__Задание 6. (Максимум 1 балл)__\n",
    "\n",
    "Реализуйте класс ядровой Ridge регрессии (Лекция 13, $\\S 1.2$), для оптимизации используте градиентный спуск, а не аналитическую формулу. Также подумайте о том, как в формулах правильно учесть свободный коэффициент. Затем адаптируйте вашу реализацию RFF под задачу регрессии. Сравните вашу ядровую регрессию и RFF на синтетических данных."
   ]
  },
  {
   "cell_type": "markdown",
   "metadata": {},
   "source": [
    "Функция потерь: \n",
    "$$\n",
    "Q(w) = \\frac{1}{2} ||\\Phi \\Phi^T w - y||^2 + \\frac{\\lambda}{2} w^T \\Phi \\Phi^T w \\rightarrow \\min_w,\n",
    "$$\n",
    "где $\\Phi \\Phi^T = K$, $K = (k(x_i, x_j))_{i, j = 1}^{\\ell}$.\n",
    "\n",
    "Предсказание: \n",
    "$\n",
    "y(x) = k(x)^T w,\n",
    "$\n",
    "где $k(x)$ — вектор функций ядра от пар объектов $(x, x_i)_{i=1}^{\\ell}$.\n",
    "\n",
    "Вы можете изменять представленный ниже шаблон по своему усмотрению."
   ]
  },
  {
   "cell_type": "code",
   "execution_count": null,
   "metadata": {},
   "outputs": [],
   "source": [
    "import numpy as np\n",
    "from sklearn.base import RegressorMixin\n",
    "from sklearn.gaussian_process.kernels import RBF\n",
    "\n",
    "class KernelRidgeRegression(RegressorMixin):\n",
    "    \"\"\"\n",
    "    Kernel Ridge regression class\n",
    "    \"\"\"\n",
    "\n",
    "    def __init__(self,         \n",
    "        lr=0.01,\n",
    "        regularization=1.,\n",
    "        tolerance=1e-2,\n",
    "        max_iter=1000,\n",
    "        batch_size=64,\n",
    "        kernel_scale=1.\n",
    "    ):\n",
    "        \"\"\"\n",
    "        :param lr: learning rate\n",
    "        :param regularization: regularization coefficient\n",
    "        :param tolerance: stopping criterion for square of euclidean norm of weight difference\n",
    "        :param max_iter: stopping criterion for iterations\n",
    "        :param batch_size: size of the batches used in gradient descent steps\n",
    "        :parame kernel_scale: length scale in RBF kernel formula\n",
    "        \"\"\"\n",
    "\n",
    "        self.lr: float = lr\n",
    "        self.regularization: float = regularization\n",
    "        self.w: np.ndarray | None = None\n",
    "\n",
    "        self.tolerance: float = tolerance\n",
    "        self.max_iter: int = max_iter\n",
    "        self.batch_size: int = batch_size\n",
    "        self.loss_history: list[float] = []\n",
    "        self.kernel = RBF(kernel_scale)\n",
    "\n",
    "    def calc_loss(self, x: np.ndarray, y: np.ndarray) -> float:\n",
    "        \"\"\"\n",
    "        Calculating loss for x and y dataset\n",
    "        :param x: features array\n",
    "        :param y: targets array\n",
    "        \"\"\"\n",
    "        raise NotImplementedError\n",
    "\n",
    "    def calc_grad(self, x: np.ndarray, y: np.ndarray) -> float:\n",
    "        \"\"\"\n",
    "        Calculating gradient for x and y dataset\n",
    "        :param x: features array\n",
    "        :param y: targets array\n",
    "        \"\"\"\n",
    "        raise NotImplementedError\n",
    "\n",
    "    def fit(self, x: np.ndarray, y: np.ndarray) -> \"KernelRidgeRegression\":\n",
    "        \"\"\"\n",
    "        Fitting weights for x and y dataset\n",
    "        :param x: features array\n",
    "        :param y: targets array\n",
    "        :return: self\n",
    "        \"\"\"\n",
    "        raise NotImplementedError\n",
    "\n",
    "    def predict(self, x: np.ndarray) -> np.ndarray:\n",
    "        \"\"\"\n",
    "        Predicting targets for x dataset\n",
    "        :param x: features array\n",
    "        :return: prediction: np.ndarray\n",
    "        \"\"\"\n",
    "        raise NotImplementedError"
   ]
  },
  {
   "cell_type": "code",
   "execution_count": null,
   "metadata": {},
   "outputs": [],
   "source": []
  }
 ],
 "metadata": {
  "colab": {
   "collapsed_sections": [],
   "name": "homework-practice-08-random-features.ipynb",
   "provenance": []
  },
  "kernelspec": {
   "display_name": "Python 3 (ipykernel)",
   "language": "python",
   "name": "python3"
  },
  "language_info": {
   "codemirror_mode": {
    "name": "ipython",
    "version": 3
   },
   "file_extension": ".py",
   "mimetype": "text/x-python",
   "name": "python",
   "nbconvert_exporter": "python",
   "pygments_lexer": "ipython3",
   "version": "3.11.5"
  }
 },
 "nbformat": 4,
 "nbformat_minor": 1
}
